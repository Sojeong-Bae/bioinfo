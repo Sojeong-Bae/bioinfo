{
  "cells": [
    {
      "cell_type": "markdown",
      "metadata": {
        "id": "view-in-github",
        "colab_type": "text"
      },
      "source": [
        "<a href=\"https://colab.research.google.com/github/Sojeong-Bae/bioinfo/blob/main/CoLab_TermProj_2022_3_ipynb_txt.ipynb\" target=\"_parent\"><img src=\"https://colab.research.google.com/assets/colab-badge.svg\" alt=\"Open In Colab\"/></a>"
      ]
    },
    {
      "cell_type": "markdown",
      "metadata": {
        "id": "qSmNiRknPfSy"
      },
      "source": [
        "# 생물정보학 및 실습 1 - Term Project용 Mission 3 환경 셋업\n",
        "\n",
        "```\n",
        "생물정보학 및 실습 1\n",
        "서울대학교 협동과정 생물정보학전공 2022년 1학기\n",
        "\n",
        "이 노트북은 Creative Commons BY-SA 조건으로 재사용 가능합니다.\n",
        "장혜식 <hyeshik@snu.ac.kr>, 서울대학교 생명과학부\n",
        "```\n",
        "\n",
        "이 노트북은 Google Colab을 이용해서 Term Project를 할 수 있도록 환경을 준비해 줍니다. 터미널 사용이 원활하지 않은 상태이고, 데이터를 오랫동안 보관하기 어렵기 때문에 되도록 개인용 컴퓨터에서 [Anaconda](https://www.anaconda.com/)나 [JupyterLab](https://jupyterlab.readthedocs.io/en/stable/) 등을 설치하고 사용하시는 것이 편하지만, 개인용 컴퓨터 사양이 부족한 경우에는 Google CoLab을 사용할 수도 있습니다. 개인용 컴퓨터를 쓸 때는 Windows에서는 [WSL2](https://docs.microsoft.com/en-us/windows/wsl/install-win10)를 쓰시면 리눅스 커맨드라인 환경을 쓸 수 있습니다. Google Colab은 창을 닫은 후 90분 후, 또는 창을 처음 열고 12시간 후에 환경을 닫아버리기 때문에 매번 실습할 때마다 새로 셋업이 필요합니다. `Runtime->Run All`을 실행해서 전체를 한 번 실행하시면 준비됩니다. 모든 것이 잘 안 되고 뭔가 꼬인 느낌이 강하게 들 때는 `Runtime->Factory reset runtime`을 누르고 새로 시작하시면 될 수도 있습니다.\n"
      ]
    },
    {
      "cell_type": "markdown",
      "metadata": {
        "id": "ojAx9SdvPfSz"
      },
      "source": [
        "## Google Drive 마운트\n",
        "\n",
        "데이터 파일들을 불러오고 저장하기 위해서 Google Drive를 연결합니다. **이번엔 스크립트 파일을 편집해야 하기 때문에 Google Drive 마운트를 하지 않으면 vim등 콘솔에서 쓸 수 있는 에디터를 쓰셔야 합니다.** 화면에 나오는 주소를 눌러서 인증하고 인증 코드를 그 아래에 입력하세요. 그러면 `/contents/drive/MyDrive`에서 자신의 Drive 최상단 폴더가 보입니다. Google CoLab에서 접속하지 않고, 본인 컴퓨터 또는 연구실 워크스테이션 등 다른 컴퓨터를 쓰시는 경우에는 저장공간이 충분하므로 이 부분은 생략하고 지나갑니다."
      ]
    },
    {
      "cell_type": "code",
      "execution_count": 24,
      "metadata": {
        "colab": {
          "base_uri": "https://localhost:8080/"
        },
        "id": "SbkVVS-CPfSz",
        "outputId": "a8d1186d-4cab-42c6-cc92-55a9ab11baba"
      },
      "outputs": [
        {
          "output_type": "stream",
          "name": "stdout",
          "text": [
            "Drive already mounted at /content/drive; to attempt to forcibly remount, call drive.mount(\"/content/drive\", force_remount=True).\n"
          ]
        }
      ],
      "source": [
        "from google.colab import drive\n",
        "drive.mount('/content/drive')"
      ]
    },
    {
      "cell_type": "markdown",
      "metadata": {
        "id": "BjtCUaGSPfSz"
      },
      "source": [
        "## 실습용 Bioconda 환경 설치하기\n",
        "Google CoLab에서 접속하지 않고, 본인 컴퓨터 또는 연구실 워크스테이션 등 다른 컴퓨터를 쓰시는 경우에는 따로 실습용 [Bioconda](https://bioconda.github.io/) 환경을 구축해서 이 노트북을 그 환경 안에서 띄우시면 됩니다.\n",
        "\n",
        "CoLab을 쓰시는 분들은 다음에 따라서 실습용 프로그램들을 쉽게 설치할 수 있도록 [Bioconda](https://bioconda.github.io/) 환경을 만듭니다. 실행하고 진행상황을 관찰하다가 에러로 보이는 것이 있으면 잘 읽어보고 해결합니다.\n",
        "\n",
        "파이썬 모듈들은 Colab쪽의 파이썬 인터프리터를 바꿀 수 없기 때문에 Conda에 설치하더라도 사용하기 어렵습니다. 파이썬 모듈은 `pip` 명령어로 설치하시면 Colab에서 불러와서 사용할 수 있습니다.\n",
        "\n",
        "환경 초기화에 관련된 스크립트는 [GitHub 프로젝트](https://github.com/hyeshik/colab-biolab)에 있습니다."
      ]
    },
    {
      "cell_type": "code",
      "execution_count": 25,
      "metadata": {
        "colab": {
          "base_uri": "https://localhost:8080/"
        },
        "id": "g-vfGi3ePfSz",
        "outputId": "e7f42a01-6524-4731-c4a2-9c60446f42cc"
      },
      "outputs": [
        {
          "output_type": "stream",
          "name": "stdout",
          "text": [
            "\b\b| \b\b/ \b\b- \b\b\\ \b\b| \b\b/ \b\b- \b\b\\ \b\b| \b\b/ \b\b- \b\b\\ \b\b| \b\b/ \b\b- \b\b\\ \b\b| \b\b/ \b\b- \b\b\\ \b\b| \b\b/ \b\b- \b\b\\ \b\b| \b\b/ \b\b- \b\b\\ \b\b| \b\b/ \b\b- \b\b\\ \b\b| \b\b/ \b\b- \b\b\\ \b\b| \b\b/ \b\b- \b\b\\ \b\b| \b\bdone\n",
            "Executing transaction: - \b\b\\ \b\b| \b\b/ \b\b- \b\b\\ \b\b| \b\b/ \b\b- \b\b\\ \b\b| \b\b/ \b\b- \b\b\\ \b\b| \b\b/ \b\b- \b\b\\ \b\b| \b\b/ \b\b- \b\b\\ \b\b| \b\b/ \b\b- \b\b\\ \b\b| \b\b/ \b\b- \b\b\\ \b\b| \b\b/ \b\b- \b\b\\ \b\b| \b\b/ \b\b- \b\b\\ \b\b| \b\b/ \b\b- \b\b\\ \b\b| \b\b/ \b\b- \b\b\\ \b\b| \b\b/ \b\b- \b\b\\ \b\b| \b\b/ \b\b- \b\b\\ \b\b| \b\b/ \b\b- \b\b\\ \b\b| \b\b/ \b\b- \b\b\\ \b\b| \b\b/ \b\b- \b\b\\ \b\b| \b\b/ \b\b- \b\b\\ \b\b| \b\b/ \b\b- \b\b\\ \b\b| \b\bdone\n",
            "#\n",
            "# To activate this environment, use\n",
            "#\n",
            "#     $ conda activate lab\n",
            "#\n",
            "# To deactivate an active environment, use\n",
            "#\n",
            "#     $ conda deactivate\n",
            "\n",
            "Activated conda environment `lab'!\n",
            "fatal: destination path 'colab-biolab' already exists and is not an empty directory.\n",
            "./\n",
            "./root/\n",
            "./root/.bashrc.biolab\n",
            "./root/.bin.priority/\n",
            "./root/.bin.priority/pip\n",
            "./root/.bin.priority/pip2\n",
            "./root/.bin.priority/pip3\n",
            "./root/.condarc\n",
            "./root/.profile\n",
            "./root/.tmux.conf\n",
            "tar: ./root: file changed as we read it\n",
            "./root/.vimrc\n",
            "PREFIX=/root/conda\n",
            "Unpacking payload ...\n",
            "Collecting package metadata (current_repodata.json): - \b\b\\ \b\b| \b\bdone\n",
            "Solving environment: - \b\b\\ \b\b| \b\b/ \b\b- \b\bdone\n",
            "\n",
            "## Package Plan ##\n",
            "\n",
            "  environment location: /root/conda\n",
            "\n",
            "  added / updated specs:\n",
            "    - _libgcc_mutex==0.1=main\n",
            "    - _openmp_mutex==4.5=1_gnu\n",
            "    - brotlipy==0.7.0=py39h27cfd23_1003\n",
            "    - ca-certificates==2021.10.26=h06a4308_2\n",
            "    - certifi==2021.10.8=py39h06a4308_2\n",
            "    - cffi==1.15.0=py39hd667e15_1\n",
            "    - charset-normalizer==2.0.4=pyhd3eb1b0_0\n",
            "    - conda-content-trust==0.1.1=pyhd3eb1b0_0\n",
            "    - conda-package-handling==1.7.3=py39h27cfd23_1\n",
            "    - conda==4.11.0=py39h06a4308_0\n",
            "    - cryptography==36.0.0=py39h9ce1e76_0\n",
            "    - idna==3.3=pyhd3eb1b0_0\n",
            "    - ld_impl_linux-64==2.35.1=h7274673_9\n",
            "    - libffi==3.3=he6710b0_2\n",
            "    - libgcc-ng==9.3.0=h5101ec6_17\n",
            "    - libgomp==9.3.0=h5101ec6_17\n",
            "    - libstdcxx-ng==9.3.0=hd4cf53a_17\n",
            "    - ncurses==6.3=h7f8727e_2\n",
            "    - openssl==1.1.1m=h7f8727e_0\n",
            "    - pip==21.2.4=py39h06a4308_0\n",
            "    - pycosat==0.6.3=py39h27cfd23_0\n",
            "    - pycparser==2.21=pyhd3eb1b0_0\n",
            "    - pyopenssl==21.0.0=pyhd3eb1b0_1\n",
            "    - pysocks==1.7.1=py39h06a4308_0\n",
            "    - python==3.9.7=h12debd9_1\n",
            "    - readline==8.1.2=h7f8727e_1\n",
            "    - requests==2.27.1=pyhd3eb1b0_0\n",
            "    - ruamel_yaml==0.15.100=py39h27cfd23_0\n",
            "    - setuptools==58.0.4=py39h06a4308_0\n",
            "    - six==1.16.0=pyhd3eb1b0_0\n",
            "    - sqlite==3.37.0=hc218d9a_0\n",
            "    - tk==8.6.11=h1ccaba5_0\n",
            "    - tqdm==4.62.3=pyhd3eb1b0_1\n",
            "    - tzdata==2021e=hda174b7_0\n",
            "    - urllib3==1.26.7=pyhd3eb1b0_0\n",
            "    - wheel==0.37.1=pyhd3eb1b0_0\n",
            "    - xz==5.2.5=h7b6447c_0\n",
            "    - yaml==0.2.5=h7b6447c_0\n",
            "    - zlib==1.2.11=h7f8727e_4\n",
            "\n",
            "\n",
            "The following packages will be DOWNGRADED:\n",
            "\n",
            "  ca-certificates                      2022.3.29-h06a4308_1 --> 2021.10.26-h06a4308_2\n",
            "  conda                               4.12.0-py39h06a4308_0 --> 4.11.0-py39h06a4308_0\n",
            "  conda-package-han~                   1.8.1-py39h7f8727e_0 --> 1.7.3-py39h27cfd23_1\n",
            "  openssl                                 1.1.1n-h7f8727e_0 --> 1.1.1m-h7f8727e_0\n",
            "  pyopenssl                             22.0.0-pyhd3eb1b0_0 --> 21.0.0-pyhd3eb1b0_1\n",
            "  python                                  3.9.12-h12debd9_0 --> 3.9.7-h12debd9_1\n",
            "  setuptools                          61.2.0-py39h06a4308_0 --> 58.0.4-py39h06a4308_0\n",
            "  six                                   1.16.0-pyhd3eb1b0_1 --> 1.16.0-pyhd3eb1b0_0\n",
            "  sqlite                                  3.38.2-hc218d9a_0 --> 3.37.0-hc218d9a_0\n",
            "  tqdm                                  4.63.0-pyhd3eb1b0_0 --> 4.62.3-pyhd3eb1b0_1\n",
            "  tzdata                                   2022a-hda174b7_0 --> 2021e-hda174b7_0\n",
            "  urllib3                               1.26.8-pyhd3eb1b0_0 --> 1.26.7-pyhd3eb1b0_0\n",
            "  zlib                                    1.2.12-h7f8727e_1 --> 1.2.11-h7f8727e_4\n",
            "\n",
            "\n",
            "Preparing transaction: | \b\b/ \b\bdone\n",
            "Executing transaction: \\ \b\b| \b\b/ \b\b- \b\b\\ \b\b| \b\b/ \b\b- \b\b\\ \b\b| \b\b/ \b\b- \b\b\\ \b\b| \b\b/ \b\bdone\n",
            "installation finished.\n",
            "WARNING:\n",
            "    You currently have a PYTHONPATH environment variable set. This may cause\n",
            "    unexpected behavior when running the Python interpreter in Miniconda3.\n",
            "    For best results, please verify that your PYTHONPATH only points to\n",
            "    directories of packages that are compatible with the Python interpreter\n",
            "    in Miniconda3: /root/conda\n",
            "Collecting package metadata (current_repodata.json): - \b\b\\ \b\b| \b\b/ \b\b- \b\b\\ \b\b| \b\b/ \b\b- \b\b\\ \b\b| \b\b/ \b\b- \b\b\\ \b\b| \b\b/ \b\b- \b\b\\ \b\b| \b\b/ \b\b- \b\b\\ \b\b| \b\b/ \b\b- \b\b\\ \b\b| \b\b/ \b\b- \b\b\\ \b\b| \b\bdone\n",
            "Solving environment: - \b\b\\ \b\b| \b\b/ \b\b- \b\b\\ \b\b| \b\b/ \b\b- \b\b\\ \b\b| \b\b/ \b\b- \b\b\\ \b\b| \b\b/ \b\b- \b\b\\ \b\b| \b\b/ \b\b- \b\b\\ \b\b| \b\b/ \b\b- \b\b\\ \b\b| \b\b/ \b\b- \b\b\\ \b\b| \b\b/ \b\b- \b\b\\ \b\b| \b\b/ \b\b- \b\b\\ \b\b| \b\b/ \b\b- \b\b\\ \b\b| \b\b/ \b\b- \b\b\\ \b\b| \b\b/ \b\b- \b\b\\ \b\b| \b\b/ \b\b- \b\b\\ \b\b| \b\b/ \b\b- \b\b\\ \b\b| \b\b/ \b\b- \b\b\\ \b\b| \b\b/ \b\b- \b\b\\ \b\b| \b\b/ \b\b- \b\b\\ \b\b| \b\b/ \b\b- \b\b\\ \b\b| \b\b/ \b\b- \b\b\\ \b\b| \b\bdone\n",
            "\n",
            "\n",
            "==> WARNING: A newer version of conda exists. <==\n",
            "  current version: 4.11.0\n",
            "  latest version: 4.12.0\n",
            "\n",
            "Please update conda by running\n",
            "\n",
            "    $ conda update -n base -c defaults conda\n",
            "\n",
            "\n",
            "\n",
            "## Package Plan ##\n",
            "\n",
            "  environment location: /root/conda/envs/lab\n",
            "\n",
            "  added / updated specs:\n",
            "    - bedtools\n",
            "    - biopython\n",
            "    - bwa\n",
            "    - cython\n",
            "    - matplotlib\n",
            "    - numpy\n",
            "    - pandas\n",
            "    - pip\n",
            "    - pysam\n",
            "    - samtools\n",
            "    - scipy\n",
            "    - star\n",
            "\n",
            "\n",
            "The following NEW packages will be INSTALLED:\n",
            "\n",
            "  _libgcc_mutex      conda-forge/linux-64::_libgcc_mutex-0.1-conda_forge\n",
            "  _openmp_mutex      conda-forge/linux-64::_openmp_mutex-4.5-2_gnu\n",
            "  alsa-lib           conda-forge/linux-64::alsa-lib-1.2.3.2-h166bdaf_0\n",
            "  attr               conda-forge/linux-64::attr-2.5.1-h166bdaf_0\n",
            "  bedtools           bioconda/linux-64::bedtools-2.30.0-h468198e_3\n",
            "  biopython          conda-forge/linux-64::biopython-1.79-py39h3811e60_1\n",
            "  brotli             conda-forge/linux-64::brotli-1.0.9-h166bdaf_7\n",
            "  brotli-bin         conda-forge/linux-64::brotli-bin-1.0.9-h166bdaf_7\n",
            "  bwa                bioconda/linux-64::bwa-0.7.17-h7132678_9\n",
            "  bzip2              conda-forge/linux-64::bzip2-1.0.8-h7f98852_4\n",
            "  c-ares             conda-forge/linux-64::c-ares-1.18.1-h7f98852_0\n",
            "  ca-certificates    conda-forge/linux-64::ca-certificates-2021.10.8-ha878542_0\n",
            "  certifi            conda-forge/linux-64::certifi-2021.10.8-py39hf3d152e_2\n",
            "  cycler             conda-forge/noarch::cycler-0.11.0-pyhd8ed1ab_0\n",
            "  cython             conda-forge/linux-64::cython-0.29.28-py39h5a03fae_2\n",
            "  dbus               conda-forge/linux-64::dbus-1.13.6-h5008d03_3\n",
            "  expat              conda-forge/linux-64::expat-2.4.8-h27087fc_0\n",
            "  fftw               conda-forge/linux-64::fftw-3.3.10-nompi_h77c792f_102\n",
            "  font-ttf-dejavu-s~ conda-forge/noarch::font-ttf-dejavu-sans-mono-2.37-hab24e00_0\n",
            "  font-ttf-inconsol~ conda-forge/noarch::font-ttf-inconsolata-3.000-h77eed37_0\n",
            "  font-ttf-source-c~ conda-forge/noarch::font-ttf-source-code-pro-2.038-h77eed37_0\n",
            "  font-ttf-ubuntu    conda-forge/noarch::font-ttf-ubuntu-0.83-hab24e00_0\n",
            "  fontconfig         conda-forge/linux-64::fontconfig-2.14.0-h8e229c2_0\n",
            "  fonts-conda-ecosy~ conda-forge/noarch::fonts-conda-ecosystem-1-0\n",
            "  fonts-conda-forge  conda-forge/noarch::fonts-conda-forge-1-0\n",
            "  fonttools          conda-forge/linux-64::fonttools-4.33.3-py39hb9d737c_0\n",
            "  freetype           conda-forge/linux-64::freetype-2.10.4-h0708190_1\n",
            "  gettext            conda-forge/linux-64::gettext-0.19.8.1-h73d1719_1008\n",
            "  giflib             conda-forge/linux-64::giflib-5.2.1-h36c2ea0_2\n",
            "  gst-plugins-base   conda-forge/linux-64::gst-plugins-base-1.20.2-hcf0ee16_0\n",
            "  gstreamer          conda-forge/linux-64::gstreamer-1.20.2-hd4edc92_1\n",
            "  htslib             bioconda/linux-64::htslib-1.15.1-h9753748_0\n",
            "  icu                conda-forge/linux-64::icu-70.1-h27087fc_0\n",
            "  jack               conda-forge/linux-64::jack-1.9.18-hfd4fe87_1001\n",
            "  jbig               conda-forge/linux-64::jbig-2.1-h7f98852_2003\n",
            "  jpeg               conda-forge/linux-64::jpeg-9e-h166bdaf_1\n",
            "  json-c             conda-forge/linux-64::json-c-0.15-h98cffda_0\n",
            "  keyutils           conda-forge/linux-64::keyutils-1.6.1-h166bdaf_0\n",
            "  kiwisolver         conda-forge/linux-64::kiwisolver-1.4.2-py39hf939315_1\n",
            "  krb5               conda-forge/linux-64::krb5-1.19.3-h3790be6_0\n",
            "  lcms2              conda-forge/linux-64::lcms2-2.12-hddcbb42_0\n",
            "  ld_impl_linux-64   conda-forge/linux-64::ld_impl_linux-64-2.36.1-hea4e1c9_2\n",
            "  lerc               conda-forge/linux-64::lerc-3.0-h9c3ff4c_0\n",
            "  libblas            conda-forge/linux-64::libblas-3.9.0-14_linux64_openblas\n",
            "  libbrotlicommon    conda-forge/linux-64::libbrotlicommon-1.0.9-h166bdaf_7\n",
            "  libbrotlidec       conda-forge/linux-64::libbrotlidec-1.0.9-h166bdaf_7\n",
            "  libbrotlienc       conda-forge/linux-64::libbrotlienc-1.0.9-h166bdaf_7\n",
            "  libcap             conda-forge/linux-64::libcap-2.51-h166bdaf_1\n",
            "  libcblas           conda-forge/linux-64::libcblas-3.9.0-14_linux64_openblas\n",
            "  libclang           conda-forge/linux-64::libclang-14.0.3-default_h2e3cab8_0\n",
            "  libclang13         conda-forge/linux-64::libclang13-14.0.3-default_h3a83d3e_0\n",
            "  libcups            conda-forge/linux-64::libcups-2.3.3-hf5a7f15_1\n",
            "  libcurl            conda-forge/linux-64::libcurl-7.83.1-h7bff187_0\n",
            "  libdb              conda-forge/linux-64::libdb-6.2.32-h9c3ff4c_0\n",
            "  libdeflate         conda-forge/linux-64::libdeflate-1.10-h7f98852_0\n",
            "  libedit            conda-forge/linux-64::libedit-3.1.20191231-he28a2e2_2\n",
            "  libev              conda-forge/linux-64::libev-4.33-h516909a_1\n",
            "  libevent           conda-forge/linux-64::libevent-2.1.10-h9b69904_4\n",
            "  libffi             conda-forge/linux-64::libffi-3.4.2-h7f98852_5\n",
            "  libflac            conda-forge/linux-64::libflac-1.3.4-h27087fc_0\n",
            "  libgcc-ng          conda-forge/linux-64::libgcc-ng-12.1.0-h8d9b700_16\n",
            "  libgfortran-ng     conda-forge/linux-64::libgfortran-ng-12.1.0-h69a702a_16\n",
            "  libgfortran5       conda-forge/linux-64::libgfortran5-12.1.0-hdcd56e2_16\n",
            "  libglib            conda-forge/linux-64::libglib-2.70.2-h174f98d_4\n",
            "  libgomp            conda-forge/linux-64::libgomp-12.1.0-h8d9b700_16\n",
            "  libiconv           conda-forge/linux-64::libiconv-1.16-h516909a_0\n",
            "  liblapack          conda-forge/linux-64::liblapack-3.9.0-14_linux64_openblas\n",
            "  libllvm14          conda-forge/linux-64::libllvm14-14.0.3-he0ac6c6_0\n",
            "  libnghttp2         conda-forge/linux-64::libnghttp2-1.47.0-h727a467_0\n",
            "  libnsl             conda-forge/linux-64::libnsl-2.0.0-h7f98852_0\n",
            "  libogg             conda-forge/linux-64::libogg-1.3.4-h7f98852_1\n",
            "  libopenblas        conda-forge/linux-64::libopenblas-0.3.20-pthreads_h78a6416_0\n",
            "  libopus            conda-forge/linux-64::libopus-1.3.1-h7f98852_1\n",
            "  libpng             conda-forge/linux-64::libpng-1.6.37-h21135ba_2\n",
            "  libpq              conda-forge/linux-64::libpq-14.3-hd77ab85_0\n",
            "  libsndfile         conda-forge/linux-64::libsndfile-1.0.31-h9c3ff4c_1\n",
            "  libssh2            conda-forge/linux-64::libssh2-1.10.0-ha56f1ee_2\n",
            "  libstdcxx-ng       conda-forge/linux-64::libstdcxx-ng-12.1.0-ha89aaad_16\n",
            "  libtiff            conda-forge/linux-64::libtiff-4.3.0-h542a066_3\n",
            "  libtool            conda-forge/linux-64::libtool-2.4.6-h9c3ff4c_1008\n",
            "  libuuid            conda-forge/linux-64::libuuid-2.32.1-h7f98852_1000\n",
            "  libvorbis          conda-forge/linux-64::libvorbis-1.3.7-h9c3ff4c_0\n",
            "  libwebp            conda-forge/linux-64::libwebp-1.2.2-h3452ae3_0\n",
            "  libwebp-base       conda-forge/linux-64::libwebp-base-1.2.2-h7f98852_1\n",
            "  libxcb             conda-forge/linux-64::libxcb-1.13-h7f98852_1004\n",
            "  libxkbcommon       conda-forge/linux-64::libxkbcommon-1.0.3-he3ba5ed_0\n",
            "  libxml2            conda-forge/linux-64::libxml2-2.9.14-h22db469_0\n",
            "  libzlib            conda-forge/linux-64::libzlib-1.2.11-h166bdaf_1014\n",
            "  lz4-c              conda-forge/linux-64::lz4-c-1.9.3-h9c3ff4c_1\n",
            "  matplotlib         conda-forge/linux-64::matplotlib-3.5.2-py39hf3d152e_0\n",
            "  matplotlib-base    conda-forge/linux-64::matplotlib-base-3.5.2-py39h700656a_0\n",
            "  munkres            conda-forge/noarch::munkres-1.1.4-pyh9f0ad1d_0\n",
            "  mysql-common       conda-forge/linux-64::mysql-common-8.0.29-haf5c9bc_0\n",
            "  mysql-libs         conda-forge/linux-64::mysql-libs-8.0.29-h28c427c_0\n",
            "  ncurses            conda-forge/linux-64::ncurses-6.3-h27087fc_1\n",
            "  nspr               conda-forge/linux-64::nspr-4.32-h9c3ff4c_1\n",
            "  nss                conda-forge/linux-64::nss-3.77-h2350873_0\n",
            "  numpy              conda-forge/linux-64::numpy-1.22.3-py39hc58783e_2\n",
            "  openjpeg           conda-forge/linux-64::openjpeg-2.4.0-hb52868f_1\n",
            "  openssl            conda-forge/linux-64::openssl-1.1.1o-h166bdaf_0\n",
            "  packaging          conda-forge/noarch::packaging-21.3-pyhd8ed1ab_0\n",
            "  pandas             conda-forge/linux-64::pandas-1.4.2-py39h1832856_1\n",
            "  pcre               conda-forge/linux-64::pcre-8.45-h9c3ff4c_0\n",
            "  perl               conda-forge/linux-64::perl-5.32.1-2_h7f98852_perl5\n",
            "  pillow             conda-forge/linux-64::pillow-9.1.0-py39hae2aec6_2\n",
            "  pip                conda-forge/noarch::pip-22.1-pyhd8ed1ab_0\n",
            "  pthread-stubs      conda-forge/linux-64::pthread-stubs-0.4-h36c2ea0_1001\n",
            "  pulseaudio         conda-forge/linux-64::pulseaudio-14.0-hb166930_4\n",
            "  pyparsing          conda-forge/noarch::pyparsing-3.0.9-pyhd8ed1ab_0\n",
            "  pyqt               conda-forge/linux-64::pyqt-5.15.4-py39h5a03fae_0\n",
            "  pyqt5-sip          conda-forge/linux-64::pyqt5-sip-12.9.0-py39h5a03fae_0\n",
            "  pysam              bioconda/linux-64::pysam-0.19.0-py39h5030a8b_0\n",
            "  python             conda-forge/linux-64::python-3.9.12-h9a8a25e_1_cpython\n",
            "  python-dateutil    conda-forge/noarch::python-dateutil-2.8.2-pyhd8ed1ab_0\n",
            "  python_abi         conda-forge/linux-64::python_abi-3.9-2_cp39\n",
            "  pytz               conda-forge/noarch::pytz-2022.1-pyhd8ed1ab_0\n",
            "  qt-main            conda-forge/linux-64::qt-main-5.15.3-hf97cb25_1\n",
            "  readline           conda-forge/linux-64::readline-8.1-h46c0cb4_0\n",
            "  samtools           bioconda/linux-64::samtools-1.15.1-h1170115_0\n",
            "  scipy              conda-forge/linux-64::scipy-1.8.0-py39hee8e79c_1\n",
            "  setuptools         conda-forge/linux-64::setuptools-62.2.0-py39hf3d152e_0\n",
            "  sip                conda-forge/linux-64::sip-6.5.1-py39he80948d_2\n",
            "  six                conda-forge/noarch::six-1.16.0-pyh6c4a22f_0\n",
            "  sqlite             conda-forge/linux-64::sqlite-3.38.5-h4ff8645_0\n",
            "  star               bioconda/linux-64::star-2.7.10a-h9ee0642_0\n",
            "  tk                 conda-forge/linux-64::tk-8.6.12-h27826a3_0\n",
            "  toml               conda-forge/noarch::toml-0.10.2-pyhd8ed1ab_0\n",
            "  tornado            conda-forge/linux-64::tornado-6.1-py39hb9d737c_3\n",
            "  tzdata             conda-forge/noarch::tzdata-2022a-h191b570_0\n",
            "  unicodedata2       conda-forge/linux-64::unicodedata2-14.0.0-py39hb9d737c_1\n",
            "  wheel              conda-forge/noarch::wheel-0.37.1-pyhd8ed1ab_0\n",
            "  xorg-libxau        conda-forge/linux-64::xorg-libxau-1.0.9-h7f98852_0\n",
            "  xorg-libxdmcp      conda-forge/linux-64::xorg-libxdmcp-1.1.3-h7f98852_0\n",
            "  xz                 conda-forge/linux-64::xz-5.2.5-h516909a_1\n",
            "  zlib               conda-forge/linux-64::zlib-1.2.11-h166bdaf_1014\n",
            "  zstd               conda-forge/linux-64::zstd-1.5.2-ha95c52a_0\n",
            "\n",
            "\n",
            "Preparing transaction: - \b\b\\ \b\b| \b\b/ \b\b- \b\b\\ \b\b| \b\b/ \b\b- \b\b\\ \b\b| \b\b/ \b\b- \b\b\\ \b\b| \b\b/ \b\b- \b\b\\ \b\b| \b\bdone\n",
            "Verifying transaction: - \b\b\\ \b\b| \b\b/ \b\b- \b\b\\ \b\b| \b\b/ \b\b- \b\b\\ \b\b| \b\b/ \b\b- \b\b\\ \b\b| \b\b/ \b\b- \b\b\\ \b\b| \b\b/ \b\b- \b\b\\ \b\b| \b\b/ \b\b- \b\b\\ \b\b| \b\b/ \b\b- \b\b\\ \b\b| \b\b/ \b\b- \b\b\\ \b\b| \b\b/ \b\b- \b\b\\ \b\b| \b\b/ \b\b- \b\b\\ \b\b| \b\b/ \b\b- \b\b\\ \b\b| \b\b/ \b\b- \b\b\\ \b\b| \b\b/ \b\b- \b\b\\ \b\b| \b\b/ \b\b- \b\b\\ \b\b| \b\b/ \b\b- \b\b\\ \b\b| \b\b/ \b\bdone\n",
            "Executing transaction: \\ \b\b| \b\b/ \b\b- \b\b\\ \b\b| \b\b/ \b\b- \b\b\\ \b\b| \b\b/ \b\b- \b\b\\ \b\b| \b\b/ \b\b- \b\b\\ \b\b| \b\b/ \b\b- \b\b\\ \b\b| \b\b/ \b\b- \b\b\\ \b\b| \b\b/ \b\b- \b\b\\ \b\b| \b\b/ \b\b- \b\b\\ \b\b| \b\b/ \b\b- \b\b\\ \b\b| \b\b/ \b\b- \b\b\\ \b\b| \b\b/ \b\b- \b\b\\ \b\b| \b\b/ \b\b- \b\b\\ \b\b| \b\b/ \b\b- \b\b\\ \b\b| \b\b/ \b\b- \b\b\\ \b\b| \b\b/ \b\b- \b\bdone\n",
            "#\n",
            "# To activate this environment, use\n",
            "#\n",
            "#     $ conda activate lab\n",
            "#\n",
            "# To deactivate an active environment, use\n",
            "#\n",
            "#     $ conda deactivate\n",
            "\n",
            "Activated conda environment `lab'!\n"
          ]
        }
      ],
      "source": [
        "!git clone https://github.com/hyeshik/colab-biolab.git\n",
        "!cd colab-biolab && bash tools/setup.sh\n",
        "exec(open('colab-biolab/tools/activate_conda.py').read())"
      ]
    },
    {
      "cell_type": "markdown",
      "metadata": {
        "id": "8A1Qq4AcPfS0"
      },
      "source": [
        "설정이 끝났으면, 이제 콘솔을 열어서 터미널로 접속할 수 있는 통로를 열어줍니다."
      ]
    },
    {
      "cell_type": "markdown",
      "metadata": {
        "id": "etOQJdMTPfS0"
      },
      "source": [
        "## 시퀀싱 데이터 다운로드\n",
        "이제 실습 수업에서 필요한 시퀀싱 데이터를 다운로드 받아서 설치합시다. 드라이브 공간만 충분하면 데이터는 계속 저장돼 있기 때문에 학기 전체를 통해서 딱 한 번만 하시면 됩니다. Colab에서는 작업용 데이터를 Google Drive 폴더 아래의 `binfo-datapack1`에 저장합니다. 실습용 데이터는 `/content/drive/MyDrive/binfo1-datapack1`에 풀리게 됩니다.\n",
        "\n",
        "### (Option 1) Google CoLab에서 접속한 경우\n",
        "1. [Google Drive 공유폴더](https://drive.google.com/drive/folders/1Y190lbO42VEzjjQkgoxNf_EcZJlHyZa1?usp=sharing)에 접속합니다.\n",
        "1. 중간 제목줄의 \"binfo1-datapack1 ▾\"에서 ▾을 누릅니다.\n",
        "1. Add shortcut to Drive를 누릅니다.\n",
        "1. My Drive를 선택해서 ADD SHORTCUT 버튼을 누릅니다.\n",
        "1. 다음 cell을 실행해서 링크가 제대로 들어왔는지 확인합니다. (바로 확인되지 않으면 3–5분 정도 기다렸다가 하면 됩니다.)\n",
        "1. 제대로 확인되면 다음으로 넘어갑니다.\n"
      ]
    },
    {
      "cell_type": "code",
      "execution_count": 26,
      "metadata": {
        "colab": {
          "base_uri": "https://localhost:8080/"
        },
        "id": "D24wKYriG8tI",
        "outputId": "3b85cfbd-0388-4ca6-a40a-384b8b4bb698"
      },
      "outputs": [
        {
          "output_type": "stream",
          "name": "stdout",
          "text": [
            "total 7817716\n",
            "-rw------- 1 root root 1370036258 May  6  2021 CLIP-35L33G.bam\n",
            "-rw------- 1 root root    3118336 May  6  2021 CLIP-35L33G.bam.bai\n",
            "-rw------- 1 root root       7077 May 17 04:23 CLIP-let7g.bam\n",
            "-rw------- 1 root root      14561 May 17 04:23 CLIP-let7g-gene.pileup\n",
            "-rw------- 1 root root    2685065 May 17 04:23 CLIP-let7g.pileup\n",
            "drwx------ 2 root root       4096 May  5 09:44 colab-biolab\n",
            "-rw------- 1 root root  567739792 May 12 03:10 filtered-RPF-siLuc.bam\n",
            "-rw------- 1 root root   28109361 May 12 03:15 fivepcounts-filtered-RPF-siLuc.txt\n",
            "-rw------- 1 root root   45957833 May 12 03:15 fivepcounts-RPF-siLuc.bed\n",
            "-rw------- 1 root root     855103 May 12 03:08 gencode-exons-containing-startcodon.bed\n",
            "-rw------- 1 root root  883334756 May 12 03:06 gencode.gtf\n",
            "-rw------- 1 root root   26842797 May 12 03:08 gencode-plusexon.gtf\n",
            "-rw------- 1 root root    1063832 May 12 03:07 gencode-start.gtf\n",
            "-rw------- 1 root root   24065406 May  5 09:54 read-counts.txt\n",
            "-rw------- 1 root root        751 May  5 09:54 read-counts.txt.summary\n",
            "-rw------- 1 root root 1003658801 May  6  2021 RNA-control.bam\n",
            "-rw------- 1 root root    2276104 May  6  2021 RNA-control.bam.bai\n",
            "-rw------- 1 root root 1260991122 May  6  2021 RNA-siLin28a.bam\n",
            "-rw------- 1 root root    2710744 May  6  2021 RNA-siLin28a.bam.bai\n",
            "-rw------- 1 root root  981684502 May  6  2021 RNA-siLuc.bam\n",
            "-rw------- 1 root root    2606104 May  6  2021 RNA-siLuc.bam.bai\n",
            "-rw------- 1 root root  737352902 May  6  2021 RPF-siLin28a.bam\n",
            "-rw------- 1 root root    2482768 May  6  2021 RPF-siLin28a.bam.bai\n",
            "-rw------- 1 root root 1055123479 May  6  2021 RPF-siLuc.bam\n",
            "-rw------- 1 root root    2605912 May  6  2021 RPF-siLuc.bam.bai\n",
            "-rw------- 1 root root       2802 May 13 04:06 test2.bam\n",
            "-rw------- 1 root root       2802 May 13 04:06 test.txt\n",
            "total 7817716\n",
            "-rw------- 1 root root 1370036258 May  6  2021 CLIP-35L33G.bam\n",
            "-rw------- 1 root root    3118336 May  6  2021 CLIP-35L33G.bam.bai\n",
            "-rw------- 1 root root       7077 May 17 08:01 CLIP-let7g.bam\n",
            "-rw------- 1 root root      14561 May 17 08:01 CLIP-let7g-gene.pileup\n",
            "-rw------- 1 root root    2685065 May 17 08:01 CLIP-let7g.pileup\n",
            "drwx------ 5 root root       4096 May 17 08:03 colab-biolab\n",
            "-rw------- 1 root root  567739792 May 12 03:10 filtered-RPF-siLuc.bam\n",
            "-rw------- 1 root root   28109361 May 12 03:15 fivepcounts-filtered-RPF-siLuc.txt\n",
            "-rw------- 1 root root   45957833 May 12 03:15 fivepcounts-RPF-siLuc.bed\n",
            "-rw------- 1 root root     855103 May 12 03:08 gencode-exons-containing-startcodon.bed\n",
            "-rw------- 1 root root  883334756 May 12 03:06 gencode.gtf\n",
            "-rw------- 1 root root   26842797 May 12 03:08 gencode-plusexon.gtf\n",
            "-rw------- 1 root root    1063832 May 12 03:07 gencode-start.gtf\n",
            "-rw------- 1 root root   24065406 May  5 09:54 read-counts.txt\n",
            "-rw------- 1 root root        751 May  5 09:54 read-counts.txt.summary\n",
            "-rw------- 1 root root 1003658801 May  6  2021 RNA-control.bam\n",
            "-rw------- 1 root root    2276104 May  6  2021 RNA-control.bam.bai\n",
            "-rw------- 1 root root 1260991122 May  6  2021 RNA-siLin28a.bam\n",
            "-rw------- 1 root root    2710744 May  6  2021 RNA-siLin28a.bam.bai\n",
            "-rw------- 1 root root  981684502 May  6  2021 RNA-siLuc.bam\n",
            "-rw------- 1 root root    2606104 May  6  2021 RNA-siLuc.bam.bai\n",
            "-rw------- 1 root root  737352902 May  6  2021 RPF-siLin28a.bam\n",
            "-rw------- 1 root root    2482768 May  6  2021 RPF-siLin28a.bam.bai\n",
            "-rw------- 1 root root 1055123479 May  6  2021 RPF-siLuc.bam\n",
            "-rw------- 1 root root    2605912 May  6  2021 RPF-siLuc.bam.bai\n",
            "-rw------- 1 root root       2802 May 13 04:06 test2.bam\n",
            "-rw------- 1 root root       2802 May 13 04:06 test.txt\n"
          ]
        }
      ],
      "source": [
        "!ls -al /content/drive/MyDrive/binfo1-datapack1/"
      ]
    },
    {
      "cell_type": "markdown",
      "metadata": {
        "id": "BnS18ErRPfS2"
      },
      "source": [
        "### 파일 체크섬 확인\n",
        "\n",
        "받은 데이터의 MD5 체크섬을 확인합니다. 한참 걸립니다. 각 파일들의 원래 체크섬은 다음과 같습니다. 한 번 비교해 보세요.\n",
        "\n",
        "```\n",
        "140aaf30bcb9276cc716f8699f04ddd6  CLIP-35L33G.bam\n",
        "f1b3336ed7e2f97d562dcc71641251bd  CLIP-35L33G.bam.bai\n",
        "328883a73d507eafbf5b60bd6b906201  RNA-control.bam\n",
        "02073818e2f398a73c3b76e5169de1ca  RNA-control.bam.bai\n",
        "b09550d09d6c2a4ce27f0226f426fdb1  RNA-siLin28a.bam\n",
        "fef112c727244060ea62d3f2564a07f6  RNA-siLin28a.bam.bai\n",
        "28bbd0c47d725669340c784f1b772c01  RNA-siLuc.bam\n",
        "43590fdc4d81905c0432e0d1cb8cfd5b  RNA-siLuc.bam.bai\n",
        "5c08a9297307bc83259e658c4474f0cc  RPF-siLin28a.bam\n",
        "a1bb3e29be412dfd7fd8d16b1b1acc4c  RPF-siLin28a.bam.bai\n",
        "f2eebf50943024d0116c9cd3e744c707  RPF-siLuc.bam\n",
        "dc24f69e8f571fc8be30f28ce5b84fcd  RPF-siLuc.bam.bai\n",
        "```"
      ]
    },
    {
      "cell_type": "code",
      "execution_count": 27,
      "metadata": {
        "colab": {
          "base_uri": "https://localhost:8080/"
        },
        "id": "6wOX9pzSPfS2",
        "outputId": "0340f478-d33e-49ae-adbe-b87f69c43ff3"
      },
      "outputs": [
        {
          "output_type": "stream",
          "name": "stdout",
          "text": [
            "140aaf30bcb9276cc716f8699f04ddd6  drive/MyDrive/binfo1-datapack1/CLIP-35L33G.bam\n",
            "f1b3336ed7e2f97d562dcc71641251bd  drive/MyDrive/binfo1-datapack1/CLIP-35L33G.bam.bai\n",
            "0d33bf4b3a5ce22ba13a62323efd6883  drive/MyDrive/binfo1-datapack1/CLIP-let7g.bam\n",
            "4ea14471c5d4bf9ab1fd91b9a5b2193c  drive/MyDrive/binfo1-datapack1/CLIP-let7g-gene.pileup\n",
            "a53f66a5575d4ac2d3b4c44af576d44d  drive/MyDrive/binfo1-datapack1/CLIP-let7g.pileup\n",
            "md5sum: drive/MyDrive/binfo1-datapack1/colab-biolab: Is a directory\n",
            "d477bd9acca237bbc6e0fbd81cdc6c0b  drive/MyDrive/binfo1-datapack1/filtered-RPF-siLuc.bam\n",
            "2b5021d2ac3d4830fd963d950a2dc0b8  drive/MyDrive/binfo1-datapack1/fivepcounts-filtered-RPF-siLuc.txt\n",
            "7211785786bc63bf95a5bb678cad71c1  drive/MyDrive/binfo1-datapack1/fivepcounts-RPF-siLuc.bed\n",
            "ed47186ee44654792a8a130c695f3a22  drive/MyDrive/binfo1-datapack1/gencode-exons-containing-startcodon.bed\n",
            "d54d428f5872030c4ffc43058709b896  drive/MyDrive/binfo1-datapack1/gencode.gtf\n",
            "3469e3e3e018302c5488adc052fd1e21  drive/MyDrive/binfo1-datapack1/gencode-plusexon.gtf\n",
            "b1c38579a9e8e0313c1508f02ce0afaf  drive/MyDrive/binfo1-datapack1/gencode-start.gtf\n",
            "f691d94ca9c72e6feedbfe4561dd5b83  drive/MyDrive/binfo1-datapack1/read-counts.txt\n",
            "7c9528c08ed2f1ae6e2de599db1aa8fb  drive/MyDrive/binfo1-datapack1/read-counts.txt.summary\n",
            "328883a73d507eafbf5b60bd6b906201  drive/MyDrive/binfo1-datapack1/RNA-control.bam\n",
            "02073818e2f398a73c3b76e5169de1ca  drive/MyDrive/binfo1-datapack1/RNA-control.bam.bai\n",
            "b09550d09d6c2a4ce27f0226f426fdb1  drive/MyDrive/binfo1-datapack1/RNA-siLin28a.bam\n",
            "fef112c727244060ea62d3f2564a07f6  drive/MyDrive/binfo1-datapack1/RNA-siLin28a.bam.bai\n",
            "28bbd0c47d725669340c784f1b772c01  drive/MyDrive/binfo1-datapack1/RNA-siLuc.bam\n",
            "43590fdc4d81905c0432e0d1cb8cfd5b  drive/MyDrive/binfo1-datapack1/RNA-siLuc.bam.bai\n",
            "5c08a9297307bc83259e658c4474f0cc  drive/MyDrive/binfo1-datapack1/RPF-siLin28a.bam\n",
            "a1bb3e29be412dfd7fd8d16b1b1acc4c  drive/MyDrive/binfo1-datapack1/RPF-siLin28a.bam.bai\n",
            "f2eebf50943024d0116c9cd3e744c707  drive/MyDrive/binfo1-datapack1/RPF-siLuc.bam\n",
            "dc24f69e8f571fc8be30f28ce5b84fcd  drive/MyDrive/binfo1-datapack1/RPF-siLuc.bam.bai\n",
            "3a3d25e3a3b66f2ab8cc89204255c01c  drive/MyDrive/binfo1-datapack1/test2.bam\n",
            "3a3d25e3a3b66f2ab8cc89204255c01c  drive/MyDrive/binfo1-datapack1/test.txt\n",
            "md5sum: 'drive/MyDrive/binfo1-datapack1/*': No such file or directory\n"
          ]
        }
      ],
      "source": [
        "!md5sum drive/MyDrive/binfo1-datapack1/*"
      ]
    },
    {
      "cell_type": "markdown",
      "metadata": {
        "id": "ecEA1PPQUlIK"
      },
      "source": [
        "실습에 필요한 프로그램들 몇 가지를 추가로 설치합니다."
      ]
    },
    {
      "cell_type": "code",
      "execution_count": 28,
      "metadata": {
        "colab": {
          "base_uri": "https://localhost:8080/"
        },
        "id": "neteyWsWEKBy",
        "outputId": "6dac170d-7953-4a05-f1c8-1599e17f3814"
      },
      "outputs": [
        {
          "output_type": "stream",
          "name": "stdout",
          "text": [
            "Collecting package metadata (current_repodata.json): - \b\b\\ \b\b| \b\b/ \b\b- \b\b\\ \b\b| \b\b/ \b\b- \b\b\\ \b\b| \b\b/ \b\b- \b\b\\ \b\b| \b\b/ \b\b- \b\b\\ \b\b| \b\b/ \b\b- \b\b\\ \b\b| \b\b/ \b\b- \b\b\\ \b\b| \b\b/ \b\b- \b\bdone\n",
            "Solving environment: | \b\b/ \b\b- \b\b\\ \b\b| \b\b/ \b\b- \b\b\\ \b\b| \b\b/ \b\b- \b\b\\ \b\b| \b\b/ \b\b- \b\b\\ \b\b| \b\b/ \b\b- \b\b\\ \b\b| \b\b/ \b\b- \b\b\\ \b\b| \b\b/ \b\b- \b\b\\ \b\b| \b\b/ \b\b- \b\bdone\n",
            "\n",
            "\n",
            "==> WARNING: A newer version of conda exists. <==\n",
            "  current version: 4.11.0\n",
            "  latest version: 4.12.0\n",
            "\n",
            "Please update conda by running\n",
            "\n",
            "    $ conda update -n base -c defaults conda\n",
            "\n",
            "\n",
            "\n",
            "## Package Plan ##\n",
            "\n",
            "  environment location: /root/conda/envs/lab\n",
            "\n",
            "  added / updated specs:\n",
            "    - bedtools\n",
            "    - bioawk\n",
            "\n",
            "\n",
            "The following NEW packages will be INSTALLED:\n",
            "\n",
            "  bioawk             bioconda/linux-64::bioawk-1.0-h7132678_7\n",
            "\n",
            "\n",
            "Preparing transaction: | \b\bdone\n",
            "Verifying transaction: - \b\bdone\n",
            "Executing transaction: | \b\bdone\n"
          ]
        }
      ],
      "source": [
        "!conda install -y bedtools bioawk"
      ]
    },
    {
      "cell_type": "markdown",
      "metadata": {
        "id": "Oe_54MZrEi4y"
      },
      "source": [
        "## Mission 3\n",
        "\n",
        "이번 미션에서는 Figure S2A 아랫쪽에 표시되는 clustered error 분석 (CIMS; Crosslinking-induced mutation sites)을 합니다. 자외선에 의해서 단백질이 붙어있다가 단백질 분해효소로 단백질을 뜯어내고 남은 자리에서는 reversetranscriptase가 오류를 자주 냅니다. 오류율을 분석해서 단백질이 앉아 있었던 자리를 분석해 봅시다.\n",
        "\n",
        "데이터는 지난 번과 동일하기 때문에 이미 다운로드 받으셨다면 다시 다운로드 받을 필요는 없습니다."
      ]
    },
    {
      "cell_type": "code",
      "execution_count": 29,
      "metadata": {
        "colab": {
          "base_uri": "https://localhost:8080/"
        },
        "id": "IANz6DmLUkA6",
        "outputId": "fde63e57-d7fd-43f2-f366-d9463de4cc8f"
      },
      "outputs": [
        {
          "output_type": "stream",
          "name": "stdout",
          "text": [
            "/content/drive/MyDrive/binfo1-datapack1\n"
          ]
        }
      ],
      "source": [
        "%cd /content/drive/MyDrive/binfo1-datapack1/"
      ]
    },
    {
      "cell_type": "markdown",
      "metadata": {
        "id": "CMMDdHgyJAB1"
      },
      "source": [
        "Genome 전체로 계산하는 방법은 자원도 꽤 쓰고 시간이 걸리기 때문에 여기서는 유전자 단위로 간략하게 하도록 합시다. 예시로 Mirlet7g를 해 보고, 추가로 Mirlet7f-1과 Mirlet7d도 봐서 비교해 봅시다.\n",
        "\n",
        "논문은 예전 레퍼런스 유전체인 mm9을 쓰고 있기 때문에, 현재 사용되는 레퍼런스 mm39와는 좌표계에 차이가 있습니다. 새로 annotation에서 위치를 찾습니다."
      ]
    },
    {
      "cell_type": "code",
      "execution_count": 30,
      "metadata": {
        "id": "sumX23OcI_fl",
        "colab": {
          "base_uri": "https://localhost:8080/"
        },
        "outputId": "e0535ef4-3e75-4cb5-b06c-3d114d1411ef"
      },
      "outputs": [
        {
          "output_type": "stream",
          "name": "stdout",
          "text": [
            "chr9\tENSEMBL\tgene\t106056039\t106056126\t.\t+\t.\tgene_id \"ENSMUSG00000065440.3\"; gene_type \"miRNA\"; gene_name \"Mirlet7g\"; level 3; mgi_id \"MGI:2676800\";\n",
            "chr9\tENSEMBL\ttranscript\t106056039\t106056126\t.\t+\t.\tgene_id \"ENSMUSG00000065440.3\"; transcript_id \"ENSMUST00000083506.3\"; gene_type \"miRNA\"; gene_name \"Mirlet7g\"; transcript_type \"miRNA\"; transcript_name \"Mirlet7g-201\"; level 3; transcript_support_level \"NA\"; mgi_id \"MGI:2676800\"; tag \"basic\";\n",
            "chr9\tENSEMBL\texon\t106056039\t106056126\t.\t+\t.\tgene_id \"ENSMUSG00000065440.3\"; transcript_id \"ENSMUST00000083506.3\"; gene_type \"miRNA\"; gene_name \"Mirlet7g\"; transcript_type \"miRNA\"; transcript_name \"Mirlet7g-201\"; exon_number 1; exon_id \"ENSMUSE00000522665.2\"; level 3; transcript_support_level \"NA\"; mgi_id \"MGI:2676800\"; tag \"basic\";\n",
            "chr9\tENSEMBL\tgene\t106056039\t106056126\t.\t+\t.\tgene_id \"ENSMUSG00000065440.3\"; gene_type \"miRNA\"; gene_name \"Mirlet7g\"; level 3; mgi_id \"MGI:2676800\";\n",
            "chr9\tENSEMBL\ttranscript\t106056039\t106056126\t.\t+\t.\tgene_id \"ENSMUSG00000065440.3\"; transcript_id \"ENSMUST00000083506.3\"; gene_type \"miRNA\"; gene_name \"Mirlet7g\"; transcript_type \"miRNA\"; transcript_name \"Mirlet7g-201\"; level 3; transcript_support_level \"NA\"; mgi_id \"MGI:2676800\"; tag \"basic\";\n",
            "chr9\tENSEMBL\texon\t106056039\t106056126\t.\t+\t.\tgene_id \"ENSMUSG00000065440.3\"; transcript_id \"ENSMUST00000083506.3\"; gene_type \"miRNA\"; gene_name \"Mirlet7g\"; transcript_type \"miRNA\"; transcript_name \"Mirlet7g-201\"; exon_number 1; exon_id \"ENSMUSE00000522665.2\"; level 3; transcript_support_level \"NA\"; mgi_id \"MGI:2676800\"; tag \"basic\";\n"
          ]
        }
      ],
      "source": [
        "!grep -i mirlet7g gencode.gtf"
      ]
    },
    {
      "cell_type": "markdown",
      "metadata": {
        "id": "iB_C8P1fJkNE"
      },
      "source": [
        "Splicing 되지 않는 transcript이기 때문에 결과가 단조롭습니다. 해당 좌표 범위로 bam을 솎아냅니다."
      ]
    },
    {
      "cell_type": "code",
      "execution_count": 31,
      "metadata": {
        "id": "opqsj9vNIL-z",
        "colab": {
          "base_uri": "https://localhost:8080/"
        },
        "outputId": "6e20bef9-f72b-4693-e2b3-5fbf5966573c"
      },
      "outputs": [
        {
          "output_type": "stream",
          "name": "stdout",
          "text": [
            "163\n"
          ]
        }
      ],
      "source": [
        "!samtools view -b -o CLIP-let7g.bam CLIP-35L33G.bam chr9:106056039-106056126\n",
        "!samtools view CLIP-let7g.bam | wc -l"
      ]
    },
    {
      "cell_type": "markdown",
      "metadata": {
        "id": "baEtdt6aJ12N"
      },
      "source": [
        "각 자리에 mapping된 read들의 분포를 요약하기 위해 samtools mpileup을 이용합니다. Shannon entropy를 구할 때는 reference를 따로 줄 필요는 없습니다. samtools를 쓰지 않고 직접 read를 분석하면 더욱 더 재미있습니다."
      ]
    },
    {
      "cell_type": "code",
      "execution_count": 32,
      "metadata": {
        "id": "5_RLXcMpIL8J",
        "colab": {
          "base_uri": "https://localhost:8080/"
        },
        "outputId": "65ef75b1-4615-4917-b901-c63832f5e988"
      },
      "outputs": [
        {
          "output_type": "stream",
          "name": "stdout",
          "text": [
            "[mpileup] 1 samples in 1 input files\n",
            "68548 CLIP-let7g.pileup\n"
          ]
        }
      ],
      "source": [
        "!samtools mpileup CLIP-let7g.bam > CLIP-let7g.pileup\n",
        "!wc -l CLIP-let7g.pileup"
      ]
    },
    {
      "cell_type": "markdown",
      "metadata": {
        "id": "Xuzv5lSEKVoG"
      },
      "source": [
        "Mirlet7g는 100bp도 안 되는 짧은 gene인데 `mpileup` 결과는 엄청 길게 나옵니다. 왜 그럴까요? (잘 한 번 생각해 봅시다)"
      ]
    },
    {
      "cell_type": "markdown",
      "metadata": {
        "id": "hpC-bsZEKozF"
      },
      "source": [
        "이제 Mirlet7g의 핵심부분을 살펴봐서 어떻게 하면 좋을지 견적을 내 봅니다."
      ]
    },
    {
      "cell_type": "code",
      "execution_count": 33,
      "metadata": {
        "id": "1WulVeZqIL5W",
        "colab": {
          "base_uri": "https://localhost:8080/"
        },
        "outputId": "0126430b-f1f2-425a-cd7b-924b2b5f199c"
      },
      "outputs": [
        {
          "output_type": "stream",
          "name": "stdout",
          "text": [
            "chr9\t106007092\tN\t9\t^Ga^Ia^Ha^Ia^Ga^Ga^Ha^Ia^Ia\t<IFIGGHII\n",
            "chr9\t106007093\tN\t9\tggggggggg\tAFGIEGDII\n",
            "chr9\t106007094\tN\t9\tccccccccc\tEHHIGAFEH\n",
            "chr9\t106007095\tN\t9\taaaaaaaaa\t?HDIFA>II\n",
            "chr9\t106007096\tN\t9\taaaaaaaaa\tEHHIG@CHH\n",
            "chr9\t106007097\tN\t9\tttttttttt\t=HGEGDFII\n",
            "chr9\t106007098\tN\t9\taaaaaaaaa\t?HHIGDEII\n",
            "chr9\t106007099\tN\t9\tg-2nng-2nng-2nng-2nng-2nng-2nng-2nng-2nng-2nn\t?IEHGEDII\n",
            "chr9\t106007100\tN\t9\t*********\t8IBIBC@EI\n",
            "chr9\t106007101\tN\t9\t*********\t8IBIBC@EI\n"
          ]
        }
      ],
      "source": [
        "!head CLIP-let7g.pileup"
      ]
    },
    {
      "cell_type": "code",
      "execution_count": 34,
      "metadata": {
        "id": "GUdB31wAIL0K",
        "colab": {
          "base_uri": "https://localhost:8080/"
        },
        "outputId": "ef08a910-c014-4035-a297-3d26b9d6264b"
      },
      "outputs": [
        {
          "output_type": "stream",
          "name": "stdout",
          "text": [
            "chr9\t106056117\tN\t138\t<<<<<<<<<CCCCCCCCCCCCCCCCCCCCCCCCCCCCCCCCCCCCCCCCCCCCCCCCCCCCCCCCCCCCCCCCCCCCCCCCCCCCCCCCCCCCCCCCCCCCCCCCCCCCCCCCCCCCCCCCCCCCCCCCCCCCCCCCC\tBHEIG?DIIHGHII:;HGIIDGGGIIBGEB?>H<GGIIIIDIIGFHIHH9IGG=GGHIDH?DGIBIIHHGGIEIGI8GIDHDG.GGHEDIIDIDGDHIDGIFGHG;DCDDHEE@I?CGG:IHGIBGIHIIDG@DHIGG\n",
            "chr9\t106056118\tN\t139\t<<<<<<<<<CCCCCCCCCCCCCCCCCCCCCCCCCCCCCCCCCCCCCCCCCCCCCCCCCCCCCCCCCCCCCCCCCCCCCCCCCCCCCCCCCCCCCCCCCCCCCCCCCCCCCCCCCCCCCCCCCCCCCCCCCCCCCCCCCC\tBHEIG?DIIHGHII3AHIIIDGGGIIB3EHFBH>GIIIIIIIIIHIIHHAIIGBDGHIDH?GIIGIIHHDIIHIGIGGI=BGG9GIHHHIIGI=IAIIGGIEHGIEBG@DHDE;IBDGG4IGGIGGIIIIGGGDGIH1G\n",
            "chr9\t106056119\tN\t138\t<<<<<<<<<TTTTTTTTTTTTTTTTTTTTTTTTTT$TTTT$TTTTTTTTTTTTTTT$TTTT$TTTTTTT$TTTTTTTTTTTTTTTTTTTTTTTTTTTTTTTTTTTTTTTTTTTTTTTTTTTTTTTTTTTTTTTTTTTTTTTTT\tBHEIG?DIIGEFII:/GIIEDDHDIIF>BH3<HBEGIHIGFIIIBIIBE:HHGD>EGGDH7BIIGGIHHDHIHDEIGEIDHGG;GIHGHHIGD:IGHD:GGEHH?3G87HD</I=DGG=IHHIHBIFII@<HDHHH1G\n",
            "chr9\t106056120\tN\t133\t<<<<<<<<<TTTTTTTTTTTTTTTTTTTTTTTTTTTT$TTTT$TTT$TTTTTTTTTT$TTTTTTTT$TTTTTTTTTTTT$T$TTTTTT$TTTT$TT$TTTTTTTTTTTTTTTTTTT$TTTTTTTTTTTTTTTTTTTTTTTTTTT\tBHEIG?DIIHFBII74BIIIGDIIIIA8DHECHBIIIIIIIIHIIHB?IDGGGFDH?GIIIIHH@GHHGEDDGIEHBEDIHHGIIGI:HBII8DIIHHIBDD;<HDD3HB?@G?HHIIHIIIIIB@HDHDH8G\n",
            "chr9\t106056121\tN\t118\t<<<<<<<<<GGGGGGGGGGGGGGGGGGGG$G$G$G$G$G$G$G$GGGGGG$GG$GGGG$GG$GGGG$G$GGG$GGG$GGG$GGGG$GGGGG$GGGGGGGGG$GGGGGG$GG$GGG$GGG$GGGG$G$GG$GGGGGG$GGGG$G$G$G$G$G$\tBHEIG?DIIB<EDI/7BHHFB<FGHI3?GG>HAIHIFEF@H<<2>D3EE;HBAIIIBH4IHG@DI>G482GGFHID:I9II@BH@>HE8@;<HGI:GGBIDEIBIGIIIE?G@EIH7G\n",
            "chr9\t106056122\tN\t88\t<<<<<<<<<C$C$C$C$C$C$C$C$C$C$C$C$C$CCCCCC$C$C$C$C$C$C$CCC$C$C$C$CC$C$CC$CC$C$C$C$C$C$C$C$C$C$C$C$C$C$CC$C$C$C$C$C$CC$CC$C$CCC$C$C$C$C$CCCCC$CCC$C\tBHEIG?DIIEEGIIC;GIHEGBIIIIB1=FII?FEIGGGHDBIG=HHIIEBHD>EIHIG=I:HGBIIEF?E;DB3HB<GIHIHHEADF\n",
            "chr9\t106056123\tN\t31\t<<<<<<<<<CCCCCCCCCCCCCCCCCCCCCC\tBHEIG?DIIIIII>GIGGIGGD>BIHHHIEH\n",
            "chr9\t106056124\tN\t31\t<<<<<<<<<AAAAAAAAAAAAAAAAAAAAAA\tBHEIG?DIIIIHIGGIGGGIG:9DDBIEGFH\n",
            "chr9\t106056125\tN\t31\t<<<<<<<<<GGGGGGGGGGGGGGGGGGGGGG\tBHEIG?DIIIIIIGGE@GFIGD;GIGIIFHD\n",
            "chr9\t106056126\tN\t30\t<<<<<<<<<GGGGGGGGGGGGGGGGGGGGG\tBHEIG?DIIIIGHGHIGHI>G;GGGIGIHG\n",
            "chr9\t106056117\tN\t138\t<<<<<<<<<CCCCCCCCCCCCCCCCCCCCCCCCCCCCCCCCCCCCCCCCCCCCCCCCCCCCCCCCCCCCCCCCCCCCCCCCCCCCCCCCCCCCCCCCCCCCCCCCCCCCCCCCCCCCCCCCCCCCCCCCCCCCCCCCC\tBHEIG?DIIHGHII:;HGIIDGGGIIBGEB?>H<GGIIIIDIIGFHIHH9IGG=GGHIDH?DGIBIIHHGGIEIGI8GIDHDG.GGHEDIIDIDGDHIDGIFGHG;DCDDHEE@I?CGG:IHGIBGIHIIDG@DHIGG\n",
            "chr9\t106056118\tN\t139\t<<<<<<<<<CCCCCCCCCCCCCCCCCCCCCCCCCCCCCCCCCCCCCCCCCCCCCCCCCCCCCCCCCCCCCCCCCCCCCCCCCCCCCCCCCCCCCCCCCCCCCCCCCCCCCCCCCCCCCCCCCCCCCCCCCCCCCCCCCC\tBHEIG?DIIHGHII3AHIIIDGGGIIB3EHFBH>GIIIIIIIIIHIIHHAIIGBDGHIDH?GIIGIIHHDIIHIGIGGI=BGG9GIHHHIIGI=IAIIGGIEHGIEBG@DHDE;IBDGG4IGGIGGIIIIGGGDGIH1G\n",
            "chr9\t106056119\tN\t138\t<<<<<<<<<TTTTTTTTTTTTTTTTTTTTTTTTTT$TTTT$TTTTTTTTTTTTTTT$TTTT$TTTTTTT$TTTTTTTTTTTTTTTTTTTTTTTTTTTTTTTTTTTTTTTTTTTTTTTTTTTTTTTTTTTTTTTTTTTTTTTTT\tBHEIG?DIIGEFII:/GIIEDDHDIIF>BH3<HBEGIHIGFIIIBIIBE:HHGD>EGGDH7BIIGGIHHDHIHDEIGEIDHGG;GIHGHHIGD:IGHD:GGEHH?3G87HD</I=DGG=IHHIHBIFII@<HDHHH1G\n",
            "chr9\t106056120\tN\t133\t<<<<<<<<<TTTTTTTTTTTTTTTTTTTTTTTTTTTT$TTTT$TTT$TTTTTTTTTT$TTTTTTTT$TTTTTTTTTTTT$T$TTTTTT$TTTT$TT$TTTTTTTTTTTTTTTTTTT$TTTTTTTTTTTTTTTTTTTTTTTTTTT\tBHEIG?DIIHFBII74BIIIGDIIIIA8DHECHBIIIIIIIIHIIHB?IDGGGFDH?GIIIIHH@GHHGEDDGIEHBEDIHHGIIGI:HBII8DIIHHIBDD;<HDD3HB?@G?HHIIHIIIIIB@HDHDH8G\n",
            "chr9\t106056121\tN\t118\t<<<<<<<<<GGGGGGGGGGGGGGGGGGGG$G$G$G$G$G$G$G$GGGGGG$GG$GGGG$GG$GGGG$G$GGG$GGG$GGG$GGGG$GGGGG$GGGGGGGGG$GGGGGG$GG$GGG$GGG$GGGG$G$GG$GGGGGG$GGGG$G$G$G$G$G$\tBHEIG?DIIB<EDI/7BHHFB<FGHI3?GG>HAIHIFEF@H<<2>D3EE;HBAIIIBH4IHG@DI>G482GGFHID:I9II@BH@>HE8@;<HGI:GGBIDEIBIGIIIE?G@EIH7G\n",
            "chr9\t106056122\tN\t88\t<<<<<<<<<C$C$C$C$C$C$C$C$C$C$C$C$C$CCCCCC$C$C$C$C$C$C$CCC$C$C$C$CC$C$CC$CC$C$C$C$C$C$C$C$C$C$C$C$C$C$CC$C$C$C$C$C$CC$CC$C$CCC$C$C$C$C$CCCCC$CCC$C\tBHEIG?DIIEEGIIC;GIHEGBIIIIB1=FII?FEIGGGHDBIG=HHIIEBHD>EIHIG=I:HGBIIEF?E;DB3HB<GIHIHHEADF\n",
            "chr9\t106056123\tN\t31\t<<<<<<<<<CCCCCCCCCCCCCCCCCCCCCC\tBHEIG?DIIIIII>GIGGIGGD>BIHHHIEH\n",
            "chr9\t106056124\tN\t31\t<<<<<<<<<AAAAAAAAAAAAAAAAAAAAAA\tBHEIG?DIIIIHIGGIGGGIG:9DDBIEGFH\n",
            "chr9\t106056125\tN\t31\t<<<<<<<<<GGGGGGGGGGGGGGGGGGGGGG\tBHEIG?DIIIIIIGGE@GFIGD;GIGIIFHD\n",
            "chr9\t106056126\tN\t30\t<<<<<<<<<GGGGGGGGGGGGGGGGGGGGG\tBHEIG?DIIIIGHGHIGHI>G;GGGIGIHG\n"
          ]
        }
      ],
      "source": [
        "!awk '$2 >= 106056039 && $2 <= 106056126 { print $0; }' CLIP-let7g.pileup > CLIP-let7g-gene.pileup\n",
        "!tail CLIP-let7g-gene.pileup"
      ]
    },
    {
      "cell_type": "markdown",
      "metadata": {
        "id": "CNEWC4t_MA__"
      },
      "source": [
        "이제 pandas에 불러와서 분석해 봅니다. R을 쓰시는 분들은 R로 보내서 작업하셔도 됩니다."
      ]
    },
    {
      "cell_type": "code",
      "execution_count": 35,
      "metadata": {
        "id": "PWq1ItOxILxa",
        "colab": {
          "base_uri": "https://localhost:8080/",
          "height": 206
        },
        "outputId": "8787b76c-7367-4017-cc78-7151c6d006e5"
      },
      "outputs": [
        {
          "output_type": "execute_result",
          "data": {
            "text/plain": [
              "   chrom        pos _ref  count  \\\n",
              "83  chr9  106056122    N     88   \n",
              "84  chr9  106056123    N     31   \n",
              "85  chr9  106056124    N     31   \n",
              "86  chr9  106056125    N     31   \n",
              "87  chr9  106056126    N     30   \n",
              "\n",
              "                                            basereads  \\\n",
              "83  <<<<<<<<<C$C$C$C$C$C$C$C$C$C$C$C$C$CCCCCC$C$C$...   \n",
              "84                    <<<<<<<<<CCCCCCCCCCCCCCCCCCCCCC   \n",
              "85                    <<<<<<<<<AAAAAAAAAAAAAAAAAAAAAA   \n",
              "86                    <<<<<<<<<GGGGGGGGGGGGGGGGGGGGGG   \n",
              "87                     <<<<<<<<<GGGGGGGGGGGGGGGGGGGGG   \n",
              "\n",
              "                                                quals  \n",
              "83  BHEIG?DIIEEGIIC;GIHEGBIIIIB1=FII?FEIGGGHDBIG=H...  \n",
              "84                    BHEIG?DIIIIII>GIGGIGGD>BIHHHIEH  \n",
              "85                    BHEIG?DIIIIHIGGIGGGIG:9DDBIEGFH  \n",
              "86                    BHEIG?DIIIIIIGGE@GFIGD;GIGIIFHD  \n",
              "87                     BHEIG?DIIIIGHGHIGHI>G;GGGIGIHG  "
            ],
            "text/html": [
              "\n",
              "  <div id=\"df-effc7e96-9fce-429c-82e8-3382319b54f5\">\n",
              "    <div class=\"colab-df-container\">\n",
              "      <div>\n",
              "<style scoped>\n",
              "    .dataframe tbody tr th:only-of-type {\n",
              "        vertical-align: middle;\n",
              "    }\n",
              "\n",
              "    .dataframe tbody tr th {\n",
              "        vertical-align: top;\n",
              "    }\n",
              "\n",
              "    .dataframe thead th {\n",
              "        text-align: right;\n",
              "    }\n",
              "</style>\n",
              "<table border=\"1\" class=\"dataframe\">\n",
              "  <thead>\n",
              "    <tr style=\"text-align: right;\">\n",
              "      <th></th>\n",
              "      <th>chrom</th>\n",
              "      <th>pos</th>\n",
              "      <th>_ref</th>\n",
              "      <th>count</th>\n",
              "      <th>basereads</th>\n",
              "      <th>quals</th>\n",
              "    </tr>\n",
              "  </thead>\n",
              "  <tbody>\n",
              "    <tr>\n",
              "      <th>83</th>\n",
              "      <td>chr9</td>\n",
              "      <td>106056122</td>\n",
              "      <td>N</td>\n",
              "      <td>88</td>\n",
              "      <td>&lt;&lt;&lt;&lt;&lt;&lt;&lt;&lt;&lt;C$C$C$C$C$C$C$C$C$C$C$C$C$CCCCCC$C$C$...</td>\n",
              "      <td>BHEIG?DIIEEGIIC;GIHEGBIIIIB1=FII?FEIGGGHDBIG=H...</td>\n",
              "    </tr>\n",
              "    <tr>\n",
              "      <th>84</th>\n",
              "      <td>chr9</td>\n",
              "      <td>106056123</td>\n",
              "      <td>N</td>\n",
              "      <td>31</td>\n",
              "      <td>&lt;&lt;&lt;&lt;&lt;&lt;&lt;&lt;&lt;CCCCCCCCCCCCCCCCCCCCCC</td>\n",
              "      <td>BHEIG?DIIIIII&gt;GIGGIGGD&gt;BIHHHIEH</td>\n",
              "    </tr>\n",
              "    <tr>\n",
              "      <th>85</th>\n",
              "      <td>chr9</td>\n",
              "      <td>106056124</td>\n",
              "      <td>N</td>\n",
              "      <td>31</td>\n",
              "      <td>&lt;&lt;&lt;&lt;&lt;&lt;&lt;&lt;&lt;AAAAAAAAAAAAAAAAAAAAAA</td>\n",
              "      <td>BHEIG?DIIIIHIGGIGGGIG:9DDBIEGFH</td>\n",
              "    </tr>\n",
              "    <tr>\n",
              "      <th>86</th>\n",
              "      <td>chr9</td>\n",
              "      <td>106056125</td>\n",
              "      <td>N</td>\n",
              "      <td>31</td>\n",
              "      <td>&lt;&lt;&lt;&lt;&lt;&lt;&lt;&lt;&lt;GGGGGGGGGGGGGGGGGGGGGG</td>\n",
              "      <td>BHEIG?DIIIIIIGGE@GFIGD;GIGIIFHD</td>\n",
              "    </tr>\n",
              "    <tr>\n",
              "      <th>87</th>\n",
              "      <td>chr9</td>\n",
              "      <td>106056126</td>\n",
              "      <td>N</td>\n",
              "      <td>30</td>\n",
              "      <td>&lt;&lt;&lt;&lt;&lt;&lt;&lt;&lt;&lt;GGGGGGGGGGGGGGGGGGGGG</td>\n",
              "      <td>BHEIG?DIIIIGHGHIGHI&gt;G;GGGIGIHG</td>\n",
              "    </tr>\n",
              "  </tbody>\n",
              "</table>\n",
              "</div>\n",
              "      <button class=\"colab-df-convert\" onclick=\"convertToInteractive('df-effc7e96-9fce-429c-82e8-3382319b54f5')\"\n",
              "              title=\"Convert this dataframe to an interactive table.\"\n",
              "              style=\"display:none;\">\n",
              "        \n",
              "  <svg xmlns=\"http://www.w3.org/2000/svg\" height=\"24px\"viewBox=\"0 0 24 24\"\n",
              "       width=\"24px\">\n",
              "    <path d=\"M0 0h24v24H0V0z\" fill=\"none\"/>\n",
              "    <path d=\"M18.56 5.44l.94 2.06.94-2.06 2.06-.94-2.06-.94-.94-2.06-.94 2.06-2.06.94zm-11 1L8.5 8.5l.94-2.06 2.06-.94-2.06-.94L8.5 2.5l-.94 2.06-2.06.94zm10 10l.94 2.06.94-2.06 2.06-.94-2.06-.94-.94-2.06-.94 2.06-2.06.94z\"/><path d=\"M17.41 7.96l-1.37-1.37c-.4-.4-.92-.59-1.43-.59-.52 0-1.04.2-1.43.59L10.3 9.45l-7.72 7.72c-.78.78-.78 2.05 0 2.83L4 21.41c.39.39.9.59 1.41.59.51 0 1.02-.2 1.41-.59l7.78-7.78 2.81-2.81c.8-.78.8-2.07 0-2.86zM5.41 20L4 18.59l7.72-7.72 1.47 1.35L5.41 20z\"/>\n",
              "  </svg>\n",
              "      </button>\n",
              "      \n",
              "  <style>\n",
              "    .colab-df-container {\n",
              "      display:flex;\n",
              "      flex-wrap:wrap;\n",
              "      gap: 12px;\n",
              "    }\n",
              "\n",
              "    .colab-df-convert {\n",
              "      background-color: #E8F0FE;\n",
              "      border: none;\n",
              "      border-radius: 50%;\n",
              "      cursor: pointer;\n",
              "      display: none;\n",
              "      fill: #1967D2;\n",
              "      height: 32px;\n",
              "      padding: 0 0 0 0;\n",
              "      width: 32px;\n",
              "    }\n",
              "\n",
              "    .colab-df-convert:hover {\n",
              "      background-color: #E2EBFA;\n",
              "      box-shadow: 0px 1px 2px rgba(60, 64, 67, 0.3), 0px 1px 3px 1px rgba(60, 64, 67, 0.15);\n",
              "      fill: #174EA6;\n",
              "    }\n",
              "\n",
              "    [theme=dark] .colab-df-convert {\n",
              "      background-color: #3B4455;\n",
              "      fill: #D2E3FC;\n",
              "    }\n",
              "\n",
              "    [theme=dark] .colab-df-convert:hover {\n",
              "      background-color: #434B5C;\n",
              "      box-shadow: 0px 1px 3px 1px rgba(0, 0, 0, 0.15);\n",
              "      filter: drop-shadow(0px 1px 2px rgba(0, 0, 0, 0.3));\n",
              "      fill: #FFFFFF;\n",
              "    }\n",
              "  </style>\n",
              "\n",
              "      <script>\n",
              "        const buttonEl =\n",
              "          document.querySelector('#df-effc7e96-9fce-429c-82e8-3382319b54f5 button.colab-df-convert');\n",
              "        buttonEl.style.display =\n",
              "          google.colab.kernel.accessAllowed ? 'block' : 'none';\n",
              "\n",
              "        async function convertToInteractive(key) {\n",
              "          const element = document.querySelector('#df-effc7e96-9fce-429c-82e8-3382319b54f5');\n",
              "          const dataTable =\n",
              "            await google.colab.kernel.invokeFunction('convertToInteractive',\n",
              "                                                     [key], {});\n",
              "          if (!dataTable) return;\n",
              "\n",
              "          const docLinkHtml = 'Like what you see? Visit the ' +\n",
              "            '<a target=\"_blank\" href=https://colab.research.google.com/notebooks/data_table.ipynb>data table notebook</a>'\n",
              "            + ' to learn more about interactive tables.';\n",
              "          element.innerHTML = '';\n",
              "          dataTable['output_type'] = 'display_data';\n",
              "          await google.colab.output.renderOutput(dataTable, element);\n",
              "          const docLink = document.createElement('div');\n",
              "          docLink.innerHTML = docLinkHtml;\n",
              "          element.appendChild(docLink);\n",
              "        }\n",
              "      </script>\n",
              "    </div>\n",
              "  </div>\n",
              "  "
            ]
          },
          "metadata": {},
          "execution_count": 35
        }
      ],
      "source": [
        "import pandas as pd\n",
        "\n",
        "pileup = pd.read_csv('CLIP-let7g-gene.pileup', sep='\\t', names=['chrom', 'pos', '_ref', 'count', 'basereads', 'quals'])\n",
        "pileup.tail()"
      ]
    },
    {
      "cell_type": "markdown",
      "metadata": {
        "id": "DOM-v48vMTQ-"
      },
      "source": [
        "여기서 pileup에서 계산에 사용할 것은 match와 substitution만입니다. 나머지에 해당하는 tag들은 제거합니다.\n",
        "\n",
        "R을 쓰시는 분들은 R로 보내서 작업하셔도 됩니다."
      ]
    },
    {
      "cell_type": "code",
      "execution_count": 36,
      "metadata": {
        "id": "qm25CsvBILug"
      },
      "outputs": [],
      "source": [
        "import re\n",
        "toremove = re.compile('[<>$*#^]')\n",
        "pileup['matches'] = pileup['basereads'].apply(lambda x: toremove.sub('', x))"
      ]
    },
    {
      "cell_type": "code",
      "execution_count": 37,
      "metadata": {
        "id": "uXYF___MILrK",
        "colab": {
          "base_uri": "https://localhost:8080/",
          "height": 424
        },
        "outputId": "90a8b392-6f4d-4fe9-ce25-4b50e9b93642"
      },
      "outputs": [
        {
          "output_type": "execute_result",
          "data": {
            "text/plain": [
              "   chrom        pos                                            matches\n",
              "0   chr9  106056039                                                   \n",
              "1   chr9  106056040                                                   \n",
              "2   chr9  106056041                                                   \n",
              "3   chr9  106056042                                                   \n",
              "4   chr9  106056043                                                   \n",
              "..   ...        ...                                                ...\n",
              "83  chr9  106056122  CCCCCCCCCCCCCCCCCCCCCCCCCCCCCCCCCCCCCCCCCCCCCC...\n",
              "84  chr9  106056123                             CCCCCCCCCCCCCCCCCCCCCC\n",
              "85  chr9  106056124                             AAAAAAAAAAAAAAAAAAAAAA\n",
              "86  chr9  106056125                             GGGGGGGGGGGGGGGGGGGGGG\n",
              "87  chr9  106056126                              GGGGGGGGGGGGGGGGGGGGG\n",
              "\n",
              "[88 rows x 3 columns]"
            ],
            "text/html": [
              "\n",
              "  <div id=\"df-eee4b98f-d114-4e73-a785-fd5d807013c3\">\n",
              "    <div class=\"colab-df-container\">\n",
              "      <div>\n",
              "<style scoped>\n",
              "    .dataframe tbody tr th:only-of-type {\n",
              "        vertical-align: middle;\n",
              "    }\n",
              "\n",
              "    .dataframe tbody tr th {\n",
              "        vertical-align: top;\n",
              "    }\n",
              "\n",
              "    .dataframe thead th {\n",
              "        text-align: right;\n",
              "    }\n",
              "</style>\n",
              "<table border=\"1\" class=\"dataframe\">\n",
              "  <thead>\n",
              "    <tr style=\"text-align: right;\">\n",
              "      <th></th>\n",
              "      <th>chrom</th>\n",
              "      <th>pos</th>\n",
              "      <th>matches</th>\n",
              "    </tr>\n",
              "  </thead>\n",
              "  <tbody>\n",
              "    <tr>\n",
              "      <th>0</th>\n",
              "      <td>chr9</td>\n",
              "      <td>106056039</td>\n",
              "      <td></td>\n",
              "    </tr>\n",
              "    <tr>\n",
              "      <th>1</th>\n",
              "      <td>chr9</td>\n",
              "      <td>106056040</td>\n",
              "      <td></td>\n",
              "    </tr>\n",
              "    <tr>\n",
              "      <th>2</th>\n",
              "      <td>chr9</td>\n",
              "      <td>106056041</td>\n",
              "      <td></td>\n",
              "    </tr>\n",
              "    <tr>\n",
              "      <th>3</th>\n",
              "      <td>chr9</td>\n",
              "      <td>106056042</td>\n",
              "      <td></td>\n",
              "    </tr>\n",
              "    <tr>\n",
              "      <th>4</th>\n",
              "      <td>chr9</td>\n",
              "      <td>106056043</td>\n",
              "      <td></td>\n",
              "    </tr>\n",
              "    <tr>\n",
              "      <th>...</th>\n",
              "      <td>...</td>\n",
              "      <td>...</td>\n",
              "      <td>...</td>\n",
              "    </tr>\n",
              "    <tr>\n",
              "      <th>83</th>\n",
              "      <td>chr9</td>\n",
              "      <td>106056122</td>\n",
              "      <td>CCCCCCCCCCCCCCCCCCCCCCCCCCCCCCCCCCCCCCCCCCCCCC...</td>\n",
              "    </tr>\n",
              "    <tr>\n",
              "      <th>84</th>\n",
              "      <td>chr9</td>\n",
              "      <td>106056123</td>\n",
              "      <td>CCCCCCCCCCCCCCCCCCCCCC</td>\n",
              "    </tr>\n",
              "    <tr>\n",
              "      <th>85</th>\n",
              "      <td>chr9</td>\n",
              "      <td>106056124</td>\n",
              "      <td>AAAAAAAAAAAAAAAAAAAAAA</td>\n",
              "    </tr>\n",
              "    <tr>\n",
              "      <th>86</th>\n",
              "      <td>chr9</td>\n",
              "      <td>106056125</td>\n",
              "      <td>GGGGGGGGGGGGGGGGGGGGGG</td>\n",
              "    </tr>\n",
              "    <tr>\n",
              "      <th>87</th>\n",
              "      <td>chr9</td>\n",
              "      <td>106056126</td>\n",
              "      <td>GGGGGGGGGGGGGGGGGGGGG</td>\n",
              "    </tr>\n",
              "  </tbody>\n",
              "</table>\n",
              "<p>88 rows × 3 columns</p>\n",
              "</div>\n",
              "      <button class=\"colab-df-convert\" onclick=\"convertToInteractive('df-eee4b98f-d114-4e73-a785-fd5d807013c3')\"\n",
              "              title=\"Convert this dataframe to an interactive table.\"\n",
              "              style=\"display:none;\">\n",
              "        \n",
              "  <svg xmlns=\"http://www.w3.org/2000/svg\" height=\"24px\"viewBox=\"0 0 24 24\"\n",
              "       width=\"24px\">\n",
              "    <path d=\"M0 0h24v24H0V0z\" fill=\"none\"/>\n",
              "    <path d=\"M18.56 5.44l.94 2.06.94-2.06 2.06-.94-2.06-.94-.94-2.06-.94 2.06-2.06.94zm-11 1L8.5 8.5l.94-2.06 2.06-.94-2.06-.94L8.5 2.5l-.94 2.06-2.06.94zm10 10l.94 2.06.94-2.06 2.06-.94-2.06-.94-.94-2.06-.94 2.06-2.06.94z\"/><path d=\"M17.41 7.96l-1.37-1.37c-.4-.4-.92-.59-1.43-.59-.52 0-1.04.2-1.43.59L10.3 9.45l-7.72 7.72c-.78.78-.78 2.05 0 2.83L4 21.41c.39.39.9.59 1.41.59.51 0 1.02-.2 1.41-.59l7.78-7.78 2.81-2.81c.8-.78.8-2.07 0-2.86zM5.41 20L4 18.59l7.72-7.72 1.47 1.35L5.41 20z\"/>\n",
              "  </svg>\n",
              "      </button>\n",
              "      \n",
              "  <style>\n",
              "    .colab-df-container {\n",
              "      display:flex;\n",
              "      flex-wrap:wrap;\n",
              "      gap: 12px;\n",
              "    }\n",
              "\n",
              "    .colab-df-convert {\n",
              "      background-color: #E8F0FE;\n",
              "      border: none;\n",
              "      border-radius: 50%;\n",
              "      cursor: pointer;\n",
              "      display: none;\n",
              "      fill: #1967D2;\n",
              "      height: 32px;\n",
              "      padding: 0 0 0 0;\n",
              "      width: 32px;\n",
              "    }\n",
              "\n",
              "    .colab-df-convert:hover {\n",
              "      background-color: #E2EBFA;\n",
              "      box-shadow: 0px 1px 2px rgba(60, 64, 67, 0.3), 0px 1px 3px 1px rgba(60, 64, 67, 0.15);\n",
              "      fill: #174EA6;\n",
              "    }\n",
              "\n",
              "    [theme=dark] .colab-df-convert {\n",
              "      background-color: #3B4455;\n",
              "      fill: #D2E3FC;\n",
              "    }\n",
              "\n",
              "    [theme=dark] .colab-df-convert:hover {\n",
              "      background-color: #434B5C;\n",
              "      box-shadow: 0px 1px 3px 1px rgba(0, 0, 0, 0.15);\n",
              "      filter: drop-shadow(0px 1px 2px rgba(0, 0, 0, 0.3));\n",
              "      fill: #FFFFFF;\n",
              "    }\n",
              "  </style>\n",
              "\n",
              "      <script>\n",
              "        const buttonEl =\n",
              "          document.querySelector('#df-eee4b98f-d114-4e73-a785-fd5d807013c3 button.colab-df-convert');\n",
              "        buttonEl.style.display =\n",
              "          google.colab.kernel.accessAllowed ? 'block' : 'none';\n",
              "\n",
              "        async function convertToInteractive(key) {\n",
              "          const element = document.querySelector('#df-eee4b98f-d114-4e73-a785-fd5d807013c3');\n",
              "          const dataTable =\n",
              "            await google.colab.kernel.invokeFunction('convertToInteractive',\n",
              "                                                     [key], {});\n",
              "          if (!dataTable) return;\n",
              "\n",
              "          const docLinkHtml = 'Like what you see? Visit the ' +\n",
              "            '<a target=\"_blank\" href=https://colab.research.google.com/notebooks/data_table.ipynb>data table notebook</a>'\n",
              "            + ' to learn more about interactive tables.';\n",
              "          element.innerHTML = '';\n",
              "          dataTable['output_type'] = 'display_data';\n",
              "          await google.colab.output.renderOutput(dataTable, element);\n",
              "          const docLink = document.createElement('div');\n",
              "          docLink.innerHTML = docLinkHtml;\n",
              "          element.appendChild(docLink);\n",
              "        }\n",
              "      </script>\n",
              "    </div>\n",
              "  </div>\n",
              "  "
            ]
          },
          "metadata": {},
          "execution_count": 37
        }
      ],
      "source": [
        "pileup[['chrom', 'pos', 'matches']]"
      ]
    },
    {
      "cell_type": "code",
      "execution_count": 38,
      "metadata": {
        "id": "k55NUm9OILhw",
        "colab": {
          "base_uri": "https://localhost:8080/",
          "height": 35
        },
        "outputId": "bea2cc06-0586-4f60-ee57-d061f590cd91"
      },
      "outputs": [
        {
          "output_type": "execute_result",
          "data": {
            "text/plain": [
              "'GGGGGGAAAAAAAAGGGGGAAAAAAGCCGCAGGATGAGGTGATAAGGGAGGGGTGAAGGGCGGTGAAGGGGAAAAGAGAAAGAAAAATAAAGGGGGAGTGGGAGGAAGAAGAGAATA'"
            ],
            "application/vnd.google.colaboratory.intrinsic+json": {
              "type": "string"
            }
          },
          "metadata": {},
          "execution_count": 38
        }
      ],
      "source": [
        "pileup[pileup['pos'] == 106056094].iloc[0]['matches']"
      ]
    },
    {
      "cell_type": "markdown",
      "metadata": {
        "id": "NrgJiS2iRhIn"
      },
      "source": [
        "자 이제 데이터 준비가 대충 끝났습니다. 다음 순서로 진행해 보세요. (1-4번 단계는 R을 쓰시는 분들은 R로 보내서 작업하셔도 됩니다.)\n",
        "\n",
        "1. 각 position별로 base수를 셉니다.\n",
        "1. 각 position별로 Shannon entropy를 계산합니다.\n",
        "1. 계산한 Shannon entropy를 [bedgraph format](https://genome.ucsc.edu/goldenPath/help/bedgraph.html)으로 출력합니다. 말은 복잡해도 실제로는 간단합니다. 4칸짜리를 만드시면 됩니다.\n",
        "1. 결과 파일을 본인의 Google Drive에서 가져옵니다.\n",
        "1. [UCSC Genome Browser](http://genome.ucsc.edu/cgi-bin/hgTracks?db=mm39&lastVirtModeType=default&lastVirtModeExtraState=&virtModeType=default&virtMode=0&nonVirtPosition=&position=chr9%3A106056039-106056126)에 접속해서 Genome은 mm39로 선택합니다.\n",
        "1. 그래프 아랫쪽의 add custom tracks 버튼을 누릅니다.\n",
        "1. Paste URLs or data 옆의 Choose File 버튼을 누르고 우리가 만든 bedgraph 파일을 업로드 합니다.\n",
        "1. 그리고 이리 저리 감상해 보다가 View 메뉴의 PDF/PS 를 눌러서 인증샷을 한 번 찍습니다.\n",
        "1. Mirlet7d와 Mirlet7f-1도 한 번 해 봅니다."
      ]
    },
    {
      "cell_type": "code",
      "execution_count": 39,
      "metadata": {
        "id": "AHTL_baZRg2y"
      },
      "outputs": [],
      "source": [
        "pileup2 = pileup[['chrom', 'pos', 'matches']]"
      ]
    },
    {
      "cell_type": "code",
      "execution_count": 40,
      "metadata": {
        "id": "_v8ttN7muOxF"
      },
      "outputs": [],
      "source": [
        "pileup3 = pileup2['matches']"
      ]
    },
    {
      "cell_type": "code",
      "execution_count": 41,
      "metadata": {
        "id": "_-5BwIzkuS57",
        "colab": {
          "base_uri": "https://localhost:8080/"
        },
        "outputId": "8b04e902-99b3-429b-d929-c11f7029d072"
      },
      "outputs": [
        {
          "output_type": "stream",
          "name": "stderr",
          "text": [
            "/usr/local/lib/python3.7/dist-packages/ipykernel_launcher.py:1: SettingWithCopyWarning: \n",
            "A value is trying to be set on a copy of a slice from a DataFrame.\n",
            "Try using .loc[row_indexer,col_indexer] = value instead\n",
            "\n",
            "See the caveats in the documentation: https://pandas.pydata.org/pandas-docs/stable/user_guide/indexing.html#returning-a-view-versus-a-copy\n",
            "  \"\"\"Entry point for launching an IPython kernel.\n",
            "/usr/local/lib/python3.7/dist-packages/ipykernel_launcher.py:1: SettingWithCopyWarning: \n",
            "A value is trying to be set on a copy of a slice from a DataFrame.\n",
            "Try using .loc[row_indexer,col_indexer] = value instead\n",
            "\n",
            "See the caveats in the documentation: https://pandas.pydata.org/pandas-docs/stable/user_guide/indexing.html#returning-a-view-versus-a-copy\n",
            "  \"\"\"Entry point for launching an IPython kernel.\n"
          ]
        }
      ],
      "source": [
        "pileup2['base'] = pileup3.str.len()"
      ]
    },
    {
      "cell_type": "code",
      "source": [
        "import pandas as pd\n",
        "pileup2"
      ],
      "metadata": {
        "colab": {
          "base_uri": "https://localhost:8080/",
          "height": 424
        },
        "id": "cPxj9Aka9YJr",
        "outputId": "8a02699a-5fd8-4f04-806d-1cc9f777242e"
      },
      "execution_count": 47,
      "outputs": [
        {
          "output_type": "execute_result",
          "data": {
            "text/plain": [
              "   chrom        pos                                            matches  base\n",
              "0   chr9  106056039                                                        0\n",
              "1   chr9  106056040                                                        0\n",
              "2   chr9  106056041                                                        0\n",
              "3   chr9  106056042                                                        0\n",
              "4   chr9  106056043                                                        0\n",
              "..   ...        ...                                                ...   ...\n",
              "83  chr9  106056122  CCCCCCCCCCCCCCCCCCCCCCCCCCCCCCCCCCCCCCCCCCCCCC...    79\n",
              "84  chr9  106056123                             CCCCCCCCCCCCCCCCCCCCCC    22\n",
              "85  chr9  106056124                             AAAAAAAAAAAAAAAAAAAAAA    22\n",
              "86  chr9  106056125                             GGGGGGGGGGGGGGGGGGGGGG    22\n",
              "87  chr9  106056126                              GGGGGGGGGGGGGGGGGGGGG    21\n",
              "\n",
              "[88 rows x 4 columns]"
            ],
            "text/html": [
              "\n",
              "  <div id=\"df-feaccfb2-1e86-40bd-a163-c28814ba85e3\">\n",
              "    <div class=\"colab-df-container\">\n",
              "      <div>\n",
              "<style scoped>\n",
              "    .dataframe tbody tr th:only-of-type {\n",
              "        vertical-align: middle;\n",
              "    }\n",
              "\n",
              "    .dataframe tbody tr th {\n",
              "        vertical-align: top;\n",
              "    }\n",
              "\n",
              "    .dataframe thead th {\n",
              "        text-align: right;\n",
              "    }\n",
              "</style>\n",
              "<table border=\"1\" class=\"dataframe\">\n",
              "  <thead>\n",
              "    <tr style=\"text-align: right;\">\n",
              "      <th></th>\n",
              "      <th>chrom</th>\n",
              "      <th>pos</th>\n",
              "      <th>matches</th>\n",
              "      <th>base</th>\n",
              "    </tr>\n",
              "  </thead>\n",
              "  <tbody>\n",
              "    <tr>\n",
              "      <th>0</th>\n",
              "      <td>chr9</td>\n",
              "      <td>106056039</td>\n",
              "      <td></td>\n",
              "      <td>0</td>\n",
              "    </tr>\n",
              "    <tr>\n",
              "      <th>1</th>\n",
              "      <td>chr9</td>\n",
              "      <td>106056040</td>\n",
              "      <td></td>\n",
              "      <td>0</td>\n",
              "    </tr>\n",
              "    <tr>\n",
              "      <th>2</th>\n",
              "      <td>chr9</td>\n",
              "      <td>106056041</td>\n",
              "      <td></td>\n",
              "      <td>0</td>\n",
              "    </tr>\n",
              "    <tr>\n",
              "      <th>3</th>\n",
              "      <td>chr9</td>\n",
              "      <td>106056042</td>\n",
              "      <td></td>\n",
              "      <td>0</td>\n",
              "    </tr>\n",
              "    <tr>\n",
              "      <th>4</th>\n",
              "      <td>chr9</td>\n",
              "      <td>106056043</td>\n",
              "      <td></td>\n",
              "      <td>0</td>\n",
              "    </tr>\n",
              "    <tr>\n",
              "      <th>...</th>\n",
              "      <td>...</td>\n",
              "      <td>...</td>\n",
              "      <td>...</td>\n",
              "      <td>...</td>\n",
              "    </tr>\n",
              "    <tr>\n",
              "      <th>83</th>\n",
              "      <td>chr9</td>\n",
              "      <td>106056122</td>\n",
              "      <td>CCCCCCCCCCCCCCCCCCCCCCCCCCCCCCCCCCCCCCCCCCCCCC...</td>\n",
              "      <td>79</td>\n",
              "    </tr>\n",
              "    <tr>\n",
              "      <th>84</th>\n",
              "      <td>chr9</td>\n",
              "      <td>106056123</td>\n",
              "      <td>CCCCCCCCCCCCCCCCCCCCCC</td>\n",
              "      <td>22</td>\n",
              "    </tr>\n",
              "    <tr>\n",
              "      <th>85</th>\n",
              "      <td>chr9</td>\n",
              "      <td>106056124</td>\n",
              "      <td>AAAAAAAAAAAAAAAAAAAAAA</td>\n",
              "      <td>22</td>\n",
              "    </tr>\n",
              "    <tr>\n",
              "      <th>86</th>\n",
              "      <td>chr9</td>\n",
              "      <td>106056125</td>\n",
              "      <td>GGGGGGGGGGGGGGGGGGGGGG</td>\n",
              "      <td>22</td>\n",
              "    </tr>\n",
              "    <tr>\n",
              "      <th>87</th>\n",
              "      <td>chr9</td>\n",
              "      <td>106056126</td>\n",
              "      <td>GGGGGGGGGGGGGGGGGGGGG</td>\n",
              "      <td>21</td>\n",
              "    </tr>\n",
              "  </tbody>\n",
              "</table>\n",
              "<p>88 rows × 4 columns</p>\n",
              "</div>\n",
              "      <button class=\"colab-df-convert\" onclick=\"convertToInteractive('df-feaccfb2-1e86-40bd-a163-c28814ba85e3')\"\n",
              "              title=\"Convert this dataframe to an interactive table.\"\n",
              "              style=\"display:none;\">\n",
              "        \n",
              "  <svg xmlns=\"http://www.w3.org/2000/svg\" height=\"24px\"viewBox=\"0 0 24 24\"\n",
              "       width=\"24px\">\n",
              "    <path d=\"M0 0h24v24H0V0z\" fill=\"none\"/>\n",
              "    <path d=\"M18.56 5.44l.94 2.06.94-2.06 2.06-.94-2.06-.94-.94-2.06-.94 2.06-2.06.94zm-11 1L8.5 8.5l.94-2.06 2.06-.94-2.06-.94L8.5 2.5l-.94 2.06-2.06.94zm10 10l.94 2.06.94-2.06 2.06-.94-2.06-.94-.94-2.06-.94 2.06-2.06.94z\"/><path d=\"M17.41 7.96l-1.37-1.37c-.4-.4-.92-.59-1.43-.59-.52 0-1.04.2-1.43.59L10.3 9.45l-7.72 7.72c-.78.78-.78 2.05 0 2.83L4 21.41c.39.39.9.59 1.41.59.51 0 1.02-.2 1.41-.59l7.78-7.78 2.81-2.81c.8-.78.8-2.07 0-2.86zM5.41 20L4 18.59l7.72-7.72 1.47 1.35L5.41 20z\"/>\n",
              "  </svg>\n",
              "      </button>\n",
              "      \n",
              "  <style>\n",
              "    .colab-df-container {\n",
              "      display:flex;\n",
              "      flex-wrap:wrap;\n",
              "      gap: 12px;\n",
              "    }\n",
              "\n",
              "    .colab-df-convert {\n",
              "      background-color: #E8F0FE;\n",
              "      border: none;\n",
              "      border-radius: 50%;\n",
              "      cursor: pointer;\n",
              "      display: none;\n",
              "      fill: #1967D2;\n",
              "      height: 32px;\n",
              "      padding: 0 0 0 0;\n",
              "      width: 32px;\n",
              "    }\n",
              "\n",
              "    .colab-df-convert:hover {\n",
              "      background-color: #E2EBFA;\n",
              "      box-shadow: 0px 1px 2px rgba(60, 64, 67, 0.3), 0px 1px 3px 1px rgba(60, 64, 67, 0.15);\n",
              "      fill: #174EA6;\n",
              "    }\n",
              "\n",
              "    [theme=dark] .colab-df-convert {\n",
              "      background-color: #3B4455;\n",
              "      fill: #D2E3FC;\n",
              "    }\n",
              "\n",
              "    [theme=dark] .colab-df-convert:hover {\n",
              "      background-color: #434B5C;\n",
              "      box-shadow: 0px 1px 3px 1px rgba(0, 0, 0, 0.15);\n",
              "      filter: drop-shadow(0px 1px 2px rgba(0, 0, 0, 0.3));\n",
              "      fill: #FFFFFF;\n",
              "    }\n",
              "  </style>\n",
              "\n",
              "      <script>\n",
              "        const buttonEl =\n",
              "          document.querySelector('#df-feaccfb2-1e86-40bd-a163-c28814ba85e3 button.colab-df-convert');\n",
              "        buttonEl.style.display =\n",
              "          google.colab.kernel.accessAllowed ? 'block' : 'none';\n",
              "\n",
              "        async function convertToInteractive(key) {\n",
              "          const element = document.querySelector('#df-feaccfb2-1e86-40bd-a163-c28814ba85e3');\n",
              "          const dataTable =\n",
              "            await google.colab.kernel.invokeFunction('convertToInteractive',\n",
              "                                                     [key], {});\n",
              "          if (!dataTable) return;\n",
              "\n",
              "          const docLinkHtml = 'Like what you see? Visit the ' +\n",
              "            '<a target=\"_blank\" href=https://colab.research.google.com/notebooks/data_table.ipynb>data table notebook</a>'\n",
              "            + ' to learn more about interactive tables.';\n",
              "          element.innerHTML = '';\n",
              "          dataTable['output_type'] = 'display_data';\n",
              "          await google.colab.output.renderOutput(dataTable, element);\n",
              "          const docLink = document.createElement('div');\n",
              "          docLink.innerHTML = docLinkHtml;\n",
              "          element.appendChild(docLink);\n",
              "        }\n",
              "      </script>\n",
              "    </div>\n",
              "  </div>\n",
              "  "
            ]
          },
          "metadata": {},
          "execution_count": 47
        }
      ]
    },
    {
      "cell_type": "code",
      "source": [
        "from scipy.stats import entropy\n",
        "import seaborn as sns\n",
        "\n",
        "def shannon_entropy(matches: str):\n",
        "  counts = {\"A\" : 0, \"T\" : 0, \"G\" : 0, \"C\" : 0}\n",
        "  for base in matches:\n",
        "    try :\n",
        "      counts[base.upper()] += 1\n",
        "    except KeyError:\n",
        "      continue\n",
        "  return 0 if sum(counts.values()) <= 0 else entropy([x/sum(counts.values()) for x in counts.values()])\n",
        "\n",
        "bedgraph = pileup[[\"chrom\", \"pos\"]].copy()\n",
        "bedgraph[\"start\"] = bedgraph[\"pos\"]\n",
        "bedgraph[\"end\"] = bedgraph[\"start\"] + 1\n",
        "bedgraph[\"value\"] = pileup[\"matches\"].apply(shannon_entropy)\n",
        "bedgraph = bedgraph[[\"chrom\", \"start\", \"end\", \"value\"]]\n",
        "bedgraph\n",
        "\n",
        "bedgraph.to_csv(\"/content/colab-biolab\\\\bedGraph1.csv\", sep=\"\\t\", header=None, index=False)\n",
        "\n"
      ],
      "metadata": {
        "id": "impx_5ZGIpeP"
      },
      "execution_count": 74,
      "outputs": []
    },
    {
      "cell_type": "markdown",
      "source": [
        "![웹 캡처_17-5-2022_182454_genome.ucsc.edu.jpeg](data:image/jpeg;base64,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)"
      ],
      "metadata": {
        "id": "3Eeo1njiVeYy"
      }
    },
    {
      "cell_type": "markdown",
      "source": [
        "Mirlet7d"
      ],
      "metadata": {
        "id": "Q_hVzt0bTsjc"
      }
    },
    {
      "cell_type": "code",
      "source": [
        "!grep -i mirlet7d gencode.gtf\n",
        "!samtools view -b -o CLIP-let7d.bam CLIP-35L33G.bam chr13:48689488-48689590\n",
        "!samtools view CLIP-let7d.bam | wc -l\n",
        "!samtools mpileup CLIP-let7d.bam > CLIP-let7d.pileup\n",
        "!awk '$2 >= 48689488 && $2 <= 48689590 { print $0; }' CLIP-let7d.pileup > CLIP-let7d-gene.pileup\n",
        "\n",
        "import pandas as pd\n",
        "from scipy.stats import entropy\n",
        "import seaborn as sns\n",
        "import re\n",
        "\n",
        "pileup = pd.read_csv('CLIP-let7d-gene.pileup', sep='\\t', names=['chrom', 'pos', '_ref', 'count', 'basereads', 'quals'])\n",
        "toremove = re.compile('[<>$*#^]')\n",
        "pileup['matches'] = pileup['basereads'].apply(lambda x: toremove.sub('', x))\n",
        "\n",
        "bedgraph = pileup[[\"chrom\", \"pos\"]].copy()\n",
        "bedgraph[\"start\"] = bedgraph[\"pos\"]\n",
        "bedgraph[\"end\"] = bedgraph[\"start\"] + 1\n",
        "bedgraph[\"value\"] = pileup[\"matches\"].apply(shannon_entropy)\n",
        "bedgraph = bedgraph[[\"chrom\", \"start\", \"end\", \"value\"]]\n",
        "bedgraph\n",
        "\n",
        "bedgraph.to_csv(\"/content/colab-biolab\\\\bedGraph2.csv\", sep=\"\\t\", header=None, index=False)"
      ],
      "metadata": {
        "id": "_kHEoxnWT12v",
        "outputId": "88e9ba05-b4f6-4b84-b5a7-544e93f7059c",
        "colab": {
          "base_uri": "https://localhost:8080/"
        }
      },
      "execution_count": 75,
      "outputs": [
        {
          "output_type": "stream",
          "name": "stdout",
          "text": [
            "chr13\tENSEMBL\tgene\t48689488\t48689590\t.\t-\t.\tgene_id \"ENSMUSG00000065453.3\"; gene_type \"miRNA\"; gene_name \"Mirlet7d\"; level 3; mgi_id \"MGI:2676796\";\n",
            "chr13\tENSEMBL\ttranscript\t48689488\t48689590\t.\t-\t.\tgene_id \"ENSMUSG00000065453.3\"; transcript_id \"ENSMUST00000083519.3\"; gene_type \"miRNA\"; gene_name \"Mirlet7d\"; transcript_type \"miRNA\"; transcript_name \"Mirlet7d-201\"; level 3; transcript_support_level \"NA\"; mgi_id \"MGI:2676796\"; tag \"basic\";\n",
            "chr13\tENSEMBL\texon\t48689488\t48689590\t.\t-\t.\tgene_id \"ENSMUSG00000065453.3\"; transcript_id \"ENSMUST00000083519.3\"; gene_type \"miRNA\"; gene_name \"Mirlet7d\"; transcript_type \"miRNA\"; transcript_name \"Mirlet7d-201\"; exon_number 1; exon_id \"ENSMUSE00000522678.2\"; level 3; transcript_support_level \"NA\"; mgi_id \"MGI:2676796\"; tag \"basic\";\n",
            "187\n",
            "[mpileup] 1 samples in 1 input files\n"
          ]
        }
      ]
    },
    {
      "cell_type": "markdown",
      "source": [
        "![웹 캡처_17-5-2022_18290_genome.ucsc.edu.jpeg](data:image/jpeg;base64,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)"
      ],
      "metadata": {
        "id": "KM6wZ-DXWZ3G"
      }
    },
    {
      "cell_type": "markdown",
      "source": [
        "Mirlet7f-1"
      ],
      "metadata": {
        "id": "6a4iW109TwZu"
      }
    },
    {
      "cell_type": "code",
      "source": [
        "!grep -i mirlet7f-1 gencode.gtf\n",
        "!samtools view -b -o CLIP-let7f-1.bam CLIP-35L33G.bam chr13:48691305-48691393\n",
        "!samtools view CLIP-let7f-1.bam | wc -l\n",
        "!samtools mpileup CLIP-let7f-1.bam > CLIP-let7f-1.pileup\n",
        "!awk '$2 >= 48691305 && $2 <= 48691393 { print $0; }' CLIP-let7f-1.pileup > CLIP-let7f-1-gene.pileup\n",
        "\n",
        "import pandas as pd\n",
        "import re\n",
        "from scipy.stats import entropy\n",
        "import seaborn as sns\n",
        "\n",
        "pileup = pd.read_csv('CLIP-let7f-1-gene.pileup', sep='\\t', names=['chrom', 'pos', '_ref', 'count', 'basereads', 'quals'])\n",
        "toremove = re.compile('[<>$*#^]')\n",
        "pileup['matches'] = pileup['basereads'].apply(lambda x: toremove.sub('', x))\n",
        "\n",
        "bedgraph = pileup[[\"chrom\", \"pos\"]].copy()\n",
        "bedgraph[\"start\"] = bedgraph[\"pos\"]\n",
        "bedgraph[\"end\"] = bedgraph[\"start\"] + 1\n",
        "bedgraph[\"value\"] = pileup[\"matches\"].apply(shannon_entropy)\n",
        "bedgraph = bedgraph[[\"chrom\", \"start\", \"end\", \"value\"]]\n",
        "bedgraph.to_csv(\"/content/colab-biolab\\\\bedGraph3.csv\", sep=\"\\t\", header=None, index=False)"
      ],
      "metadata": {
        "id": "l412CZekS6ML",
        "outputId": "e49fa1f6-7aa6-483f-9480-2f644ea5c46e",
        "colab": {
          "base_uri": "https://localhost:8080/"
        }
      },
      "execution_count": 77,
      "outputs": [
        {
          "output_type": "stream",
          "name": "stdout",
          "text": [
            "chr13\tENSEMBL\tgene\t48691305\t48691393\t.\t-\t.\tgene_id \"ENSMUSG00000105621.3\"; gene_type \"miRNA\"; gene_name \"Mirlet7f-1\"; level 3; mgi_id \"MGI:2676798\";\n",
            "chr13\tENSEMBL\ttranscript\t48691305\t48691393\t.\t-\t.\tgene_id \"ENSMUSG00000105621.3\"; transcript_id \"ENSMUST00000198652.3\"; gene_type \"miRNA\"; gene_name \"Mirlet7f-1\"; transcript_type \"miRNA\"; transcript_name \"Mirlet7f-1-201\"; level 3; transcript_support_level \"NA\"; mgi_id \"MGI:2676798\"; tag \"basic\";\n",
            "chr13\tENSEMBL\texon\t48691305\t48691393\t.\t-\t.\tgene_id \"ENSMUSG00000105621.3\"; transcript_id \"ENSMUST00000198652.3\"; gene_type \"miRNA\"; gene_name \"Mirlet7f-1\"; transcript_type \"miRNA\"; transcript_name \"Mirlet7f-1-201\"; exon_number 1; exon_id \"ENSMUSE00001348852.2\"; level 3; transcript_support_level \"NA\"; mgi_id \"MGI:2676798\"; tag \"basic\";\n",
            "158\n",
            "[mpileup] 1 samples in 1 input files\n"
          ]
        }
      ]
    },
    {
      "cell_type": "markdown",
      "source": [
        "![웹 캡처_17-5-2022_18323_genome.ucsc.edu.jpeg](data:image/jpeg;base64,/9j/4AAQSkZJRgABAQAAAQABAAD/4gIoSUNDX1BST0ZJTEUAAQEAAAIYAAAAAAQwAABtbnRyUkdCIFhZWiAAAAAAAAAAAAAAAABhY3NwAAAAAAAAAAAAAAAAAAAAAAAAAAAAAAAAAAAAAQAA9tYAAQAAAADTLQAAAAAAAAAAAAAAAAAAAAAAAAAAAAAAAAAAAAAAAAAAAAAAAAAAAAAAAAAAAAAAAAAAAAlkZXNjAAAA8AAAAHRyWFlaAAABZAAAABRnWFlaAAABeAAAABRiWFlaAAABjAAAABRyVFJDAAABoAAAAChnVFJDAAABoAAAAChiVFJDAAABoAAAACh3dHB0AAAByAAAABRjcHJ0AAAB3AAAADxtbHVjAAAAAAAAAAEAAAAMZW5VUwAAAFgAAAAcAHMAUgBHAEIAAAAAAAAAAAAAAAAAAAAAAAAAAAAAAAAAAAAAAAAAAAAAAAAAAAAAAAAAAAAAAAAAAAAAAAAAAAAAAAAAAAAAAAAAAAAAAAAAAAAAAAAAAFhZWiAAAAAAAABvogAAOPUAAAOQWFlaIAAAAAAAAGKZAAC3hQAAGNpYWVogAAAAAAAAJKAAAA+EAAC2z3BhcmEAAAAAAAQAAAACZmYAAPKnAAANWQAAE9AAAApbAAAAAAAAAABYWVogAAAAAAAA9tYAAQAAAADTLW1sdWMAAAAAAAAAAQAAAAxlblVTAAAAIAAAABwARwBvAG8AZwBsAGUAIABJAG4AYwAuACAAMgAwADEANv/bAEMAAwICAgICAwICAgMDAwMEBgQEBAQECAYGBQYJCAoKCQgJCQoMDwwKCw4LCQkNEQ0ODxAQERAKDBITEhATDxAQEP/bAEMBAwMDBAMECAQECBALCQsQEBAQEBAQEBAQEBAQEBAQEBAQEBAQEBAQEBAQEBAQEBAQEBAQEBAQEBAQEBAQEBAQEP/AABEIANUCzgMBIgACEQEDEQH/xAAeAAEAAQUBAQEBAAAAAAAAAAAABAUGBwgJAwIBCv/EAFAQAAAEAwQFBwcKBAUDBAIDAAECAwQABREGBxJ0EyE0NbMIFBYiMVGyFRlBRoGFwwkjJCUyM0RhYoIXGHGRNkJUZHVSU3IpSGahktEmQ/D/xAAaAQEBAQEBAQEAAAAAAAAAAAAAAQIDBAUG/8QAQREAAQEDBwcKBQQCAgMBAAAAAQACAxEEITFBYXHBEjJCUXKBsQUGFSIzU5Gh0fATFFKSkxYjQ2Lh4tLxgqLCY//aAAwDAQACEQMRAD8A6pwhCCJCEIIkIQgiR4u1hbNVnAFAwpJmOADWg0CvoAR/sA/0j2i3rerWtQs0upYlqK800zcoFICQqAgKxAWMmCxyJioCQnEoHMBcQBWvYOW45JAVZhGdYbspyqUVWJTWraS1VcTKKHWYu0E0CpkTQMYiZucKkXVqvUCFUA+AhjGImYAIPjIOWRZ+czFugNmnAt38wTlzY6KnV0mkFM/XOBaiIiQSFECCYAP2CUAG5LCMuUNz5oytc/M3lzlw5dOnGjaGcNinWeiRAtFFAoBQZCGo9MZi1EAHD82LlV8sttNZ009GfuGqMnI1nKzl41VSVX0iAgoUpVgDEAAtjokA0MYSnNQiUdBDKgfcJ8IXmKhBgIU+tHhGNwhMsmsP8ENv+KJwQiozbdbzLqeEYpzD/BDb/iicEIqM23W8y6nhGNOM1i/0XWU9s3eeKTLZyZhDilg82hjmB4SkJls5MwhxSwebQxzA8JSNM5o38FxKKb0b5dbxJwT3o4y6PiUgpvRvl1vEnBPejjLo+JSGjuxRGe0PswHCTgz2h9mA4ScGe0PswHCTgz2h9mA4ScDXcMESW7OfML8U0RfVb3f8OJUt2c+YX4poi+q3u/4caGedoYqKVMtnJmEOKWDzaGOYHhKQmWzkzCHFLB5tDHMDwlIyzmjfwVKPNoY5geEpBTejfLreJODzaGOYHhKQU3o3y63iTiCq44oie9HGXR8SkGe0PswHCTgnvRxl0fEpBntD7MBwk4pruGCJLdnPmF+KaMUWhtDedKrF21cNGwuTy9aWlkoIyhY4GZqEb6fqkxnXEoGWxGIGqg0AKRleW7OfML8U0RfVb3f8ONQi0YawgqWCZ5f1fAVjNkU7kZ39HlAOAP5IemIqoItwMVMcICcxirqGBMwJiTQmxGEQMBZqd9160wtE3lT25ecsZcpP2rEyx5c6McjczoSaUT4ASwYSlVFTHqA4EwDQTxnObbreZdTwjEK1k6llnpIebzh1oGqC7bEfAY5hEy5ClKUpQExzGMIFKUoCJhEAABEQCMO+rkxNeIVanEBq9lYLuvvb5R1r7ubF2omFyslmDmaMkHZ3Q2qI05wY6BhE4o82Noq1EcNRp2Vi7VLc8oTykgI3BSTFoFaB03JrDEnX8J/T+8ZGYTyW2iayybSlc6rZVyoQBUROkcpyEVKch0zgByGKYogJTAAgICAhE5TejfLreJOAEIXHFZpWK07c8oTykuIXBSTFoEqh03JqDEpT8J/X+0GlueUIC73DcFJBEVwqHTcmodGT/af0jKie9HGXR8SkGe0PswHCTimu4YKrFbS3PKEBd7huCkgiK4VDpuTUOjJ/tP6Ql9ueUICB8NwUkENOtr6bkDXpDV/CRlRntD7MBwk4S3Zz5hfimiN0eHBFiLpxygujeH+Akkwcxpi6bErTR9tOaf8A1EmYW55QgoExXBSQA06OvpuQdekLT8JGSvVb3f8ADiVMtnJmEOKWN6Q2jggoWK3dueUIK7LFcFJAEFxoHTcmsdGf/af1g7tzyhBXZYrgpIAguNA6bk1joz/7T+sZUebQxzA8JSDzaGOYHhKRgVXHFFitS3PKE8pICNwUkxaBWgdNyawxJ1/Cf0/vBO3PKE8pLiFwUkxaBKodNyagxKU/Cf1/tGVFN6N8ut4k4J70cZdHxKQ0d2KLFbS3PKEBd7huCkgiK4VDpuTUOjJ/tP6Ql9ueUICB8NwUkENOtr6bkDXpDV/CRlRntD7MBwk4S3Zz5hfimg3R4cEWIunHKC6N4f4CSTBzGmLpsStNH205p/8AUSZnbnlCDLXYHuCkhSigpUem5BoGEf8AaRkr1W93/Di2b7214b2660DK647NOfrslU0VXDoUBTKJDYhSPgOAK+guIAKAjURCkaaOSQf7HBVhnKMIwVtzC3PKEFAmK4KSAGnR19NyDr0hafhIO7c8oQV2WK4KSAILjQOm5NY6M/8AtP6xaIMuUK2kNr202bzUX83mLAspFNymum3TB6sdcEzg4KIALYqJCm+jVOYgYSnA6po7eznKOcBMm7x3OmCq1nlyMHBZk3MbyiDVAG6KZTqqlIYDJu8apusIriAqG0aag5Z1X8PfuEYz1gDR79+4wvZS3PKE8pICNwUkxaBWgdNyawxJ1/Cf0/vBO3PKE8pLiFwUkxaBKodNyagxKU/Cf1/tFPvSQvZnNr5cpd+xtC2SbMHzZ6bnSCKC5dGcPmQMsAgqKgo4TmIOsSCB0wIoB12EqveY3jC4tW2makoPLzplF++A4tEAWUFsQdG7OVdfAIFUMdERqURBUew4Ts7sT6Dx8VAj7q97lUGlueUIC73DcFJBEVwqHTcmodGT/af0g0tzyhAXe4bgpIIiuFQ6bk1Doyf7T+kVXk3WWnthrirBWKtSx5lOrP2XksrmLbSkU0DpCWtk1U8ZBMQ2E5DBUoiUaVARDXF/s9ofZgOEnFNdwwRYrl9ueUICB8NwUkENOtr6bkDXpDV/CRG6ccoLo3h/gJJMHMaYumxK00fbTmn/ANRl2W7OfML8U0RfVb3f8ONDPN4xUWNZhbnlCCgTFcFJADTo6+m5B16QtPwkHdueUIK7LFcFJAEFxoHTcmsdGf8A2n9YypMtnJmEOKWDzaGOYHhKRhnNG/gqVit3bnlCCuyxXBSQBBcaB03JrHRn/wBp/WClueUJ5SQEbgpJi0CtA6bk1hiTr+E/p/eMqPNoY5geEpBTejfLreJOAquOKLFadueUJ5SXELgpJi0CVQ6bk1BiUp+E/r/aDS3PKEBd7huCkgiK4VDpuTUOjJ/tP6RlRPejjLo+JSDPaH2YDhJxTXcMEWK5fbnlCAgfDcFJBDTra+m5A16Q1fwkJZbnlCBLWgEuCkhiggnQem5AqGEP9pGVJbs58wvxTQlO62eXT8IRG9K/1QLEXTjlBdG8P8BJJg5jTF02JWmj7ac0/wDqJMwtzyhBQJiuCkgBp0dfTcg69IWn4SMleq3u/wCHEqZbOTMIcUsb0htHBBQsVu7c8oQV2WK4KSAILjQOm5NY6M/+0/rBS3PKE8pICNwUkxaBWgdNyawxJ1/Cf0/vGVHm0McwPCUgpvRvl1vEnGBVccUWK07c8oTykuIXBSTFoEqh03JqDEpT8J/X+0GlueUIC73DcFJBEVwqHTcmodGT/af0jKie9HGXR8SkGe0PswHCTimu4YIsVtLc8oQF3uG4KSCIrhUOm5NQ6Mn+0/pFBtfehyjLPXeWmnzK46StVpbL5k8TcdLyL6E6ZVTgfRc1DSYRCuGoYqUqFYzkz2h9mA4ScUec2tkdibPrT60SrpJim6WIdRuxXdCQRVPQTFRIcwB6MQhSogFdYRG5h4cEE5VvTS2rqQXMSu1LiWHmDx7L5a35umcqWJd2KSICIjqKUDqgI9uoBoAjqjHz3lWt3DHTI3dTP5krJ4sBnyACQirYXqQdusRRTGtOw+qoh1ozW1cJu7HJOkiqlItLQUKCqRkzgApVDEQ4AYo94CACHpCJ8y2cmYQ4pY2AWXnW+r0VBBZWvE75TE7ZWoRlaEvkj5ulO02yKrRXSncAqAkI1KUqoiCwVVxGMACUyVDJACiZz7DvNoY5geEpH48ITnLEcAbSYez06JTXH682hjmB4SkZFAFh4e/dOZ60U3o3y63iTgnvRxl0fEpBTejfLreJOCe9HGXR8SkNHdiqjPaH2YDhJwluznzC/FNBntD7MBwk4S3Zz5hfimg3R4cErSU7rZ5dPwhEX1W93/DiVKd1s8un4QiL6re7/hxoZ52hiopUy2cmYQ4pYPNoY5geEpCZbOTMIcUsHm0McwPCUjLOaN/BUopvRvl1vEnBPejjLo+JSCm9G+XW8ScE96OMuj4lIaO7FEZ7Q+zAcJODPaH2YDhJwZ7Q+zAcJODPaH2YDhJwNdwwRJbs58wvxTRF9Vvd/wAOJUt2c+YX4poi+q3u/wCHGhnnaGKilTLZyZhDilil203WlmC+E0VSZbOTMIcUsUu2m60swXwmjcl7Ri84I1Qq/CEI8i0kIQgiQhCCJCMAK3v3vywrBVOwM6nBm6TZpN0CyFyQxXZlnAKGRECFKoUCJJdcDaMAOBqmESkNcd2V5N6NvZ86llpLunlk2CKC5hcuWq5FQUqQCJpioTRHEMZhxhiKbBqKGuhnrQhXHyn8xONc2tGuqSDVDz9KDqnWTZzLnk0Z81Yz59KFcZT85ZkQMpQBqJaLpqEoPYPVr3CEWo8utUmk2lM2nN4NpnqknWKsjsbY5hAC4iGVbt01NGcSAY6YGApxoAhhDDGP3FvL6bFyNVY8gntrFhcTHrrybGuUicxM3bFIk1TRKJTIACwmMNRAcQUKIU/Eb5b438xkK5LqpmzZun6SM0bGlbwyjFsoUwCsc5kilVw0KfCkOIMWE4AIDB31+szr84wrtroroRvqzNe5o1e6ll9h/ght/wAUTghFRm263mXU8IxTmH+CG3/FE4IRUZtut5l1PCMdHGaxf6LrKe2bvPFJls5MwhxSwebQxzA8JSEy2cmYQ4pYPNoY5geEpGmc0b+C4lFN6N8ut4k4J70cZdHxKQU3o3y63iTgnvRxl0fEpDR3YojPaH2YDhJwZ7Q+zAcJODPaH2YDhJwZ7Q+zAcJOBruGCJLdnPmF+KaIvqt7v+HEqW7OfML8U0RfVb3f8ONDPO0MVFKmWzkzCHFLB5tDHMDwlITLZyZhDilg82hjmB4SkZZzRv4KlHm0McwPCUgpvRvl1vEnB5tDHMDwlIKb0b5dbxJxBVccURPejjLo+JSDPaH2YDhJwT3o4y6PiUgz2h9mA4ScU13DBEluznzC/FNEX1W93/DiVLdnPmF+KaIvqt7v+HGhnnaGKilTbdbzLqeEYpNvLNtrV2dGTuXjpmIvmLlFy1EmlQXRdJKpKFxlMQRKchRoYpijSggIRVptut5l1PCMJls5MwhxSxhgRyb/AEWlT5bKl5K0lrB1O382WK6VOd4+FMVlBMRU2sEykIABWgAUoAAAARUFN6N8ut4k4PNoY5geEpBTejfLreJOKJ4XHFZRPejjLo+JSDPaH2YDhJwT3o4y6PiUgz2h9mA4ScDXcMFUZ7Q+zAcJOEt2c+YX4poM9ofZgOEnCW7OfML8U0G6PDglai+q3u/4cSpls5MwhxSxF9Vvd/w4lTLZyZhDiljemNo4IKEebQxzA8JSDzaGOYHhKQebQxzA8JSDzaGOYHhKRzFVxxRFN6N8ut4k4J70cZdHxKQU3o3y63iTgnvRxl0fEpF0d2KIz2h9mA4ScJbs58wvxTQZ7Q+zAcJOEt2c+YX4poN0eHBK1F9Vvd/w4lTbdbzLqeEYi+q3u/4cSptut5l1PCMb0xtHBBQrMvLvLa2IBygvKlXQtJUed1IqBcZUXSCYphUO0RVAa/l+cWs95U10gPitxmEw08vO5WdIAzMZVAqSCxuuQBExRMBDUKIYgEKHAg0CMj2ssnZe0fMHdoLOSyZry90idoo7aJrGQMKyYiJBMAiWolKOr0lKPoCKY5uruwTdsjp3cWXIYV1gESyduAjpEFCqf5P8xdRu8NQxzdxyWY/2jh4CbdFVqE8LIY+qt23V9TWw1qpWhN7OOkpYeVc9ePVDHAWukNQExAhDpgoAp0wqKJ4xMAJ6QwCWPhzyh7vmNopjLzpzhVRuo3l2JJgYxVHhjrARAg11nMBDiHooUaiFQres5sbZCe2kYzad2Uk8wfNmiyaLp0xSVVTJiJ1SnMURAOsbUA/5h74tk1wtz6s0mZS3eyJAr1uyBQiDBJMoFSWUUAhQKUAKUxgqcoaj68VYCOQY6jxm9+zGqRDf4e/8K2WfKmu4bzKekmJnTZBq+bN0R0RzLLHUZgsYNHhDCJCpqgIYhMIpiAAIiUDVRO+9N5Za3FsrK2aO+b2ZBN6BX7kzIHrYWaa+kTEE1BCpKYQEoVrrEuuOGhrsuX+uiq0Pd7yglEhMlpUhlM6EoikngSxBgpUiY4S17CjQKBExhYr5ReXM5nLJXZLlHNWs2OYZm3bsJ6RN2YxAKbTFKWigiSgDiAahT0RnKMIGmAw9CrXEUf4n812+c8oaxFjmx0bcGVlbhGZuGDkyYCs3KuVQgqAkYQIosQouEi1KnXrVw0KYSybK3yWetXMXt37aXzBpNGchJMTJOktGYERASCYweihgAAoI1xV7I4aP7BfKHTtUjqZ2L5RT9VJwdwRReXTxUxFxMUTqAJijQ4mTIIj21IWvYEJTYf5Q6QkSdSOyHKKlxEEjAko0l88RBNMwDiAolKFCiAjWmoajGmG4GLQrB8vWe6a1QgQ6tvhGbfBf0JzLZyZhDilg82hjmB4SkcCVfOkYQ0380+HEWmLpFTFUMPb6a0p+dIH86RiT0n80+LF83i6RVxUHs/OlfZWIGoCF/BF32ebQxzA8JSCm9G+XW8SccCT+dIxJ6T+afFi+bxdIq4qD2fnSvsrAfOkaUtf5p9JhNhr0ixYahWn5Vw19kQNUXHFF32T3o4y6PiUgz2h9mA4SccCQ86RpTU/mn0mEuKnSLFhqNK/lXFT2wJ50jEpo/wCafFi+cw9Iq4qB2/nSnspFLVNwwRd9pbs58wvxTQlO62eXT8IRwJS86RhHQ/zT4cRq4ekVMVRxdnprWv51gl50jRE0H80+jwhgwdIsOGmqlPRSI01GNp9UXez1W93/AA4lTLZyZhDiljgN/wCqHzX/AN0vNtH/APIcGCn9qU9lI+1fOkYQ0380+HEWmLpFTFUMPb6a0p+dI1l9YGFcUXfZ5tDHMDwlIKb0b5dbxJxwJP50jEnpP5p8WL5vF0irioPZ+dK+ysB86RpS1/mn0mE2GvSLFhqFaflXDX2RkNUXHFF32T3o4y6PiUgz2h9mA4SccCQ86RpTU/mn0mEuKnSLFhqNK/lXFT2wJ50jEpo/5p8WL5zD0irioHb+dKeykUtU3DBF32Z7Q+zAcJOKVN7OMbXWYfWdmSq6bZ6sqVQ6BgA4AC4mCgiAh2gHojg8TzpGJTR/zT4sXzmHpFXFQO386U9lIJedIwjof5p8OI1cPSKmKo4uz01rX86waaiPDyCLvZ6re7/hxKmWzkzCHFLHAb/1Q+a/+6Xm2j/+Q4MFP7Up7KR9q+dIwhpv5p8OItMXSKmKoYe301pT86RcvrAwrii77PNoY5geEpB5tDHMDwlI4En86RiT0n80+LF83i6RVxUHs/OlfZWB/OkYk9J/NPixfN4ukVcVB7PzpX2VjIaouOKLvspvRvl1vEnBPejjLo+JSOBI+dI0pa/zT6TCbDXpFiw1CtPyrhr7IB50jSmp/NPpMJcVOkWLDUaV/KuKnti5U0LMUXfZntD7MBwk4S3Zz5hfimjgSTzpGJTR/wA0+LF85h6RVxUDt/OlPZSCXnSMI6H+afDiNXD0ipiqOLs9Na1/OsGmojw4Iu+0p3Wzy6fhCIvqt7v+HHBNLzpGiJoP5p9HhDBg6RYcNNVKeikfH/qh81/90vNtH/8AIcGCn9qU9lIob60YVxSC78zLZyZhDilg82hjmB4SkcCVfOkYQ0380+HEWmLpFTFUMPb6a0p+dIH86RiT0n80+LF83i6RVxUHs/OlfZWIGoCF/BF32U3o3y63iTgnvRxl0fEpHAkfOkaUtf5p9JhNhr0ixYahWn5Vw19kA86RpTU/mn0mEuKnSLFhqNK/lXFT2wypoWYou+zPaH2YDhJwZ7Q+zAcJOOBJPOkYlNH/ADT4sXzmHpFXFQO386U9lIE86RiU0f8ANPixfOYekVcVA7fzpT2UgWqbhgi77S3Zz5hfimiL6re7/hxwTS86RhHQ/wA0+HEauHpFTFUcXZ6a1r+dY+P/AFQ+a/8Aul5to/8A5DgwU/tSnspFDfWjCuKQXfmZbOTMIcUsUu2m60swXwmjg6r50jCGm/mnw4i0xdIqYqhh7fTWlPzpHk9859og8o/zRaPFq0/SHDioPf6aVjTl58NpkwjAoREL+gaEIRwVSEIQRW9am3Uhsg7lbGbrGBebraFsmUxCiNBKAm65i1ABOQKFqYcWoB10o7i92RMGp303ks5YNkXirJddVJI6aSidK9ZJQwH1iJaExCAkPiAoFEQuC0FkZBahRqrO2Z1jMzCKQkXUS1CJRMQ2AwYyCJCCJDVKOEKhqjGt4ylirMThiwc2JmEyBgycrEFKbqopEI55wosUyekAFBOCCtRMA/aAOwRjyPW3rsxiIE+llh9zLzPmnjAabiAyIehjNbVdXEXa0vbs29dllbVjNVJqKC655cVuBl0tEchBKehsBRMKhRLU1MIGERAAEQjrX0WXatyzB6wmjdgdmg+K7MmkdPRqqlSLUCKGOHWMNKlADAmcSiYAqOLvKdz6yoeVrs1miTxQzA83UmhgcnScLAmYyzgDgrhomYRxHHCQMIajGAKjaa3t3DCTszPrIP3spnEqYOFAdKOiiIpiVRuUV1BodMoHN1yiYpjiBRHWNOJlLUQA0AZteok1RE1GuiZeV3KmywXjbTMBXPXCFU9sL6lf76+aQS1mL95I5ymimk6VXEStwFuLcomUKoXS1DVg61MHzpAEwCMfslvssROnCDQjhVuq4cFaJgc6KpTKmx4SlOiocp66MwAJBMAjqrUDAWyJc4k04si0CQyBJCZTV2tKVEHwPniaySro4KFF0KhA0gFQ0h6GOYoJ4aUwx+sJbZycMZZa15YdoE1f2hai8MCz5BFqKi6gJKtRNQh1A0hhMKYlLjOcw6xoPRl68LbIiIGA3lpkTbmq6DTrMEpekRDQoyq82BsjGI3iJsFHe8tfkyWalrix86vL5tN5UgeWu2/kaYH0blIopnJiKgJRocohUBEBpUBEI/Zhy9uSauwcoJXr4jqInKUPIUyCoiUQD8PGDrVXj8zmc4l/mz+kegXcI9IvIOPylhMYOe4/JpsWkppMWM1cVcQ9sQHd6WJqsXzUegqmYNL0cpg1fa3X6O2PnM8pvmYANszH6HlnuZeGWcryhmUvGQ2znH+N7rK2AfcvbkmrIlInevUQWSMP1FMuwqhRH8P3AMHPL25JqizQ5L16gksJjfUUy1Bozh/p+8QjX9zeliTAPNR6H5xMcXRylaHDq7r9PZ7YLXpVUQHzUejwqCOHo5951DdXdft/bFZ5Ufwz2a9B5qXm6YlHeMfjerYA/L25Jov0VwvX6hEVSiPkKZahExBD8P8ApGBOXtyTQfrLjev1DopFAfIUy1iBjiP4f9QRr+a9L6UmbzUdKJnDRdHPtay9bdfopT90C3pfSlDeajrVMgaLo59nWbrbr9Nafth0o/hDLZo+h5rTpiUd4x+N6tgG3L25Jqazs5716AqsBi/UUy1hoyB/p+8Bg25e3JNTWdnPevQFVgMX6imWsNGQP9P3gMa/o3pUUXHzUekxKAOHo5931C9Xdft/dBG9Kii4+aj0mJQBw9HPu+oXq7r9v7oHlR/P12aBoPLE6YlHeMfjerYBjy9uSaiiYil69BFZUwfUUy7DKGEPw/cIR4fz48lHyDzL+Kvz3M9Fh8hzL7WClK83p2xgZtelhTEPNR6b5xQcXRytKnHq7r9HZ7I8v4ofVej81V+Hw856O/p+8r5L9vb7Yo5Vf5Uctmnu3idMSjvGPxvVsK+5e3JNWRKRO9eogskYfqKZdhVCiP4fuAYOeXtyTVFmhyXr1BJYTG+oplqDRnD/AE/eIRr+5vSxJgHmo9D84mOLo5StDh1d1+ns9sFr0qqID5qPR4VBHD0c+86huruv2/tiM8qP4Z7Neg81J0xKO8Y/G9WwDnl7ck1RZocl69QSWExvqKZag0Zw/wBP3iED8vbkmi/RXC9fqERVKI+QplqETEEPw/6RjX9a9KqiA+aj0eFQRw9HPvOobq7r9v7YGvS+lJm81HSiZw0XRz7WsvW3X6KU/dEHKj+brs0HQeWp0xKO8Y/G9WwBOXtyTQfrLjev1DopFAfIUy1iBjiP4f8AUEG3L25Jqazs5716AqsBi/UUy1hoyB/p+8BjX8t6X0pQ3mo61TIGi6OfZ1m626/TWn7YI3pUUXHzUekxKAOHo5931C9Xdft/dFPKj+frs0DQeWJ0xKO8Y/G9WwDHl7ck1FExFL16CKypg+opl2GUMIfh+4Qjw/nx5KPkHmX8VfnuZ6LD5DmX2sFKV5vTtjAza9LCmIeaj03zig4ujlaVOPV3X6Oz2R5fxQ+q9H5qr8Ph5z0d/T95XyX7e32xRyq/yo5bNPdvE6YlHeMfjerYWYcvbkmrsHKCV6+I6iJylDyFMgqIlEA/DwfcvbkmrIlInevUQWSMP1FMuwqhRH8P3AMa/u70sTVYvmo9BVMwaXo5TBq+1uv0dsHN6WJMA81HofnExxdHKVocOruv09ntiM8qPxDrs0/Q8sTpiUd4x+N6tgHPL25JqizQ5L16gksJjfUUy1Bozh/p+8Qgfl7ck0X6K4Xr9QiKpRHyFMtQiYgh+H/SMa/rXpVUQHzUejwqCOHo5951DdXdft/bA16X0pM3mo6UTOGi6Ofa1l626/RSn7og5Ufzddmg6Dy1OmJR3jH43q2AJy9uSaD9Zcb1+odFIoD5CmWsQMcR/D/qCDbl7ck1NZ2c969AVWAxfqKZaw0ZA/0/eAxr+W9L6UobzUdapkDRdHPs6zdbdfprT9sEb0qKLj5qPSYlAHD0c+76heruv2/uinlR/P12aBoPLE6YlHeMfjerYBty9uSams7Oe9egKrAYv1FMtYaMgf6fvAYMeXtyTUUTEUvXoIrKmD6imXYZQwh+H7hCNf0b0qKLj5qPSYlAHD0c+76heruv2/ug2vSwpiHmo9N84oOLo5WlTj1d1+js9kGuVH5GezVoPNSdMSjvGPxvVnn+fHko+QeZfxV+e5nosPkOZfawUpXm9O2Pd9y9uSasiUid69RBZIw/UUy7CqFEfw/cAxr1/FD6r0fmqvw+HnPR39P3lfJft7fbHq5vSxJgHmo9D84mOLo5StDh1d1+ns9sXpV/lA5bNPdvLE6YlHeMfjerYBzy9uSaos0OS9eoJLCY31FMtQaM4f6fvEIOeXtyTVFmhyXr1BJYTG+oplqDRnD/AE/eIRr+telVRAfNR6PCoI4ejn3nUN1d1+39sFr0qqID5qPR4VBHD0c+86huruv2/tjI5Ufzddmg6Dy1OmJR3jH43q2APy9uSaL9FcL1+oRFUoj5CmWoRMQQ/D/pGBOXtyTQfrLjev1DopFAfIUy1iBjiP4f9QRr+a9L6UmbzUdKJnDRdHPtay9bdfopT90C3pfSlDeajrVMgaLo59nWbrbr9Nafti9KP4Qy2aPoea06YlHeMfjerYBty9uSams7Oe9egKrAYv1FMtYaMgf6fvAYMeXtyTUUTEUvXoIrKmD6imXYZQwh+H7hCNf0b0qKLj5qPSYlAHD0c+76heruv2/ug2vSwpiHmo9N84oOLo5WlTj1d1+js9kGuVH5GezVoPNSdMSjvGPxvVnn+fHko+QeZfxV+e5nosPkOZfawUpXm9O2PeYcvbkmrsHKCV6+I6iJylDyFMgqIlEA/Dxr1/FD6r0fmqvw+HnPR39P3lfJft7fbHq7vSxNVi+aj0FUzBpejlMGr7W6/R2xelX+UDls0928sTpiUd4x+N6s02+5cHJftJYycSCR31Gl8wftToNnZZHNAFuobUCgCDcBDCOvVr1atcYIVv7uMcWsk866c2KZyaXvHK5ZM1lswMkiKibcAOGnkyhDGqgYKlTTU6wDpKmMITnN6WJMA81HofnExxdHKVocOruv09ntgtelVRAfNR6PCoI4ejn3nUN1d1+39sZY5UfsnKDbP2PEa5YlBEPiMfje1zKDLb9rmZPN5WZ/fbJLVSGXtiCpJpoxnQJOFDGXFZBQ5mKmNEFVU108RBoYmAQKUpBj0n9/dyE1TmDdrelZlF06QACzIzaemUMhzA7fyWOJiY4tgVEpsRjGqBQPoxOI0lGvS+lJm81HSiZw0XRz7WsvW3X6KU/dAt6X0pQ3mo61TIGi6OfZ1m626/TWn7YM8pvmWYBtmiHZvNceNeqagkGtcsyhpotF4xP/APm91Q92z0gEftnuUFyf5deUjbBzeFZZvKEnYLNpQ3l0wVRlZcSYiDbTSc40ESHP82LYQOcQAaABom235Qtw1pJpPFZNf81ZM05qjNrOlNK5yUzdc6qDh0ZUCtRqALNyiQKjqUVKNAEKwUb0qKLj5qPSYlAHD0c+76heruv2/ugjelRRcfNR6TEoA4ejn3fUL1d1+390Byo/ZyYNs9WEOo81g10zitDyzKGi0S2xPT+291Q4LzstyhrlmEzO8tJefZGa4/Kz5VdyynaxnD12DiiB0Ty8xOZgdYTCQogYwimIh8yUhsyWO5ZnJFsddzLbGML1ArL5YVrQJFMgxq4OubU3oGI4mHVQArqoEYfbXpYUxDzUem+cUHF0crSpx6u6/R2eyPL+KH1Xo/NVfh8POejv6fvK+S/b2+2NM8qPmTANs1Ds3lUYcbzMoeWJQTEvGKz2b2uEeC2FfcvbkmrIlInevUQWSMP1FMuwqhRH8P3AMHPL25JqizQ5L16gksJjfUUy1Bozh/p+8QjX9zeliTAPNR6H5xMcXRylaHDq7r9PZ7YLXpVUQHzUejwqCOHo5951DdXdft/bEZ5Ufwz2a9B5qTpiUd4x+N6tgHPL25JqizQ5L16gksJjfUUy1Bozh/p+8Qgfl7ck0X6K4Xr9QiKpRHyFMtQiYgh+H/SMa/rXpVUQHzUejwqCOHo5951DdXdft/bA16X0pM3mo6UTOGi6Ofa1l626/RSn7og5Ufzddmg6Dy1OmJR3jH43q2AJy9uSaD9Zcb1+odFIoD5CmWsQMcR/D/qCDbl7ck1NZ2c969AVWAxfqKZaw0ZA/wBP3gMa/lvS+lKG81HWqZA0XRz7Os3W3X6a0/bBG9Kii4+aj0mJQBw9HPu+oXq7r9v7op5Ufz9dmgaDyxOmJR3jH43q2AY8vbkmoomIpevQRWVMH1FMuwyhhD8P3CEJfy9uSagwbIK3r4TpokKYPIUyGggUAH8PGv7a9LCmIeaj03zig4ujlaVOPV3X6Oz2QaXpYWqJfNR6eiZQ0vRyuPV9rdfp7YjXKj8x67NP0PE6YlHeMfjerPP8+PJR8g8y/ir89zPRYfIcy+1gpSvN6dse77l7ck1ZEpE716iCyRh+opl2FUKI/h+4BjXr+KH1Xo/NVfh8POejv6fvK+S/b2+2PVzeliTAPNR6H5xMcXRylaHDq7r9PZ7Y10q/ygctmnu3lidMSjvGPxvVsA55e3JNUWaHJevUElhMb6imWoNGcP8AT94hA/L25Jov0VwvX6hEVSiPkKZahExBD8P+kY1/WvSqogPmo9HhUEcPRz7zqG6u6/b+2Br0vpSZvNR0omcNF0c+1rL1t1+ilP3RkcqP5uuzQdB5anTEo7xj8b1bAE5e3JNB+suN6/UOikUB8hTLWIGOI/h/1BBty9uSams7Oe9egKrAYv1FMtYaMgf6fvAY1/Lel9KUN5qOtUyBoujn2dZutuv01p+2CN6VFFx81HpMSgDh6Ofd9QvV3X7f3RTyo/n67NA0HlidMSjvGPxvVsA25e3JNTWdnPevQFVgMX6imWsNGQP9P3gMGPL25JqKJiKXr0EVlTB9RTLsMoYQ/D9whGv6N6VFFx81HpMSgDh6Ofd9QvV3X7f3QbXpYUxDzUem+cUHF0crSpx6u6/R2eyDXKj8jPZq0HmpOmJR3jH43qzz/PjyUfIPMv4q/Pcz0WHyHMvtYKUrzenbHu+5e3JNWRKRO9eogskYfqKZdhVCiP4fuAY16/ih9V6PzVX4fDzno7+n7yvkv29vtj1c3pYkwDzUeh+cTHF0cpWhw6u6/T2e2L0q/wAoHLZp7t5YnTEo7xj8b1bAOeXtyTVFmhyXr1BJYTG+oplqDRnD/T94hBzy9uSaos0OS9eoJLCY31FMtQaM4f6fvEI1/WvSqogPmo9HhUEcPRz7zqG6u6/b+2C16VVEB81Ho8Kgjh6OfedQ3V3X7f2xkcqP5uuzQdB5anTEo7xj8b1bAH5e3JNF+iuF6/UIiqUR8hTLUImIIfh/0jAnL25JoP1lxvX6h0UigPkKZaxAxxH8P+oI1/Nel9KTN5qOlEzhoujn2tZetuv0Up+6Bb0vpShvNR1qmQNF0c+zrN1t1+mtP2xelH8IZbNH0PNadMSjvGPxvVsA25e3JNTWdnPevQFVgMX6imWsNGQP9P3gMGPL25JqKJiKXr0EVlTB9RTLsMoYQ/D9whGv6N6VFFx81HpMSgDh6Ofd9QvV3X7f3QbXpYUxDzUem+cUHF0crSpx6u6/R2eyDXKj8jPZq0HmpOmJR3jH43q2Al/L25JqDBsgrevhOmiQpg8hTIaCBQAfw8eH8+PJR8g8y/ir89zPRYfIcy+1gpSvN6dsYGaXpYWqJfNR6eiZQ0vRyuPV9rdfp7Y8v4ofVej81V+Hw856O/p+8r5L9vb7Yo5Vf5Uctmnu3idMSjvGPxvVsK+5e3JNWRKRO9eogskYfqKZdhVCiP4fuAYOeXtyTVFmhyXr1BJYTG+oplqDRnD/AE/eIRr+5vSxJgHmo9D84mOLo5StDh1d1+ns9sFr0qqID5qPR4VBHD0c+86huruv2/tiM8qP4Z7Neg81J0xKO8Y/G9WwB+XtyTRforhev1CIqlEfIUy1CJiCH4f9IwJy9uSaD9Zcb1+odFIoD5CmWsQMcR/D/qCNfzXpfSkzeajpRM4aLo59rWXrbr9FKfugW9L6UobzUdapkDRdHPs6zdbdfprT9sOlH8IZbNH0PNadMSjvGPxvVsA25e3JNTWdnPevQFVgMX6imWsNGQP9P3gMG3L25Jqazs5716AqsBi/UUy1hoyB/p+8BjX9G9Kii4+aj0mJQBw9HPu+oXq7r9v7oI3pUUXHzUekxKAOHo5931C9Xdft/dA8qP5+uzQNB5YnTEo7xj8b1bAMeXtyTUUTEUvXoIrKmD6imXYZQwh+H7hCPD+fHko+QeZfxV+e5nosPkOZfawUpXm9O2MDNr0sKYh5qPTfOKDi6OVpU49Xdfo7PZHl/FD6r0fmqvw+HnPR39P3lfJft7fbFHKr/Kjls0928TpiUd4x+N6thX3L25JqyJSJ3r1EFkjD9RTLsKoUR/D9wDEC0/Ls5KsxYJoM709IcqwGEPIcyDVhMHpb/mEYOc3pYkwDzUeh+cTHF0cpWhw6u6/T2e2Is6vO0zUhfNY+T6KAOl6PYa6h6u6w/r7I055WfstMkNs0928Q8sSgjtGPxvV0VhCEfaX6tIQhBEhGIptyh5PZ62k2s1PpIq2YStVRAXxTLCY5ipoGrhMiVISidykn1VjGAxyiYpSiJgjl5RzV1ORRl9kHRpIVdBI81XWOQClUI3OJjEIkfRAAOS0MsZMhhIYAPXCBvWzIZQ0A0GZiIiig+6KVktBmINSvK81C3R2cneWDTVWdMJkV26bEcESB03IirVEwnEAoc2Av5CICNAARCwJbK+UWwlbpqorzly2cgu3UXdJDzwQdJDQ5tJUiWi0tSlAoiGrt1Ddchv8ArvbSmY+RFpg5JMHKTdNQrM2AmlMkVI5jdgEOKydB7QERAwFEpgCS3vWR54ZaZSgjWTrTBzK2TsHhTrquG7nm5wO3wgJCioBsJimP1QATYBMUB8bzk17lZTWUJ9cJ4QhPuMNYFseLxwG28otEGFA1Ux8BTqJVtS+U3y2iVQJa0sylxVRaBjZzFJArUCLLmWOYEFKqHMnoiAA4idYBw1KMV2USa8pGz0oaP3roHbWboOHKoTBNZV23MsJlirAZMCkKUpuqRI41AoBq+zFLe8pi7xtJEp0gjM1yvEHi7JEUiJKOgblUE2EDnAaCZFUoDSlS66AJRH0NyjrCOED+RW8ymDpNcqJkE24gAE0xETqifWUCFOcAHXi7BphEDR2Z5KlDJByWog+YImO8QNkQbOYcMMRi2SSIU1EGf0/7WEZ5d78oQ7GYP7JX6WHZWYW0q0sZLs0hWQYDUUUjiMvMInKmJSiOM2sPtD2x4Pbs/lLysnBnPKFu/OkCRxUKDJKoloNQD6s7ovl7yxbspAyXsi8kVpzvJakaWqnSatxSMqmApmEoiuAiWoDQRABp6IPeXFdO5ZOGydnrWgZVI5CiLRtSogIa/pEc3XNuUtsstfuTz5xstXOV8mu2n7w/FeUnTa1qxnd2fyl5UiivyhbvzF0qYAAMkvtYy4R3Z6BoMHF2fyl4KtgV5Qt34mFUQTEGSXVNgNrH6s7sQe2L5d8uK6dwkVMlnrWgIKpn1tG3YU5TD+I7gg45cV06qrZQtnrWgCKonNVo21hgMXV9I7zBGmebMph/JXpnVevP0Y675597SsY92fyl/PUim5Qt34qikoJTcySoBakxBuzvw/2gS7P5S/nqpS8oW78FQSTExuZJUEtT4Q3Z34v7xfJ+XFdOZ6k5Cz1rcJElCCHNG1amEgh+I/SMCcuK6cr1VyNnrW4TpJkAOaNq1KJxH8R+oIfpmUw/ko+s6706Mdd88+9pWM3uz+UvFVyCXKFu/AwKgCgiyS6xsBdYfVndhD2Qb3Z/KXiq5BLlC3fgYFQBQRZJdY2AusPqzuwh7Ivlvy4rp0lXKhrPWtEFlQOWjRtqDAUuv6R3lGDflxXTpKuVDWetaILKgctGjbUGApdf0jvKMDzZlM/aUDTNlqdGOu+efe0rGaXZ/KXmSMKHKFu/KXSqAICyS+1jNiHdnpGox4/w1+Up8jaT+YOwHNOa4tHzJLFo8HZu3tp+fti/2nLiunbpGTPZ61oiKqh9TRt2GOYwfiO4Y8f53LqfI3k7o/azSc10FeaNsOLBT/v9lY0ObMpyqXlP1n1U6Mdd88+9pWY7uz+UvKkUV+ULd+YulTAABkl9rGXCO7PQNBg4uz+UvBVsCvKFu/EwqiCYgyS6psBtY/VndiD2xfLvlxXTuEipks9a0BBVM+to27CnKYfxHcEHHLiunVVbKFs9a0ARVE5qtG2sMBi6vpHeYIyzzZlMP5K9M6r1ejHXfPPvaVjOLs/lLwVbAryhbvxMKogmIMkuqbAbWP1Z3Yg9sD3Z/KX89SKblC3fiqKSglNzJKgFqTEG7O/D/aL5ccuK6dVVsoWz1rQBFUTmq0bawwGLq+kd5ggflxXTmepOQs9a3CRJQghzRtWphIIfiP0jAc2ZTN2lB0zbanRjrvnn3tKxiXZ/KX89VKXlC3fgqCSYmNzJKglqfCG7O/F/eDe7P5S8VXIJcoW78DAqAKCLJLrGwF1h9Wd2EPZF8k5cV05XqrkbPWtwnSTIAc0bVqUTiP4j9QQb8uK6dJVyoaz1rRBZUDlo0bagwFLr+kd5RgebMpn7SgaZstTox13zz72lYzS7P5S8yRhQ5Qt35S6VQBAWSX2sZsQ7s9I1GPH+GvylPkbSfzB2A5pzXFo+ZJYtHg7N29tPz9sX+05cV07dIyZ7PWtERVUPqaNuwxzGD8R3DHj/ADuXU+RvJ3R+1mk5roK80bYcWCn/AH+ysaHNmU5VLyn6z6qdGOu+efe0rMe3Z/KXlZODOeULd+dIEjioUGSVRLQagH1Z3Qd3Z/KXlSKK/KFu/MXSpgAAyS+1jLhHdnoGgxfL3lxXTuWThsnZ61oGVSOQoi0bUqICGv6RB3y4rp3CRUyWetaAgqmfW0bdhTlMP4juCMs82ZTNH4lP1my1Xox13zz72lYzi7P5S8FWwK8oW78TCqIJiDJLqmwG1j9Wd2IPbA92fyl/PUim5Qt34qikoJTcySoBakxBuzvw/wBovlxy4rp1VWyhbPWtAEVROarRtrDAYur6R3mCB+XFdOZ6k5Cz1rcJElCCHNG1amEgh+I/SMBzZlM3aUHTNtqdGOu+efe0rGJdn8pfz1UpeULd+CoJJiY3MkqCWp8Ibs78X94N7s/lLxVcglyhbvwMCoAoIskusbAXWH1Z3YQ9kXyTlxXTlequRs9a3CdJMgBzRtWpROI/iP1BBvy4rp0lXKhrPWtEFlQOWjRtqDAUuv6R3lGB5symftKBpmy1OjHXfPPvaVjN7s/lLxVcglyhbvwMCoAoIskusbAXWH1Z3YQ9kGl2fyl5kjChyhbvyl0qgCAskvtYzYh3Z6RqMXy35cV06SrlQ1nrWiCyoHLRo21BgKXX9I7yjBpy4rp26Rkz2etaIiqofU0bdhjmMH4juGDXNmUw/kq0zqvTox13zz72lYH8NflKfI2k/mDsBzTmuLR8ySxaPB2bt7afn7Y9nd2fyl5UiivyhbvzF0qYAAMkvtYy4R3Z6BoMXn/O5dT5G8ndH7WaTmugrzRthxYKf9/srHs75cV07hIqZLPWtAQVTPraNuwpymH8R3BGv0zKcoTvKfrNlqdGOu+efe0rGcXZ/KXgq2BXlC3fiYVRBMQZJdU2A2sfqzuxB7YOLs/lLwVbAryhbvxMKogmIMkuqbAbWP1Z3Yg9sXy45cV06qrZQtnrWgCKonNVo21hgMXV9I7zBBxy4rp1VWyhbPWtAEVROarRtrDAYur6R3mCMjmzKZu0oOmbbU6Mdd88+9pWMe7P5S/nqRTcoW78VRSUEpuZJUAtSYg3Z34f7QJdn8pfz1UpeULd+CoJJiY3MkqCWp8Ibs78X94vk/LiunM9SchZ61uEiShBDmjatTCQQ/EfpGBOXFdOV6q5Gz1rcJ0kyAHNG1alE4j+I/UEP0zKYfyUfWdd6dGOu+efe0rGb3Z/KXiq5BLlC3fgYFQBQRZJdY2AusPqzuwh7INLs/lLzJGFDlC3flLpVAEBZJfaxmxDuz0jUYvlvy4rp0lXKhrPWtEFlQOWjRtqDAUuv6R3lGDTlxXTt0jJns9a0RFVQ+po27DHMYPxHcMGubMph/JVpnVenRjrvnn3tKwP4a/KU+RtJ/MHYDmnNcWj5kli0eDs3b20/P2xCtVZz5QiyzDS2t5VF1crQcgdNMHpWzfTjh1kIJ5cGI1PQGuMjfzuXU+RvJ3R+1mk5roK80bYcWCn/f7KxZF7/KKufvXaooKDb2UmbS+Ys0zNEUkhMdymQgGOKbsuIhcHWTMBinAaDSlYrXNqVAxHxKfrNlqrPJjkmBfPPvaUS0VkvlErPMUnlpeU/dhL2qixCJqOkm6JTHriChjS0AGgFEw/kUR7AGPZrYb5R6btmEzlvKVu2ftXRxM1ctW6CiR+obrAYstoYKAYNVYsR3b+7aYC6WmtorUTJU0zCYswc2eRwM/vwEhMMwAxQAq5SlMQxDgRBMoHDCQxPsbzLIeUmr4bwbcqJokMB2p5MQUjYllVTEERmIqHSPpQKoRQ5jqUExlBNQQg5syoTfuV6Z1X65lOjHUB+88+9rX6LIJ7s/lL+epFNyhbvxVFJQSm5klQC1JiDdnfh/tAl2fyl/PVSl5Qt34KgkmJjcySoJanwhuzvxf3jH0+vtl86lFjJWhOrSMFpHLwZP3iKY6VM+nIcV2n0nUcSFEtVRPUAKGrWYfFreBYduxcJfxBt8R8sVNIHiMnSKUEAFYTN9CL8SgkcyiYmKAgBsAhqqAhBzalRYJ/cmiIZZngb66VTyY6BA+M8nhHrtTLIY3efKTtSPnS3KMu7bpNzCdyqq0RKQoAmURMIjLKAAFpUdXYMJfd58pO9Io7l/KNu7WSWMRQFk2iJiKgZMglOUQlggJRKJaCEWrIr37vWDO1ksnVpLYzVnaiz/kMyK0kQMCZ+bpo84EVHxzGpgNRIBAoAbUNRMY0U15t2gGFFnaW27RsYpynKlKyAoYDAuBgKYJgAEIbTkAxcJhHmyIgYuEAC/pmU63lA0z71eKnRrqHavPvastvG5XkFgPlI2bcFVuUhdy1SUcmQKKzVAoGWMqJQKAjLdYmONADtGoAAeiKM4lPL4aMCtXfKuunRKdgq5K2UM1KqLZMptIYAGXVoUCHAw9gCU1R1DEdvezcueyb6xs1Wts6lr2atZkKfMEap6BwZQAIYXgiQ4l0RQOWgkFIohWgUorG86xLCwU5sL0jnjxO0LRwWYPHdlGqjnnSiKyYKJHB8AJFDSlEQAuKoKCUxNJ1X6alU5HxI5U3XNEKadcR/wBq9Fuo9s8o+tqmNHgrwZ2Y+UNn7RFzJ+VJddNW6xiKJHZEbLFMAKgQDgJJaICUDhQR7wEPyiouLs/lLwVbAryhbvxMKogmIMkuqbAbWP1Z3Yg9sUu7q/67Gwk4eTxy5tbNV3uo5BlhCgWq6aojpF366x/sD9s5hqagCUoFKXJrjlxXTqqtlC2etaAIqic1WjbWGAxdX0jvMEUc2ZRkMmLyM8RlmaylZ6Nd5RHxXkKuu1PMLdcVYzi7P5S8FWwK8oW78TCqIJiDJLqmwG1j9Wd2IPbA92fyl/PUim5Qt34qikoJTcySoBakxBuzvw/2i+XHLiunVVbKFs9a0ARVE5qtG2sMBi6vpHeYIH5cV05nqTkLPWtwkSUIIc0bVqYSCH4j9IxBzZlM3aUHTNtqvRjrvnn3tKxiXZ/KX89VKXlC3fgqCSYmNzJKglqfCG7O/F/eDe7P5S8VXIJcoW78DAqAKCLJLrGwF1h9Wd2EPZF8k5cV05XqrkbPWtwnSTIAc0bVqUTiP4j9QQb8uK6dJVyoaz1rRBZUDlo0bagwFLr+kd5RgebMpn7SgaZstTox13zz72lYzS7P5S8yRhQ5Qt35S6VQBAWSX2sZsQ7s9I1GDK7P5S8zJuZtyhbvyJCkQUyiySqBaBQB+rO6L5acuK6dukZM9nrWiIqqH1NG3YY5jB+I7hgy5cV07Zk3bKWetaJkkiEMING1KgABq+kQa5symeHxKfrNtqdGOu+efe0rA/hr8pT5G0n8wdgOac1xaPmSWLR4OzdvbT8/bHs7uz+UvKkUV+ULd+YulTAABkl9rGXCO7PQNBi8/wCdy6nyN5O6P2s0nNdBXmjbDiwU/wC/2Vj2d8uK6dwkVMlnrWgIKpn1tG3YU5TD+I7gjX6ZlOUJ3lP1my1OjHXfPPvaVjOLs/lLwVbAryhbvxMKogmIMkuqbAbWP1Z3Yg9sD3Z/KX89SKblC3fiqKSglNzJKgFqTEG7O/D/AGi+XHLiunVVbKFs9a0ARVE5qtG2sMBi6vpHeYIH5cV05nqTkLPWtwkSUIIc0bVqYSCH4j9Ixkc2ZTN2lB0zbanRjrvnn3tKxiXZ/KX89VKXlC3fgqCSYmNzJKglqfCG7O/F/eDe7P5S8VXIJcoW78DAqAKCLJLrGwF1h9Wd2EPZF8k5cV05XqrkbPWtwnSTIAc0bVqUTiP4j9QQb8uK6dJVyoaz1rRBZUDlo0bagwFLr+kd5RgebMpn7SgaZstTox13zz72lYze7P5S8VXIJcoW78DAqAKCLJLrGwF1h9Wd2EPZBpdn8peZIwocoW78pdKoAgLJL7WM2Id2ekajF8t+XFdOkq5UNZ61ogsqBy0aNtQYCl1/SO8owacuK6dukZM9nrWiIqqH1NG3YY5jB+I7hg1zZlMP5KtM6r06Mdd88+9pWB/DX5SnyNpP5g7Ac05ri0fMksWjwdm7e2n5+2PZ3dn8peVIor8oW78xdKmAADJL7WMuEd2egaDF5/zuXU+RvJ3R+1mk5roK80bYcWCn/f7Kx7O+XFdO4SKmSz1rQEFUz62jbsKcph/EdwRr9MynKE7yn6zZanRjrvnn3tKxnF2fyl4KtgV5Qt34mFUQTEGSXVNgNrH6s7sQe2Di7P5S8FWwK8oW78TCqIJiDJLqmwG1j9Wd2IPbF8uOXFdOqq2ULZ61oAiqJzVaNtYYDF1fSO8wQccuK6dVVsoWz1rQBFUTmq0bawwGLq+kd5gjI5symbtKDpm21OjHXfPPvaVjHuz+Uv56kU3KFu/FUUlBKbmSVALUmIN2d+H+0CXZ/KX89VKXlC3fgqCSYmNzJKglqfCG7O/F/eL5Py4rpzPUnIWetbhIkoQQ5o2rUwkEPxH6RgTlxXTlequRs9a3CdJMgBzRtWpROI/iP1BD9MymH8lH1nXenRjrvnn3tKxm92fyl4quQS5Qt34GBUAUEWSXWNgLrD6s7sIeyDS7P5S8yRhQ5Qt35S6VQBAWSX2sZsQ7s9I1GL5b8uK6dJVyoaz1rRBZUDlo0bagwFLr+kd5Rg05cV07dIyZ7PWtERVUPqaNuwxzGD8R3DBrmzKYfyVaZ1Xp0Y675597SsZldn8peZk3M25Qt35EhSIKZRZJVAtAoA/VndHj/DX5SnyNpP5g7Ac05ri0fMksWjwdm7e2n5+2L/ZcuK6dsybtlLPWtEySRCGEGjalQAA1fSI8f53LqfI3k7o/azSc10FeaNsOLBT/AL/ZWNDmzKcql5T9Z9VOjHXfPPvaVmO7s/lLypFFflC3fmLpUwAAZJfaxlwjuz0DQYOLs/lLwVbAryhbvxMKogmIMkuqbAbWP1Z3Yg9sXy75cV07hIqZLPWtAQVTPraNuwpymH8R3BBxy4rp1VWyhbPWtAEVROarRtrDAYur6R3mCMs82ZTD+SvTOq9Xox13zz72lYx7s/lL+epFNyhbvxVFJQSm5klQC1JiDdnfh/tAl2fyl/PVSl5Qt34KgkmJjcySoJanwhuzvxf3i+T8uK6cz1JyFnrW4SJKEEOaNq1MJBD8R+kYE5cV05XqrkbPWtwnSTIAc0bVqUTiP4j9QQ/TMph/JR9Z13p0Y675597SsZvdn8peKrkEuULd+BgVAFBFkl1jYC6w+rO7CHsg3uz+UvFVyCXKFu/AwKgCgiyS6xsBdYfVndhD2RfLflxXTpKuVDWetaILKgctGjbUGApdf0jvKMG/LiunSVcqGs9a0QWVA5aNG2oMBS6/pHeUYHmzKZ+0oGmbLU6Mdd88+9pWM0uz+UvMkYUOULd+UulUAQFkl9rGbEO7PSNRjx/hr8pT5G0n8wdgOac1xaPmSWLR4OzdvbT8/bF/tOXFdO3SMmez1rREVVD6mjbsMcxg/Edwx4/zuXU+RvJ3R+1mk5roK80bYcWCn/f7Kxoc2ZTlUvKfrPqp0Y675597Ssx3dn8peVIor8oW78xdKmAADJL7WMuEd2egaDEK0F2/ykaTIhppygLBLJCqAAUjJIBA1B17tD0VjIzvlxXTuEipks9a0BBVM+to27CnKYfxHcEQrQctW6ybMiNm0gtUUxVQOInatgClBD0Lj3xpzzZlAaZyi8E/1n1Q8mO4ds8+9pbPwhCOC+ykIQgipExsfZKbkOnNrLSh6VRYzg5XDFJQDKmT0ZjjiKNTCTqCPaJdXZEX+HV3wman6C2exMDlUaj5MQqgYpSFKYnV6ogCSYAIUoBCh/lClwwjYeNiglIRVrmuvu5xMjpWHkjc8ueFmDQ7ZkmgZFwUxDaQpiAAgIimnX/qAoANQCke7q7u7986evn1h5A4cTGgvFVpaiczihimDSCJet1iEHXXWUo+gIoNqb8ru7FzSbyy0k1Oy8hpNFXrhQgFQTKusml94IgHzenQMp/0lWTHXWkRBv8A7CIkWXmCM2Yt0WZnelcNMOMwJkVKgUgGE4rGSVSUKnhqIKAX7YGID47YZy8owEa/Hh5K5JLWTWfePmrnUu2u6VTbpK2Bs4cjRM6LcppUgIIpnEwmKQMPVKIqKCIBqHGbvGPkLs7uC0At39mwo4K7CkqQ1LlGoK/Y+2A6wN2xZ805SN38k0QTdvNWQuk26zMHSaSPOklSKnA5MagAAAVBbUfCJ8HzYKVCslpf7ZOZrvEJNKJxMhl88JZ90LcG1UnRlRTLUplgN9opqlABUKUomMQpRAw7+K9BycoxjrriMT4rHVIjZ5Qjw8leDD/BDb/iicEIqM23W8y6nhGMKv8AlI2VkEvPZNaxVvXjpmiWWmWZWcWXbqLg0BWhFA1GDR9aoejXHk+5W1iHMqXMlYC8oSrtUTkN0VcUErkRIgP9DmAQDvjDk9Vi/wBF3lPbN3nis3zLZyZhDilg82hjmB4SkYQmfK3sMVmKp7A3klIkYzg5hsqvQE27ghFjV7im6o/nqj2dcqqyBnzZv/Du8sFEXp0DlGyrgBBQrY6hi/1AhgMPcEaZIyRv4LiVmlTejfLreJOCe9HGXR8SkYQDla2IWmDRVKwF5RgUbJCQAsq4qYHJyAhQP14RpH4HK5sKk6cvT2CvIBErMVhN0WX1JorHTUN/QDiBa9+qEeruxRZwZ7Q+zAcJODPaH2YDhJxhVDlW2OQevUVbvbyinM8Ojh6Kr1A6bch1Cj3CUoVHuCPhjys7FHXXEl315RucrtBTALKuKjzhMuhCnebCIgHdrgSJ7hgizbLdnPmF+KaIvqt7v+HGGWfK4sKgyUXPYO8jRgDl3jCyy4hogcGTE39MYgX8x1R5jyrbGFkRmI2AvIBUrdZsb/8Aiy9AOigB1dfcUogIj6I2CMom0Yos6TLZyZhDilg82hjmB4SkYTdcrCxjpNFFG728sVFHLEpS9FXACJljAdIv9TFKJgDu1x5OuV3YM3MnYWEvI0RausXRZehkhxpAYO8BU6od4gNIwyeqN/BCs4vNoY5geEpBTejfLreJOMJvuVhYsrluB7AXkk5u4cgpissuGHQImFb/APDEGLugPKwsarN2qRLvLyxUOUG5U+ijjEKixSKJlp3iQMVO7XAGi44os2J70cZdHxKQZ7Q+zAcJOMIJcraw4uFX5bA3kmQUZt1iHCyrgQFMyx0yGD8jHHCXvHsj7S5WNimy8wMtd/eSUCruDGHosv1QbJpguI92AdRu6oQJE9wwRZsluznzC/FNEX1W93/DjD8t5Vtj9bQt3V5hljvTNwIFlHFdKriVIT/y0fWp6A1xCDlY2KNZkpQsBeSIGlqKgH6KuMIkVHRJGr3HOAlKPp9EbBGWbxiizvNt1vMup4RhMtnJmEOKWMJzTlY2LGXPUxu+vKKJUHuITWVXACg36q4iPcQwgBh9AjSPt9yq7IqCRkW7q8wFhfN22AbKOAHSiBVgJ/5aMMVO6MMEdW/0RZpebQxzA8JSCm9G+XW8ScYQX5W1h1zS9wlYC8oyZzILkELKuOsRcFE0RDvxnqBe+g0j6X5Wdik3ZXil395RUm7Z8ZQw2VXoUqCiZVjf0IYKCPoHVAGi44os2p70cZdHxKQZ7Q+zAcJOMLE5VdkAnS7cbu7zNMIpNNH0UcYgWBNRYSiHfoxxf0jxYcrWxCijhZOwF5RyuDtFUxLZVwNSuClIgP7zFHD3xSabhgizez2h9mA4ScJbs58wvxTRg9DlcWFQNMHKlgryQTKZdwY3RZehU0ATTVMP5FPqH8xj2Y8q2xyInZnu8vLBYHzluJeirioKFAyxi/1BMcQ9wRGzN4cEWYPVb3f8OJUy2cmYQ4pYwSHKxsUazpW4WAvJEx2LYpR6LL0EXBRKj/8AmIDTvAKx7THlc2FFlpxsFeQCaf0kxhssvTRIuCpqG/oB+r+Y6o3EZQNpwSpZwebQxzA8JSDzaGOYHhKRhV5yrbG89bojd7eUU6DxZJQo2WXAQOm3MdQP2lMAj3BHwrys7FOXDAUbvryzCZduJQ6KuKmFwkpoQAO8wawDu1xgETXHFFm1TejfLreJOCe9HGXR8SkYPU5XFhecJP8AoHeRoCM11hN0WX+7BYieIPyxgJQH0j2R6fzZWKSmzoilgLySmIQyJyjZZepTIAc61e4CFEKj6IR6u7FFf1vnFtEWhUbDEWM9czhNJYUxIQSoc1Ew1UOisRMBMUgYjJiFRANVahYEgvBvjmrJCS9EphLV0lGp3EyUlChhWxLIi4ApTACYCOlWKPZh0RhD7VSfrLlYWMM6cELd5eWJ3DlsVMoWUcVEyyJRSLTvMUomAO7XHmw5XFhU2JlxsHeQZMQVdgctllxAUjOTJlN/QTjhDvHUEcHrotEkNmEWZrh7jevpSeXOnLsMNuWWiKzTGNevVBRJTehe3LrOgwd2AnM7A7NQwO1GC6JTUbEHRgPN0hJ1hMNTp0/yAc9BPF2PryLcTKxYTKS2VTeOTu5gydALZ0mUiaBxIBtGYukTManYcNWvtprw/fBfywtpYaWSyytk7wGMzkz0ZkRRxZ12kkZRi3OYxTGIUwiQqhkgU1Uwib00Acfya9C8yzEvNKpWnbpUBfGcHKpI3pQcndKruzNzkFubCdUpynFXEIkIAkAgl1jphhsEhps0n/5IPEepK6PpfJmyy0zJ2QZjSYaQIP8A6maHhRna0Nrr/nJXj9nKHbBFR2Vq1T8niummoVsicp9DoAVwmXE4goKwk6gpiAGEojUhvFvgGfMDPLvpmVpL5oqlMUys/mzFOlokhRP9tVMqgLKidMhx0eARAK0jXGcX4X7vkiO5a9tak2VTYvFAGRvzmEK6Iopm5sBSkFx1i9QwqCUQNUogQt8Xj382gm9sBndm07y5VL22lBJmaQOk0imaJKc5McoJGAQKoZPGNR1AIDSogPFly2ywGssxgZvD3NVMurXKjhoZPy7FEK7jvhWaDPfm8bwrxnUkkM5Z2AXJM3QPSO2jpo4SFIiaiYFMBAATFx6qCb0a6eiKIvfReCytAqyeXdvGYHQaoc6WlrsyIrCoUBwAQomVxaVQQIUKhoh1m1iXWGUPJtIZlJ0JIxt63mLJs2BNROyzhCs05grVFRFBBMrhNTSgYyinzxkjji6yZDDKZXmXnS5m6mcmJarns1k8qSEoWcmRUkCoKkQZKEWwGMcqgFWqBSImMdUQAxgCsbbdttGZsgADfPPbVdPFcnctkrJOXJwYk1kETxFkAKLoQpWyTO+q8hZu/esbqnjo3lIzdVNFu4PzUxCqFMmcwE+cETIkKJ06gQVOsA0ApqtKrdXmuZVO510WcJuUp6wTJLxli+Pm50ENMmUTFKJhKYxiisACmFBN9ns19tJexNVrfTe3EglV4Mt00qK3dppyR8gCqrE5OdgIgmcEkwBRYonKAiU6hTCURAIlWavkvFZ2lQeTlS8xc5Zq2SWZFs+6MmcASYKCiJdAXEfmycxERHDiFVI4gXVoxdNlvJLeqeqkeU3us1yhJT1ncmArnJOowwjjFZ1d25vSXsUzmchsyo3mCs8XaqkNK3J8aApKKApozFBRIoLYUxMcoh1RENRgjzkN4l4TldtJJvYOYIsXJVmqjsGa2jSKm1IIKgcSFKVMx8VBMY4iI01AFY10nN7dpXM5mForCWStIydvni71OeL2cfGeuWb1cSNmwgRGqZKl0RBBQ5QwgcpMestEnt4dvbQWMZMrRoW4nBESru3rZ1I1hb6NoQiQimKrJVP5s5lcQnSGpjEr1gAS7DLXxA1E0gkVTTEYrJlrj4bTHwWdIA16wfSPhUtpHl7d4isw5l/C6bFalm6TcqykudFxJaYoFNUCiGEKVFTtoIACY1EQjNL3b1Zq/lbQ108wZnVWTJpnTBymliOc6ZlB1DhKUo4sBhAwgAmqAao14RvWviRWayJ2tbhrL2ybSVgRpJZjzgXSLMhigIqJCADiDSGoICYus1RoAX7c1yhXdkZGWXW9kFvp2uvMU3zJdrZl2IFbvCqAgkBDEL2nxYTBUT1HUFAjLty3kzvDXUNUPE04xWmuUJKIASZmJtMyyBOrzr6AMidOwDhJcWZlEUEZc5U+kHaFOAgcU8IGTFU4CQwhiFESgGIaBkiwlqZvat05XmkqIy8nru5cUSmEQXOkdMqiha/5BNqD09U1Yxw+5XFhSC2cnsFeSVNEzlwYw2WXpo0QOmqb+hTiBR/OPsOVNYhrNUWiN2946IpmctRSLZNctFgKRY4U7wJUxu6uvtiumGmIZTUZj5kw8KPDUuUqljh+6yGHIZOsRs9PM2QzanvRxl0fEpBntD7MBwk4wk35WVilXxnCd315RiOEGIJ0sq4qYVzKaHV+uurvjzb8rqwaQv3RrCXkaIBUciYLLLiAJp6NI5v6Afq/mMdiRPcMF85ZxluznzC/FNCU7rZ5dPwhGFGfKvsY30rVW768oFCPHaJg6LL6jp4lVAH/AMSCAm7o+ZVysbFgxZNwu+vKMoZJmmUC2VcDiMuSqIB+ZgARD8tcGznX+qBZj9Vvd/w4lTLZyZhDiljA48rWwwWZp0DvHw+TTKY+iy+HAA6HFXuFTqgPpHsiXNOVlYkpBRUsBeSQyTsUz4rLLgBTIGIdYBH9BaV7hGkbiMsXnBKlm15tDHMDwlIKb0b5dbxJxhRblX2NcOmJErvLzBPzlEgF6KOKiZdE5ki0/wCoxetTu1x5H5XFhTOUHxbBXkCiDI6+ILLL60zrETIYO8DHASgPpHsjANFxxRZwT3o4y6PiUgz2h9mA4ScYS/mzsSjNHYq2AvJLo0lCHrZZfq83E4riPcBKhiH0Dqj7Z8qyyHPHCIXdXmCo4doJEJ0UcYhUVblOQlP+oSFE1P8Ap1wJpuGCLNTPaH2YDhJwluznzC/FNGD2XK5sKPO3RLBXknSVFFyUxbKrjVNTAkmb+hzgJS9/oj0bcrCxbNBYri768omiVfnOI2VXoUqCgisIj3ExABh9AjSDZm8OCLMXqt7v+HEqZbOTMIcUsYNDlU2RGSBLgu7vL04okZ4eirj747fSlJ/XR9f/AMdcejrlaWJdM0lULv7yjkPzN0UwWVcUMkq4AiRg/I5iiBe8Q1RskZQNpwQULNzzaGOYHhKQebQxzA8JSMIv+VpYlNVuqpYC8khG6jtVQTWWXAAK2IYi4/0IYwAbuGPZxyqLJKvmjct3F5ulTe83MQbKOK6UWx1AJT/q0YganoDXGAaLjiizQpvRvl1vEnBPejjLo+JSMIBytbELPGjpKwF5Rk1GiahBCyripiOFSEQMHeBzFEA74DytrDovXblSwF5JU02iihh6Kr9UjdU5FjD+RTGAoj36oR6u7FFm9ntD7MBwk4S3Zz5hfimjC7flVWRSfu257urzAVUe83AnRRxXSA2IoJR7hAgCYQ9Aa48JXytbEHalMnYC8o4LKJqEEtlXA4iuVjghT/zEBAP6DBogjw4Is3yndbPLp+EIi+q3u/4cYZY8riwraUIKK2CvJAiLNRY5wssuJQIgYE1TV7gOOGvfHwPKrscElGXDd9eSCwInZiHRZegKkb6Q5a/pJ1h7gjYIyybRios5zLZyZhDilg82hjmB4SkYSc8rKxTxBEre768owqKsDkDoq46wLqAKNPzOBRoHpjze8ruwYC0dDYS8gEkxWciYbLL0FNPGkYwd4Yxw/mMYZPVhfwVKzipvRvl1vEnBPejjLo+JSMKLcq+xhJsmQ9315RTJA7bHAbLLgIKJlTUUD9pAqbuj8Q5WNi1JiY6d315ZtOmySTKFlXGITraQyQU7zFGoflrhEZO7FFmxntD7MBwk4M9ofZgOEnGDmvK7sGXnrroJeQKQ/SsQWWXENEGBLF/QVOqHePZHqjysLFt3T4q1395JRByuU1bLL9UUESCtXuwB9ruqECabhgizZLdnPmF+KaIvqt7v+HGHZXysbGGICBLvbyzKKOwTKULKuBETrmOomT/yEnWp3a4h/wA2liOjNAsFeRhGWFUA/RZfCJDDoSmr3GU6oD6R7I2CMs3jFFniZbOTMIcUsUu2m60swXwmjE005WdiSIiRSwF5JNC4PjE1llwAvNjkFeo/oqAD3CIBFLtpysrDklONxYW8ZsRFyiRQ69l1yFKdREyhCiI/5hJ1qdtNcakzQZbYJ1+ijU4WxkIQjyrSQhCCJCEIItWrTOrMr3hWudq3USgHtlny86JMXK6pHM/FrzRwuikqVQKmSIUhtGsOjqVECkwkOYtv2mf2Qs69SkM2uPQUK5kZHRiTErtxK0FF3jFImj5yoRoYG7dykUypVSUFEEyGSIUKbixQrbIWoc2XftbGi1LNlk9GidwqKZSAOoximwHDGBa4alEMVK6qxkMRZZdmgAA2zQ3RmuhMtgxeFoTRJN04PlPfGxapOSWWkVh5paBnd+4mkncBKBSRl551RmsvLyiqRUU3K2BFNiumiAkKmUwqlSEAKFQuo0zbXf2tM+ayOSuG4WjXJLHKh3pDrqtzaBRqgRRyoXSYpk7KmAUJiSWEEgqUxck2hbXqu2EmQlUrnbeZN5Mcrt0lM22g54CBigTAKgCcTKCA6UxRAoELhKAmMYtzWRmTiz1lZa0t7MgQmZ1XAF52oGkMTTn0f/8AYpr0Yp6hUOIdgmMNRj2NucnrZQJjCAnrE93VmjPPWBPyjEQAhWfA+c89UxrM3PS8a+h6jau0TB18j4pbUzR45ZhaxSzQrjN00hFMj7SjKFMQKFKVQB0hwoYKGH7UUF3fYqZosUfkPARqmIaXoiIYNWs25fR/WOnzD/BDb/iicEIqM23W8y6nhGPO5EWWPepd5T2zd54rlg6vsVMkAeY7BH5wg4uiI6+uAgXcvp+z+dfZH6tfYoKqA+Y70YAqI4eiP3gYDBh3L+79vtjqdMtnJmEOKWDzaGOYHhKRpkTePBcSuWBr7FedJm8x2AUTMGj6I/a1lqankX0dn5YoFvsV50obzHYDVMoaPoj9nWahqeRfT2fnhjqepvRvl1vEnBPejjLo+JSEOrGzFFyxRvsUBVcfMd6QBVAcPRH7sMBQw7l/d+72x+I32KgouPmOwUqco4eiP3fVLUu5dVe393pjqez2h9mA4ScGe0PswHCTgRTcMEXLBtfYoVIwB8h2CvXUHF0RrSpxoXcv+Xs9no7I8v41qeTNH5kLVoKc56JejBTHXyL7a1//AHHVSW7OfML8U0RfVb3f8ONBnrEW+qLl05vsUMkUB+Q7BLrpji6I0rQ4VLuX/N2e309kF77FTKID5jsE6HMOHoj951TULuXXTt/b6I6nzLZyZhDilg82hjmB4SkZZE3jwQrlitfaoKqA+Y70YAqI4eiX3gYDBh3L+79vtj8NfYrzpM3mOwCiZg0fREetrLU1PIvopT8sUdT3m0McwPCUgpvRvl1vEnACi44ouWBb7FedKG8x5WqZQ0fREerrNQ1PIvprT88MfqN9qgKrj5jvSYlK4eiP3fUKGHcv7v3e2Opye9HGXR8SkGe0PswHCTgRTcMEXLBrfYqVMQ8x5pvnDji6Ijq641LuX0dn5Ujy/jWr5K0XmQvw+HnPRIf+n7yvkX29vtjqpLdnPmF+KaIvqt7v+HGgz1iLfVFy6d32qnarF8x3oapmDSdEaYNX2ty+jtg5vtVMmUPMd6L5xMcXRGlaGDq7l9PZ7fTHU+bbreZdTwjCZbOTMIcUsZZEcm/0RcsFr7FRUQHzHgJ4VK4eiI/OdU3V3L7f2wPfaqLpM3mO6CCagaPoiPWqJetTyL6KU/d6I6nvNoY5geEpBTejfLreJOAFFxxRcsS32qA7UN5juoCQgaLoj9kAE3W3L6a93+WPxC+xUqi4+Y7BTEoUcPRH7vqlqXcvp7f3R1PT3o4y6PiUgz2h9mA4ScCKbhgi5YI32Kgo4HzHYKYlK4eiNdH1S0LuX2+j7UG19ihSCHmO9MGlUHF0RrQBMPV3L6Oz2dkdT2e0PswHCThLdnPmF+KaDQgPDgi5V/xqU8l6PzIQbOBec9Ev061K+Rfb2+2PV1fYqZIA8x2CPXIOLoj29cBAu5fT9n86+yOovqt7v+HEqZbOTMIcUsayesBb6IuWK19igqoD5jvRgCojh6I/eBgMGHcv7v2+2Pxa+xUVG4+Y7BPCeuHojTSdU1S7l9vp+zHU95tDHMDwlIPNoY5geEpGQKLjii5YHvsUFymbzHYAIJqBo+iP2qiWhqeRfRSn7vRAt9inO1DeY7qAkIGi6I/ZCputuX017af5Y6nqb0b5dbxJxjG38tvFe20cGsuE4LLxYoEcaFdMCHosUwaMAcomAeqqU1BIahjCCg9Ug9Hbv4hgTCbFFz+QvsVKouPmOwUqoUcPRH7vqlqXcuqvb+70wbX2KlSMAfId6XrqDi6I1pU4iBdy/wCXs9no7I6GTJzfE3TMWzkoYHUFk3VcEOuUwpuypJlVRKdQ1TCIHA5DmqFURAw9cK0RspygQa+U0WRTr1XRBiQ7QiYCKjYTKGETjVTW8AuvCAlLUMIhXqZLEZ4qr9+51AYw96vVaE/xrU8maPzIWrQU5z0S9GCmOvkX21r/APuPV1fYqZosXzHgI1TENL0REMGoam3L6I3skSl+6dnALMWQAkLdZwvpebDq0CxyJJCVYw4BOCJBxUEoG1aqmDyWe8o8jB65cyEo6UCkMkq4ZHKkkXnFTBhMXEIhocfYIhTDQa038mcqGWzTrGv37KhahGaxaMOb7FTJAHmPND1yDi6Ijr64CBdy+n7P519kfq19qgqoD5jvR4VBHD0R+86hgw7l/d+32xv3Pkr3pxd80SmUvcNpySeIaYrRwmQ6jT0G+acJAAYxDqAsAgABUxqCI0xvMeUY3TlyDuzJFDoKNSgZR2zMZYSoqgsImA3VrQhhqBhEagXDWpcsSTKZz2aTWNQ92KttZM9P/ZGEblosa+xXnSZvMeUomYNH0RHray1NuX0Up+6Bb7FedKG8x4AiKZA0fREerrN1qeRfTWn7Y3wXmnKPBduqnZyVi6E7gpkjKoYQSAURASGBTWURxAGKhg1V748VHvKMYzV21l1nmzpMATwrKLt8WjAVhLhAyoiap6YsRi9WpSgUQAwhJCRns0axrQtQitFUb7VQUXEPkO8eJSuHojXR9QoYdy+390Eb7VAVXHzHekqoA4eiP3fUKGHcur/q/d7Y3ctjfNY6S26nrdO8yzpXjIyaLJA9r2LRu1dJlMVwm8QOuU5hxAUogJDCFKAKZgEwW8hyiVSeU3CV7d34gZYCN0VbQScqxyaIaqmEHQkA+IqZAoIlADCIlMICUNs8nvm2S0NQw9+4oWgCBrWoja+xUqQh5jzTdc44uiIjTriOHcvo+z7PZHl/GtXyXovMhfhxLznokP8A06lK+Rfb2+2NwrPcohw+mKbWZ3tXaydkoooZRfpLK18A6I5goGnxDVehTdUQEBAS0CojT5lyh3LyWy1ojeZYNq1VboHe82tZKNIiTSCY6IAdbEY4JgUgiGocRqBWgh06Lf5UJqRjZZR6hZyx73LVJzfaoYhQ8x3og0qY4uiNKgBg6u5fT2e2C19ioqNxH5DsCYT1w9EaaTqmqXcvt9P2Y21HlDOzydq3Nexdyk4SKkZXFaWVqhjIQ4kKQ3OhMYDKFRBQx6CAmNhHDUxalbHlG2fk9pZjNJBezYmYSpBUjpugNopcoVUpW5AMklhXFUpzm0pesQCAJgNXvyOTH4IZFvvetZQiQtOF77FRUQHzHYJ0OYcPRH7zqmoXcuunb+30QNfYpztM3mO6ABDhouiP2gqXrbl9FO2n+aNwLe3qWdnLwHUj5R9h2a7WToAio2tS1KRaYARzpQKnzoqZQPVIuJQo0AwYRAQEY855yhmx5iWXSu+W71dVokLlNya0DBIi2GYFKVI5wWAlDtyFUMBRxUExaBUAgOTXpyYUmNRmtooUDQN03nBahlvsUByobzHYCIppho+iP2aCapqeRfTWn7fTBG+xUFHA+Y7BTEeuHojXR9UtC7l9vo+1G4kivhs3ObZBOLQcoCxMpZs0WejKNp2WJyUjhwZQh0kHYoYjEEhTCJT0KYolwmrTJ7S/64gq70TX12CADrgJRG0jPWGjIFQ+c7wH+0c3shfO5oEzVA2e9aBsErnY2vsUKQQ8x3pg0qg4uiNaAJh6u5fR2ezsg0vsUK1RL5jsF6JkDS9Ea46BrNuX0/8A+rHROX3/AFxBEDge+uwRRFdYaDaRmGoVDCA/ed0JZf8AXEJy1ompfXYIpioJgYo2kZgIDhDUPzkcmpK+n6hp1XqhoLnP/GpTyXo/MhBs4l5z0S/TqUr5F9vb7Y9XN9ihiAHmO9CGlTHF0RpUAMHV3L6ez29kdCv4+XF9HNB/Gmwmk5jgwdI2eLFo6UppO2sSZhf9cQdAoEvrsEYQXRGgWkZjqBQoiP3ndGvlX2UOqadVyZQXOxa+xUVG4+Y7BPCpXD0RENJ1TVLuX2+n7MD32Ki5TN5juggmoGj6I/aqJaGp5F9FKfu9EdE3d/1xBl2QlvrsEIEXETCFpGeoNGcKj853iH94KX/XEDMkFAvrsFhBBUBN0kZ0ARMnQPvPyH+0ZElfTdQ0Gq9MoLnYW+xTnah/Md1qQgaLoj9kKm625fTXu/ywQvtVBRcR+Q80lVCjh6Ij831S1LuXVXt/dHRNO/64gJkuoN9dgsIoJABukjOgiBlKh95+Yf3g0v8AriCrvRNfXYIAOuAlEbSM9YaMgVD5zvAf7RTJX0/VNAquTKC52I32KgouPmPAUxHrh6Ij831S0LuX2/ug2vtVKmYPMd6X5xQcXRGtKmHq7l9HZ7PRHRNpf9cQVd6Jr67BAB1wEojaRnrDRkCofOd4D/aEvv8AriCIHA99dgiiK6w0G0jMNQqGEB+87oNSV9DNNVViZQXOf+NavkvR+ZC/DgXnPRL9P26+Rfb2+2PVzfYqZIA8x5ouumOLoiIVocBw7l9PZ7fZHQr+PlxfRzQfxpsJpOY4MHSNnixaOlKaTtrEmYX/AFxB0CgS+uwRhBdEaBaRmOoFCiI/ed0X5V9lDqmnVcmUFzsWvtVFRAfMd6Oigjh6Ij851DdXcuvv/bBa+1QVUB8x3o8KlcPRH7zqGDDuX937fbHRN3f9cQZdkJb67BCBFxEwhaRnqDRnCo/Od4h/eDu/64gy7IS312CECLiJhC0jPUGjOFR+c7xD+8ZElfTdQ0Gq9MoLnYa+xXnSZvMeAFEzBo+iI9bWXrU8i+ilP3QLfYrzpU3mPK1TKGj6Ij1dZqG3L6a0/PDHRNS/64gZkgoF9dgsIIKgJukjOgCJk6B95+Q/2gnf9cQEyXUG+uwWEUEgA3SRnQRAylQ+8/MP7xflX2TmmjVamUFztRvtUBVcfMd6SqoDh6Jfd9QoYdy/u/d7Y/Gt9ipUhDzHYLdc44uiPZ1xES7l9H2fyp7I6JtL/riCrvRNfXYIAOuAlEbSM9YaMgVD5zvAf7Ql9/1xBEDge+uwRRFdYaDaRmGoVDCA/ed0RqSvoZpqqsTKC52Nb7FStES+Y7BaiYBpeiNcerUbcvp/rHl/GtTyZo/MhatBTnPRL0YKY6+RfbWv/wC46MSy/wCuITlrRNS+uwRTFQTAxRtIzAQHCGofnIjfx8uL6OaD+NNhNJzHBg6Rs8WLR0pTSdtY0JK+ys006kyguerm+xQyRQH5DsEuumOLojStDhUu5f8AN2e309kF77FRUQHzHYJ0OYcPRH7zqmoXcuunb+30R0TmF/1xB0CgS+uwRhBdEaBaRmOoFCiI/ed0Hd/1xBl2QlvrsEIEXETCFpGeoNGcKj853iH94yzJX0M011WJlBc7DX2Kc7TN5jugAQ4aLoj9oKl625fRTtp/mgW+xQHKhvMdgIimmGj6I/ZoJqmp5F9Naft9MdE1L/riBmSCgX12CwggqAm6SM6AImToH3n5D/aCd/1xATJdQb67BYRQSADdJGdBEDKVD7z8w/vD5V9k5po1WplBc7Eb7FQUcD5jsFMR64eiNdH1S0LuX2+j7UfqN9igKrj5jvSAZUBw9EvuwwFDDuX937vbHRJpf9cQVd6Jr67BAB1wEojaRnrDRkCofOd4D/aDS/64gq70TX12CADrgJRG0jPWGjIFQ+c7wH+0UyV9P1TQKrkygudjW+xUqQh5jsFvnDji6Ijq64iJdy+j7P5U9keX8a1fJWi8yF+HEvOeiX6dSlfIvt7fbHRiX3/XEEQOB767BFEV1hoNpGYahUMID953RG/j5cX0c0H8abCaTmODB0jZ4sWjpSmk7axRJX2VmmnUmUFz1c32qGIAeY70QaVMcXRHtDEHV3L6ez2xFnN9KirUhR+RJ5hQ4DpeieGo0Hq7mD+vsjo7ML/riDoFAl9dgjCC6I0C0jMdQKFER+87optrb+bjXMtTTbXz2FVMC4CJSWiZmGmE2vUpGnEkfFtnqkT6lC0IKSvbG2svePlOZzd04K8cIGZGkaxmjRuDgCIrkVSTxrCZKhhKUx6iYfuwIIRGPedeYi0QeuLsXZQcLE+jotnCqyJMShTgahQKJuoQQNUoAU1esNCmyzCOTL52KWAfdmMSq0C1GBgsU29tReFLrSumVnCzBSXkb6Q5k5YsOjOUUhAiShWqxTCcDHDEIHCoCAlJgxHqVsLT3gyc6Csgs48mBHcvI8KgCAGM3UQAyiyChyhQDLAKaRP1YxCtIyJCIHzIZZGSDDz9+646M5jYsRObxr1FJa3mzaxKiBUz0WbqSt2dVYNG6pQoBiTDEkh6DUFUArQQMOSbMTR7OrPS+azKWry906QKos1XTFM6RxDWUSjUSj+VRiqQjLx6w2IMsgKQnBSEIRxVSEQCT2Tnev5eWZIc4laaaz0mMA5uQ4GEonHsCoEMP9ArHrLJmwnMvbzaVuk3LN2mVZBZMalUIIVAwfkMIxVLJE5C0+L8oVdtZJjMrCW1sxaVSdSZ2/lB1JWybi1MmiuqkgYBUcgcTCkVITjhAMeOgAFAiU9+UxuIcsnDZOydvQMqkchRFgzpUQENf0qNpWH+CG3/ABROCEVGbbreZdTwjH1nEpkJYYi4Mdu7+qspZa+M3PWarVqS7+UxuIcJFTJZO3oCCqZ9bBn2FOUw/iu4IOPlMbiFVWyhbJ29AEVROarBnrDAYur6V3mCNtpls5MwhxSwebQxzA8JSNsyiQZPYGvTs2Vxg3r8lqSf5TG4gz1JyFk7e4SJKEEOYM61MJBD8V+kYE+UxuIK9VcjZO3uE6SZADmDOtSicR/FfqCNtlN6N8ut4k4J70cZdHxKQ+YkGT2Bo+u3ZSDevyWpLf5TG4hJVyoaydvRBZUDlowZ6gwFLr+ld5Rg3+UxuISVcqGsnb0QWVA5aMGeoMBS6/pXeUY22Z7Q+zAcJODPaH2YDhJwMokE/wCwaBp3f1TJb1+S1JafKY3EN0jJnsnb0RFVQ+pgz7DHMYPxXcMePnKri/I3k7opbvSc10FeYM8OLBT/AFXZWNvJbs58wvxTRF9Vvd/w40JRIMo/sGkad/8AVSDevyWqbv5TG4hwkVMlk7egIKpn1sGfYU5TD+K7gg4+UxuIVVbKFsnb0ARVE5qsGesMBi6vpXeYI22mWzkzCHFLB5tDHMDwlIyzKJBk9ga9OzZVg3r8lqS4+UxuIVVbKFsnb0ARVE5qsGesMBi6vpXeYIH+UxuIM9SchZO3uEiShBDmDOtTCQQ/FfpGNtnm0McwPCUgpvRvl1vEnEEokE37BoOnf/VSDevyWpJPlMbiCvVXI2Tt7hOkmQA5gzrUonEfxX6gg3+UxuISVcqGsnb0QWVA5aMGeoMBS6/pXeUY22T3o4y6PiUgz2h9mA4ScUyiQT/sGgad39VclvX5LUlp8pjcQ3SMmeydvREVVD6mDPsMcxg/Fdwx4+cquL8jeTuilu9JzXQV5gzw4sFP9V2VjbyW7OfML8U0RfVb3f8ADjQlEgyj+waRp3/1Ug3r8lqm9+UxuIcsnDZOydvQMqkchRFgzpUQENf0qDv5TG4hwkVMlk7egIKpn1sGfYU5TD+K7gjbabbreZdTwjCZbOTMIcUsZYlEg6sHBp+u7+quS3r8lqS4+UxuIVVbKFsnb0ARVE5qsGesMBi6vpXeYIH+UxuIM9SchZO3uEiShBDmDOtTCQQ/FfpGNtnm0McwPCUgpvRvl1vEnEEokE37BoOnf/VSDevyWpJPlMbiCvVXI2Tt7hOkmQA5gzrUonEfxX6gg3+UxuISVcqGsnb0QWVA5aMGeoMBS6/pXeUY22T3o4y6PiUgz2h9mA4ScUyiQT/sGgad39VclvX5LUlv8pjcQkq5UNZO3ogsqBy0YM9QYCl1/Su8owafKY3EN0jJnsnb0RFVQ+pgz7DHMYPxXcMbbM9ofZgOEnCW7OfML8U0GpRIIdgatOzZSDevyWofnKri/I3k7opbvSc10FeYM8OLBT/VdlY9nfymNxDhIqZLJ29AQVTPrYM+wpymH8V3BG1nqt7v+HEqZbOTMIcUsa+YkOUP2DT9d39VIN6/JakuPlMbiFVWyhbJ29AEVROarBnrDAYur6V3mCDj5TG4hVVsoWydvQBFUTmqwZ6wwGLq+ld5gjbZ5tDHMDwlIPNoY5geEpGBKJBN+waDp3/1SDevyWpJ/lMbiDPUnIWTt7hIkoQQ5gzrUwkEPxX6RgT5TG4gr1VyNk7e4TpJkAOYM61KJxH8V+oI22U3o3y63iTgnvRxl0fEpF+YkGT2Bo+u3ZVg3r8lqS3+UxuISVcqGsnb0QWVA5aMGeoMBS6/pXeUYNPlMbiG6Rkz2Tt6IiqofUwZ9hjmMH4ruGNtme0PswHCThLdnPmF+KaDUokEOwNWnZspBvX5LUPzlVxfkbyd0Ut3pOa6CvMGeHFgp/quysez35TG4hyycNk7J29AyqRyFEWDOlRAQ1/So2s9Vvd/w4lTbdbzLqeEY18xIcofsGn67v6qQb1+S1Jd/KY3EOEipksnb0BBVM+tgz7CnKYfxXcEHHymNxCqrZQtk7egCKonNVgz1hgMXV9K7zBG20y2cmYQ4pYPNoY5geEpGWZRIMnsDXp2bKsG9fktST/KY3EGepOQsnb3CRJQghzBnWphIIfiv0jAnymNxBXqrkbJ29wnSTIAcwZ1qUTiP4r9QRtspvRvl1vEnBPejjLo+JSHzEgyewNH127KQb1+S4U2gn02tTPplaefOudTObvFn71fRlJpV1TidQ+EoAUtTGEaAAAFdQAEQI7ys9ofZgOEnBntD7MBwk4++OdgZEA5oA0rv6rj8vauDUI7yy3Zz5hfimiL6re7/hxoc7YmHwa4Z3+qfL2rhJCO8sy2cmYQ4pYPNoY5geEpGRzuiI/B16Wr/wAU+XtXBqEd5Xm0McwPCUgpvRvl1vEnAc7qP2avq/1T5e1cGoR3lT3o4y6PiUgz2h9mA4ScDzuhH9mqOdd/W1Pl7VwahHeWW7OfML8U0JTutnl0/CEGud0I/s0H6v8AVPl7VwahHdv1W93/AA4lTLZyZhDiljX6snA+DXDO/wBU+XtXBqEd5Xm0McwPCUgpvRvl1vEnGRzuo/Zq+r/VPl7VwahHeVPejjLo+JSDPaH2YDhJwPO6Ef2ao5139bU+XtXBqEd5We0PswHCThLdnPmF+KaB53QEfg6tLWNlPl7VwahHdv1W93/DiVMtnJmEOKWNfqycD4NcM7/VPl7VwahHeV5tDHMDwlIPNoY5geEpGRzuo/Zq+r/VPl7VwahHeVTejfLreJOCe9HGXR8SkP1dNH4NX1Ww+lPl7VwahHeVntD7MBwk4S3Zz5hfimged0BH4OrS1jZT5e1cGoR3llO62eXT8IRF9Vvd/wAONDnbEw+DXDO/1T5e1cJIR3lmWzkzCHFLB5tDHMDwlIyOd0RH4OvS1f8Ainy9q4NQjvKpvRvl1vEnBPejjLo+JSH6umj8Gr6rYfSny9q4NQjvKz2h9mA4ScGe0PswHCTged0I/s1Rzrv62p8vauDUI7yy3Zz5hfimiL6re7/hxoc7YmHwa4Z3+qfL2rhJCO8sy2cmYQ4pYpdtN1pZgvhNFdc6/itMs/BpMM7/AFQyeFar8IQj8IvUkIQgiQhCCJHmuiRygo3UMoBVSiQwpqGIYAEKajFEBKP5gICHoj0ikTm1tm7PzGXSmdTdBm7m2n5kmqIhptCmKitB7AwkATDUQ1BEMITqiMZlBkFgJHZicPZzJnEzIrMSpldEXfquSKYBVEBEVhMYBEVRERAQ+yXsCoDVJRJySKUs5NLlxFBmkCRTLFxnMUOyohhCvsjG8qtpOZnKW82ss+RfjMWCL0iq0yRAqwKFMciyaah6kTMAVAMJOqFKVARLVGVsbSu10zJOWB0hmoMjkM4bkMBtIoAph84I10YJmAtMZqiIUCkfLd8pThhpy2DqyTNPCyivUvovJI02Mv4rJB/sJ5vcLFdLD/BDb/iicEIqM23W8y6nhGKcw/wQ2/4onBCKjNt1vMup4Rj7LjNYv9F4pT2zd54pMtnJmEOKWDzaGOYHhKQmWzkzCHFLB5tDHMDwlI0zmjfwXEopvRvl1vEnBPejjLo+JSCm9G+XW8ScE96OMuj4lIaO7FEZ7Q+zAcJODPaH2YDhJwZ7Q+zAcJODPaH2YDhJwNdwwRJbs58wvxTRF9Vvd/w4lS3Zz5hfimiL6re7/hxoZ52hiopUy2cmYQ4pYPNoY5geEpCZbOTMIcUsHm0McwPCUjLOaN/BUo82hjmB4SkFN6N8ut4k4PNoY5geEpBTejfLreJOIKrjiiJ70cZdHxKQZ7Q+zAcJOCe9HGXR8SkGe0PswHCTimu4YIkt2c+YX4poi+q3u/4cSpbs58wvxTRF9Vvd/wAONDPO0MVFKm263mXU8IwmWzkzCHFLCbbreZdTwjEK1c5ltn5KebzdzoGqC7bEbAY4iJlyFKUpSgJjGMYQKBSgIiIgAAIjGWNG/wBFVNebQxzA8JSCm9G+XW8ScQWM7ltoW0tmspWOo3UcqEAVETpHKYhFSnKchwA5DFMUQEpgAQEBAQicpvRvl1vEnCEIA6jipGKJ70cZdHxKQZ7Q+zAcJOCe9HGXR8SkGe0PswHCTga7hgqjPaH2YDhJwluznzC/FNBntD7MBwk4S3Zz5hfimg3R4cErUX1W93/DiVMtnJmEOKWIvqt7v+HEqZbOTMIcUsb0xtHBBQjzaGOYHhKQebQxzA8JSDzaGOYHhKQebQxzA8JSOYquOKIpvRvl1vEnBPejjLo+JSCm9G+XW8ScE96OMuj4lIujuxRGe0PswHCTi1rd27Ru1sK+tivKl5imzfFSO3QOBTmBV4CQiWoaxLpMVPTSnpi6We0PswHCTjwTl7CaS87SZMW7tDnaimiXSKoTGRcTENQwCFSmKUwD6BABDWEG6I7PBUQjOsOo8pexyti7UOPJ7wD2eTUbIkAQMV8QGx1E1SGDUUqgJqUrXUBR/wA0V+zl+UotuUZS3s5NWzh6VymQB0SgIgm2TWMZbCepAosmGIoGJVRMBMBjYQrZrsrtj2ZROe72zRjN5Zo0hGUtxFMnNwTwl6moNGUpKB/lAA7ApE1W7i7yUGdz+VWDs6ymZUFRB63laCa4CJTVHSFKBtdR9PpGOwLGWzHWfGafxiVjrTw1Dxr3avNY6nPKisSjOZlIRSJSUzlFks4B0U5dEVfAZYSkAxi0VSXJhEK0IU2opwGKjMOUrd4iuiZw0n6XNFiiuB5YeqYqN1DpAIAPacodUA9tIvmeWDsQ9aMyubISY/MjpINTCxSxN0zLkMJUhw1TATABurTWAD2hFGkNzN21kGDWSy6yctXQXfCusZ00SUMocElMIj1QDqh2AAAAVEe0REcOixAZVED41nwnvsRvKgcmmrDziLoVqguOUrdm3fsjvVZq1VVKukCCzEwK0A6QGUwgI1KU3VGlRqAiACXrR4pcpewYTwwOJfOWrVVszAzpw2KmRE6plDEKoAmqSqeE4COocRSh1xAkX2/u9sC/mbQH1h7PuQTTVWICssRPhUA5BAwVLqMAmMNe3WPfHwvdtd2/nCiz6wVnHB0UEBTMrKkDiSmMoUES6qFIUP6FAPQEGCxS0JoY+/cyNBqEGaVb8/vmlFnrRu7MS6TvZnNVZw1lxSBRFATqczIoOlNUPmiu0TCAANcYAFaGw020V+Slk7R2gkjiyKxhYuEVgdGUXMhzUUVBVXUFBBUxSk5uOLAU4F0iYHFMREAv5CyNk159MZ8tZiUqTNRwkJ3pmSQrmwJomJVQS4hwiQghr1CUoh2BEM13F3szfzd1MbDWfdLPHpF3Ci0tROZZQEi0McRLUwhjPrH/AKzd4xGSAOtqEf8A1xid8LRpqJjDd5+/OxW7Pb65DYeYzCT2gYrIixcKOTqAfEAsBKscXVACtAVTMhh/6xJrADRbrjlN2AQs0kqDKcCwMgZio9O3Kmkm6BJCiIYjAJhEzlIuIoCSpq4sNTBlUtm7Ozcq7mayCWvVliOmCijhqmoY7Y6widERMAiKZhABEnYIgFQiiHu4u8PYskvPYOzpmqbUVyIDK0BTKqKJSicC4aAYSkKWvbQoB6AjTJGUY6xxOHnYpWNXv3dCtWqryj7DuSlSXYzhAFniXMTizNR2iUqK6ipa0wgQipRMBqCFaBUagEU/KluzcTRgh9YFQOoUybgqaapTnHnaZyACZzCYSc3MYRLWoGKBcQ6ov13dtd01TFZrYGziJ1lW6ahk5UgUTkASpAURAusATESU/wCkcPZqjydXV3YEWlpCXcWXKVNyJiAEnbgBRAipgEOpq6xjD/Uwj6Rg7LGSzEa+Aj48bJlHkTHI9zn/AAvaytvLP3gIEmFn1FhIxmarFcixMCiapUTCIGLWpRoYo4TUMFaCADUIuJTejfLreJOKexs7Z+zYtmtnZFL5Uiu9MuqmyakQKdQUTgJzAQAATCAAFR16gioKb0b5dbxJxzmmhq9Vdd6J70cZdHxKQZ7Q+zAcJOCe9HGXR8SkGe0PswHCTga7hgqkt2c+YX4poSndbPLp+EIS3Zz5hfimhKd1s8un4QiN6V/qgqUX1W93/DiVMtnJmEOKWIvqt7v+HEqZbOTMIcUsdNMbRwQUI82hjmB4SkFN6N8ut4k4PNoY5geEpBTejfLreJOOYquOKInvRxl0fEpBntD7MBwk4J70cZdHxKQZ7Q+zAcJOKa7hgiM9ofZgOEnCW7OfML8U0Ge0PswHCTikTi1kksXIFp7aFV0kyTdLEOo3ZLuhIIqnoJiokOYA9FRClRDXrCDdHhwStTfVb3f8OJUy2cmYQ4pYgNnCbuxyTpIqpSLS0DlBVIyZwAUqhiIYAMUfyEAEPSET5ls5MwhxSxszNjaOCgoR5tDHMDwlIPNoY5geEpB5tDHMDwlIPNoY5geEpHMVXHFVFN6N8ut4k4J70cZdHxKQU3o3y63iTgnvRxl0fEpF0d2KIz2h9mA4ScJbs58wvxTQZ7Q+zAcJOEt2c+YX4poN0eHBK0lO62eXT8IRF9Vvd/w4lSndbPLp+EIi+q3u/wCHGhnnaGKilTLZyZhDilg82hjmB4SkJls5MwhxSwebQxzA8JSMs5o38FSim9G+XW8ScE96OMuj4lIKb0b5dbxJwT3o4y6PiUho7sURntD7MBwk4M9ofZgOEnBntD7MBwk4M9ofZgOEnA13DBEluznzC/FNEX1W93/DiVLdnPmF+KaIvqt7v+HGhnnaGKilTLZyZhDilil203WlmC+E0VSZbOTMIcUsUu2m60swXwmjcl7Ri84I1Qq/CEI8i0kIQgiQhFItclaBeyk5QsouRGdqMHBZcoemEjkUzaIRqAhQDU7QEIhMBFUCJgqvFmXiXU2cvNGXjP3UwQGW6QERZqkTEQUMmKgCJimGhip4BpTqKHD0gIYwWPyhpWwmrGyNiZyLN3iIyLN523cu0TidqAnOod0YxC6MHf2FBHGICUpApWnubzb92dsj2ebEljhu0dHUmB1k0USM0iOThotMdQE1ABodqqcAPpSmWD9RS9QxOCDPT/ndrxWI9WOuPvfGYVzr6vPuSsVd/ZlraCXvbTLrtlm8qZpIKo4iGcpIMTqVIyXVPVFIgCUE1ADWJClHWFjymX3JvXcifA9toeczF00mSErRetBQArh4gShSHSJ80YVUlhMZMhzAIjUFMZYycyvVnbK7qcOb2wkbK04KOHtnGaizZ6CopNSqoqBoBMQBByRcpREQMGAoVE1DGxc9nE0kEyaTeYWHsfinT9sk3XSlcscPFzHeIl+eTSVMROplRMYUxE+IqRqDhPh7OMqOSTWPCaA3GnUsP4AAnURiTYCDNrK2vYf4Ibf8UTghFRm263mXU8IxTmH+CG3/ABROCEVGbbreZdTwjHFxmsX+i9Up7Zu88UmWzkzCHFLB5tDHMDwlITLZyZhDilg82hjmB4SkaZzRv4LiUU3o3y63iTgnvRxl0fEpBTejfLreJOCe9HGXR8SkNHdiiM9ofZgOEnBntD7MBwk4M9ofZgOEnBntD7MBwk4Gu4YIkt2c+YX4poi+q3u/4cSpbs58wvxTRF9Vvd/w40M87QxUUqZbOTMIcUsHm0McwPCUhMtnJmEOKWDzaGOYHhKRlnNG/gqUebQxzA8JSCm9G+XW8ScHm0McwPCUgpvRvl1vEnEFVxxRE96OMuj4lIM9ofZgOEnBPejjLo+JSDPaH2YDhJxTXcMESW7OfML8U0RfVb3f8OJUt2c+YX4poi+q3u/4caGedoYqKVNt1vMup4Rix7+jlSu1cqi8BidOZyk6cwMYoEl6gTBvgdnxAJRIiaipgN1RKQQGgCIhfE23W8y6nhGLPvtmD2VXdPH7JZ0QUnsu0xWigJuVkBeogqigaoUWUTE5CUEBxmLQQGgxzZ0NocR716p1pel3Llw7spJ1ndr0bULC/dlPN0DAKbsQMuGIgFAClKFKAUtSlpQDGAMQ3YpvRvl1vEnFp3czNKb2Skr1BvOG6QvnSaaE4caZ6iQhlygmsaoiBigFMJhMctAAxhMAjF2Kb0b5dbxJx0bz9xxXNihE96OMuj4lIM9ofZgOEnBPejjLo+JSDPaH2YDhJxk13DBbRntD7MBwk4S3Zz5hfimgz2h9mA4ScJbs58wvxTQbo8OCVqL6re7/AIcSpls5MwhxSxF9Vvd/w4lTLZyZhDiljemNo4IKEebQxzA8JSDzaGOYHhKQebQxzA8JSDzaGOYHhKRzFVxxRFN6N8ut4k4J70cZdHxKQU3o3y63iTgnvRxl0fEpF0d2KIz2h9mA4ScJbs58wvxTQZ7Q+zAcJOEt2c+YX4poN0eHBK1F9Vvd/wAOJU23W8y6nhGIvqt7v+HEqbbreZdTwjG9MbRwQUJMtnJmEOKWDzaGOYHhKQmWzkzCHFLB5tDHMDwlIwzmjfwQopvRvl1vEnBPejjLo+JSCm9G+XW8ScE96OMuj4lIaO7FEZ7Q+zAcJODPaH2YDhJwZ7Q+zAcJODPaH2YDhJwNdwwRJbs58wvxTRF9Vvd/w4lS3Zz5hfimiL6re7/hxoZ52hiopUy2cmYQ4pYPNoY5geEpCZbOTMIcUsHm0McwPCUjLOaN/BUo82hjmB4SkFN6N8ut4k4PNoY5geEpBTejfLreJOIKrjiiJ70cZdHxKQZ7Q+zAcJOCe9HGXR8SkGe0PswHCTimu4YIkt2c+YX4poSndbPLp+EIS3Zz5hfimhKd1s8un4QiN6V/qgqUX1W93/DiVMtnJmEOKWIvqt7v+HEqZbOTMIcUsdNMbRwQUI82hjmB4SkFN6N8ut4k4PNoY5geEpBTejfLreJOOYquOKInvRxl0fEpBntD7MBwk4J70cZdHxKQZ7Q+zAcJOKa7hgiM9ofZgOEnGP7505mpdJPAlbxq3MCxxUFw2MsBic5+yUCnJhGtBqIiFAEKa6hkBntD7MBwk4x5fS+JLbq5o+B5O2q6To4oLSlR2RUh9OYOsZt1gJQTVxdWtK66RT/x4J/lXo2K5JY5IrxVJVcJaAKnSTFMhj6LWJSiYwlCvoEw07xifMtnJmEOKWKZLNB0Fa815zofJRNHznSabDoQpj0vzmKnbj61e3XFTmWzkzCHFLG2s8bRwUZoR5tDHMDwlIPNoY5geEpB5tDHMDwlIPNoY5geEpHIVXHFVFN6N8ut4k4J70cZdHxKQU3o3y63iTgnvRxl0fEpF0d2KIz2h9mA4ScJbs58wvxTQZ7Q+zAcJOEt2c+YX4poN0eHBK0lO62eXT8IRF9Vvd/w4lSndbPLp+EIi+q3u/4caGedoYqKVMtnJmEOKWDzaGOYHhKQmWzkzCHFLB5tDHMDwlIyzmjfwVKKb0b5dbxJwT3o4y6PiUgpvRvl1vEnBPejjLo+JSGjuxRGe0PswHCTgz2h9mA4ScGe0PswHCTgz2h9mA4ScDXcMESW7OfML8U0RfVb3f8ADiVLdnPmF+KaIvqt7v8AhxoZ52hiopUy2cmYQ4pYpdtN1pZgvhNFUmWzkzCHFLFLtputLMF8Jo3Je0YvOCNUKvwhCPItJCEIIkIQgiRgK/OwdmrPOzXiKqThzMpvMmrYiaBUilROQSLEOYyTJdwsQgtQEE1CrELiMIFKGsufYos2m1lk3ZGs6VaGcMFGrghV0sQoKLqGRQOURAcJjHxlAQ1hr7AiEhkgxh7/AMISIEH2avNaiWebXOMZNZCz01fWvmMyUlKCisvag0Mm3SMxVOuoQgJYxIIO8dD/APcKBfsHIFYbtrmV5/K7QS1na8XSk7QZoNSKoERcD5UcJovE8aQAJTHItiDEQQIAhQREDGvC825OydobdozKTMLGShg0laShBM2QDnLkq+M6WiKqmU2NIiRBOqQ5QKYBLQSxa1nZBejJWbeXvLsLFO37i05lnRwUlRjCkLoTgCplDioo4AFFDUAcQAKNDYtIA+xh4y8AJMDETRqLRHvVGNYXJ6QGjXETnW1AGPAWkQqMdmmH+CG3/FE4IRUZtut5l1PCMU5h/ght/wAUTghFRm263mXU8IxwcZrF/ovVKe2bvPFJls5MwhxSwebQxzA8JSEy2cmYQ4pYPNoY5geEpGmc0b+C4lFN6N8ut4k4J70cZdHxKQU3o3y63iTgnvRxl0fEpDR3YojPaH2YDhJwZ7Q+zAcJODPaH2YDhJwZ7Q+zAcJOBruGCJLdnPmF+KaIvqt7v+HEqW7OfML8U0RfVb3f8ONDPO0MVFKmWzkzCHFLB5tDHMDwlITLZyZhDilg82hjmB4SkZZzRv4KlHm0McwPCUgpvRvl1vEnB5tDHMDwlIKb0b5dbxJxBVccURPejjLo+JSDPaH2YDhJwT3o4y6PiUgz2h9mA4ScU13DBEluznzC/FNEX1W93/DiVLdnPmF+KaIvqt7v+HGhnnaGKilTbdbzLqeEYse/o5UrtXKovAYnTmcpOnMDGKBJeoEwb4HZ8QCUSImoqYDdUSkEBoAiIXxNt1vMup4Riz77Zg9lV3Tx+yWdEFJ7LtMVooCblZAXqIKooGqFFlExOQlBAcZi0EBoMc2dDaHEe9eqdaXpdy5cO7KSdZ3a9G1Cwv3ZTzdAwCm7EDLhiIBQApShSgFLUpaUAxgDEN2Kb0b5dbxJxad3MzSm9kpK9QbzhukL50mmhOHGmeokIZcoJrGqIgYoBTCYTHLQAMYTAIxdim9G+XW8ScdG8/ccVzYoRPejjLo+JSDPaH2YDhJwT3o4y6PiUgz2h9mA4ScZNdwwW0Z7Q+zAcJOEt2c+YX4poM9ofZgOEnCW7OfML8U0G6PDglai+q3u/wCHEqZbOTMIcUsRfVb3f8OJUy2cmYQ4pY3pjaOCChHm0McwPCUg82hjmB4SkHm0McwPCUg82hjmB4SkcxVccURTejfLreJOCe9HGXR8SkFN6N8ut4k4J70cZdHxKRdHdiiM9ofZgOEnCW7OfML8U0Ge0PswHCThLdnPmF+KaDdHhwStRfVb3f8ADiVNt1vMup4RiL6re7/hxKm263mXU8IxvTG0cEFCTLZyZhDilg82hjmB4SkJls5MwhxSwebQxzA8JSMM5o38EKKb0b5dbxJwT3o4y6PiUgpvRvl1vEnBPejjLo+JSGjuxRGe0PswHCTgz2h9mA4ScGe0PswHCTgz2h9mA4ScDXcMESW7OfML8U0RfVb3f8OJUt2c+YX4poi+q3u/4caGedoYqKVMtnJmEOKWDzaGOYHhKQmWzkzCHFLB5tDHMDwlIyzmjfwVKPNoY5geEpBTejfLreJODzaGOYHhKQU3o3y63iTiCq44oie9HGXR8SkGe0PswHCTgnvRxl0fEpBntD7MBwk4pruGCJLdnPmF+KaEp3Wzy6fhCEt2c+YX4poSndbPLp+EIjelf6oKlF9Vvd/w4lTLZyZhDiliL6re7/hxKmWzkzCHFLHTTG0cEFCPNoY5geEpBTejfLreJODzaGOYHhKQU3o3y63iTjmKrjiiJ70cZdHxKQZ7Q+zAcJOCe9HGXR8SkGe0PswHCTimu4YIjPaH2YDhJxj++dOZqXSTwJW8atzAscVBcNjLAYnOfslApyYRrQaiIhQBCmuoZAZ7Q+zAcJOMeX0viS26uaPgeTtquk6OKC0pUdkVIfTmDrGbdYCUE1cXVrSuukU/8eCf5V6NiuSWOSK8VSVXCWgCp0kxTIY+i1iUomMJQr6BMNO8YnzLZyZhDilimSzQdBWvNec6HyUTR850mmw6EKY9L85ip24+tXt1xU5ls5MwhxSxtrPG0cFGaEebQxzA8JSDzaGOYHhKQebQxzA8JSDzaGOYHhKRyFVxxVRTejfLreJOCe9HGXR8SkFN6N8ut4k4J70cZdHxKRdHdiiM9ofZgOEnCW7OfML8U0Ge0PswHCThLdnPmF+KaDdHhwStJTutnl0/CERfVb3f8OJUp3Wzy6fhCIvqt7v+HGhnnaGKilTLZyZhDilg82hjmB4SkJls5MwhxSwebQxzA8JSMs5o38FSim9G+XW8ScE96OMuj4lIKb0b5dbxJwT3o4y6PiUho7sURntD7MBwk4M9ofZgOEnBntD7MBwk4M9ofZgOEnA13DBEluznzC/FNEX1W93/AA4lS3Zz5hfimiL6re7/AIcaGedoYqKVMtnJmEOKWKXbTdaWYL4TRVJls5MwhxSxS7abrSzBfCaNyXtGLzgjVCr8IQjyLSQhFg3pMrVvFJUMlYT5/LCFdc9bSKZJsXgriQvNj6U6qYaMo6TEXENTGIIlMUDBBUCKv6EYKYsOUo2mgNjLY2Syypyu11WyijQis2EDFwgoBVcDECnKJiahESgAfdxEazzld83FR/Y2XC4I4aCKSC7MCKJ4T6XCcywiQKgniASmEREQIIAOMuwxEwiPcPXisEwYy4evv2VsBGvt509sa5vAmhLQWLcP3MuBogm6SqKxOaFB8AoiduJCgIrFTOBVhONS0IAdaK9LLwLzLO2KtM6vSQlkqtGRFyrImqZ0lQcGKiIlAgJnETk0lAKBgKemoa9sWs+bcoecOWiY3bShw1cFWdKvJghLRUBwKC5ElVUQUNVYAK3IAkPTRnEDVGuDg+kxfjJJEIV2jiJ5ty5v2WmmQGDAx4YUQKhqkuIag9Smc7tM9cpJlTdGcN2+NsYiRmwpmEEikTEpFaiYerUpRxCICA1FpZ+5iWTPygraO0z1SYuSNk1HQpGSQOd2sUolMKYAQNK1UANdRClAERiwrc2stZZu2xLMWosLJlVjkcqOnKNmGTgRlqayQ88OoYwETOJlcRxUwoBWtQOUxYrtnbO3jspio/ndl7Dt1lZppnWIGCxVHhXImK2IJlapiVJVYS0ADgABrr2x3JXjQyiWabZxEe44rxNyQstAkA7qJiYnw89S2MYf4Ibf8UTghFRm263mXU8IxTmH+CG3/FE4IRUZtut5l1PCMelxmsX+i+xKe2bvPFJls5MwhxSwebQxzA8JSEy2cmYQ4pYPNoY5geEpGmc0b+C4lFN6N8ut4k4J70cZdHxKQU3o3y63iTgnvRxl0fEpDR3YojPaH2YDhJwZ7Q+zAcJODPaH2YDhJwZ7Q+zAcJOBruGCJLdnPmF+KaIvqt7v+HEqW7OfML8U0RfVb3f8ONDPO0MVFKmWzkzCHFLB5tDHMDwlITLZyZhDilg82hjmB4SkZZzRv4KlHm0McwPCUgpvRvl1vEnB5tDHMDwlIKb0b5dbxJxBVccURPejjLo+JSDPaH2YDhJwT3o4y6PiUgz2h9mA4ScU13DBEluznzC/FNEX1W93/DiVLdnPmF+KaIvqt7v+HGhnnaGKilTbdbzLqeEYse/o5UrtXKovAYnTmcpOnMDGKBJeoEwb4HZ8QCUSImoqYDdUSkEBoAiIXxNt1vMup4Rig3mTUZLY14+K4BuOlbIgrUQEgnXIQBKBQMYxqmAClKUxhMIABREaRhnQ2sR7jUtKDdy5cO7KSdZ3a9G1Cwv3ZTzdAwCm7EDLhiIBQApShSgFLUpaUAxgDEN2Kb0b5dbxJxQLHzk8+s5IpgqYRVBZRuqIkMQwqJFVTMJinKUxBESCIlMUpgEaCACAhFfU3o3y63iTjbeduOKwzQie9HGXR8SkGe0PswHCTgnvRxl0fEpBntD7MBwk4ya7hgtIz2h9mA4ScJbs58wvxTQZ7Q+zAcJOEt2c+YX4poN0eHBK1F9Vvd/w4lTLZyZhDiliL6re7/hxKmWzkzCHFLG9MbRwQUI82hjmB4SkHm0McwPCUg82hjmB4SkHm0McwPCUjmKrjiiKb0b5dbxJwT3o4y6PiUgpvRvl1vEnBPejjLo+JSLo7sURntD7MBwk4S3Zz5hfimgz2h9mA4ScJbs58wvxTQbo8OCVqL6re7/hxKm263mXU8IxF9Vvd/w4lTbdbzLqeEY3pjaOCChJls5MwhxSwebQxzA8JSEy2cmYQ4pYPNoY5geEpGGc0b+CFFN6N8ut4k4J70cZdHxKQU3o3y63iTgnvRxl0fEpDR3YojPaH2YDhJwZ7Q+zAcJODPaH2YDhJwZ7Q+zAcJOBruGCJLdnPmF+KaIvqt7v+HEqW7OfML8U0RfVb3f8ONDPO0MVFKmWzkzCHFLB5tDHMDwlITLZyZhDilg82hjmB4SkZZzRv4KlHm0McwPCUgpvRvl1vEnB5tDHMDwlIKb0b5dbxJxBVccURPejjLo+JSDPaH2YDhJwT3o4y6PiUgz2h9mA4ScU13DBEluznzC/FNCU7rZ5dPwhCW7OfML8U0JTutnl0/CERvSv9UFSi+q3u/4cSpls5MwhxSxF9Vvd/wAOJUy2cmYQ4pY6aY2jggoR5tDHMDwlIKb0b5dbxJwebQxzA8JSCm9G+XW8SccxVccURPejjLo+JSDPaH2YDhJwT3o4y6PiUgz2h9mA4ScU13DBEZ7Q+zAcJOMf3zpzNS6SeBK3jVuYFjioLhsZYDE5z9koFOTCNaDUREKAIU11DIDPaH2YDhJxjy+l8SW3VzR8DydtV0nRxQWlKjsipD6cwdYzbrASgmri6taV10in/jwT/KvRsVySxyRXiqSq4S0AVOkmKZDH0WsSlExhKFfQJhp3jE+ZbOTMIcUsUyWaDoK15rznQ+SiaPnOk02HQhTHpfnMVO3H1q9uuKnMtnJmEOKWNtZ42jgozQjzaGOYHhKQebQxzA8JSDzaGOYHhKQebQxzA8JSOQquOKqKb0b5dbxJwT3o4y6PiUgpvRvl1vEnBPejjLo+JSLo7sURntD7MBwk4S3Zz5hfimgz2h9mA4ScJbs58wvxTQbo8OCVpKd1s8un4QiL6re7/hxKlO62eXT8IRF9Vvd/w40M87QxUUqZbOTMIcUsHm0McwPCUhMtnJmEOKWDzaGOYHhKRlnNG/gqUU3o3y63iTgnvRxl0fEpBTejfLreJOCe9HGXR8SkNHdiiM9ofZgOEnBntD7MBwk4M9ofZgOEnBntD7MBwk4Gu4YIkt2c+YX4poi+q3u/4cSpbs58wvxTRF9Vvd/w40M87QxUUqZbOTMIcUsUu2m60swXwmiqTLZyZhDilil203WlmC+E0bkvaMXnBGqFX4QhHkWkhCEESEIQRItm8G2DqxUiJNWUjVmzhVym2TbJ6UR61RE2FFNVUwABREQTSOb00AoGMEO8NnaJ2eWjK2k4dy8nOOdt5Q+I0ciqJA0B9IZRPqFHHUoG1iJKgIAMY1WbX5WnlHkW1NjJbPGyKgkXJMpezOgq5SEwJnKRVQMSJjAAnUEoH1gKYCA1Dj8Xr5EDNDwrXB6/+FSyTVMIzw9+BmVEtNe7dZeLL2U9tPOLT2aMq1fSYreXkbrJzNm5EecFKodI+IMLI2tMSHDWBcRhKEWrOZZdLNLQt1LIWrnYmRmAozBZeXJLJJMUnxFTiUSpAGEFhMGM3z/WARPhAAPfTixl5jhklLVbm7KLt0DvSpIrMJZoSho8Tc+DEOENKdShA1hURMca6/ZG7O2Ewte3ta5uzs4xK2mrhyk3PLmAnEh3SAguoYiggKwpgobHUTFEmoQE2vu7lTEWSyy0N1E4PrG8rm0/Jymclqyaw8Jp7BSsysP8ENv+KJwQiozbdbzLqeEYpzD/AAQ2/wCKJwQiozbdbzLqeEY24zWL/RfQlPbN3niky2cmYQ4pYPNoY5geEpCZbOTMIcUsHm0McwPCUjTOaN/BcSim9G+XW8ScE96OMuj4lIKb0b5dbxJwT3o4y6PiUho7sURntD7MBwk4M9ofZgOEnBntD7MBwk4M9ofZgOEnA13DBEluznzC/FNEX1W93/DiVLdnPmF+KaIvqt7v+HGhnnaGKilTLZyZhDilg82hjmB4SkJls5MwhxSwebQxzA8JSMs5o38FSjzaGOYHhKQU3o3y63iTg82hjmB4SkFN6N8ut4k4gquOKInvRxl0fEpBntD7MBwk4J70cZdHxKQZ7Q+zAcJOKa7hgiS3Zz5hfimiL6re7/hxKluznzC/FNEX1W93/DjQzztDFRSptut5l1PCMWPf2cqV2rlXngMTpzOUmSmBhKBJeoEwb4HZ8QCUSImoqYDdUSkEBEAERC+Jtut5l1PCMW5em2n7uxi7ezZHSjsz1hpEmi5UHCrYHaQrppKGMUpFDJaQpTCYtBEBxF7QwzobQ4j3rFS0ot3Dly7snJlnlr0bUrC/dlPN0BAUnYgZcMRAAAKUuqgFLUpaUAxgDEN2qb0b5dbxJxQbJt3rSSSlu/YzVmcjxwCaE0ekduk0vntGB1SGMBurhpU5xAKAYxhARivKb0b5dbxJxtoxam1HHUsMzBE96OMuj4lIM9ofZgOEnBPejjLo+JSDPaH2YDhJxk13DBaRntD7MBwk4S3Zz5hfimgz2h9mA4ScJbs58wvxTQbo8OCVqL6re7/hxKmWzkzCHFLEX1W93/DiVMtnJmEOKWN6Y2jggoR5tDHMDwlIPNoY5geEpB5tDHMDwlIPNoY5geEpHMVXHFEU3o3y63iTgnvRxl0fEpBTejfLreJOCe9HGXR8SkXR3YojPaH2YDhJwluznzC/FNBntD7MBwk4pcltXZd1NHVmGtpJUtOWyq515cm8TM5SLpBGpkgHGUKGKNRD0h3wbohdwS1SvVb3f8OJU23W8y6nhGIvqt7v+HHpaB8yYylyZ68QbgokdMgqqAQDHEBAChXtER7AjemNo4IKF7TLZyZhDilg82hjmB4SkJls5MwhxSxR0bZ2PnM4bymUWrkz582eHQXbNnySqqSgJLVIYhTCJTBgPqEK9U3cMYYzRv4IdarCm9G+XW8ScE96OMuj4lIKb0b5dbxJx8iqkhMHSy6hE0yNkRMc4gAFDEprER7IaO7FF9M9ofZgOEnBntD7MBwk480HLdB05Iu4TTMu7KmkBzgAnPoSDhLXtGgCNA9AD3R4OpxKZChNJtPZo0lzFBcgquXa5UUk6ppgGI5hAAqIgGse0Qg1NG4YK2KXLdnPmF+KaIvqt7v+HH7ZuZy2cygk0lEwbPmblVc6LhsqVVJQulPrKYoiAh+YDH56re7/AIcbEzZ2hisihSpls5MwhxSwebQxzA8JSKfNrQ2fSSVSVnkvIdo4ac4KZyQBRxuAITGFeriOUxQr2iAgGsImTVy3Zi1du100EEVTqKKqGApCFBFQRMIjqAAD0jGGc0b+CpXo82hjmB4SkFN6N8ut4k4PNoY5geEpBTejfLreJOIKrjiiJ70cZdHxKQZ7Q+zAcJOCe9HGXR8SkGe0PswHCTimu4YIkt2c+YX4poSndbPLp+EIS3Zz5hfimhKd1s8un4QiN6V/qgqUX1W93/DiVMtnJmEOKWIvqt7v+HEqZbOTMIcUsdNMbRwQUI82hjmB4SkFN6N8ut4k4PNoY5geEpBTejfLreJOOYquOKInvRxl0fEpBntD7MBwk4J70cZdHxKQZ7Q+zAcJOKa7hgiM9ofZgOEnGP7505mpdJPAlbxq3MCxxUFw2MsBic5+yUCnJhGtBqIiFAEKa6hkBntD7MBwk4tO38hnForBTFhZ5eYpTQHCijQzGYqMlMYLmr84Q5NWETahGg91QCKf+PBFXWxXJLHJFeKpKrhLQBU6SYpkMfRaxKUTGEoV9AmGneMT5ls5MwhxSxAbN02ljkmqRlTERloEKKqplDiAJUDEcwiYw/mIiI+kYnzLZyZhDiljRzxtHBQUI82hjmB4SkHm0McwPCUg82hjmB4SkHm0McwPCUjmKrjiqim9G+XW8ScE96OMuj4lIKb0b5dbxJwT3o4y6PiUi6O7FEZ7Q+zAcJOEt2c+YX4poM9ofZgOEnCW7OfML8U0G6PDglaSndbPLp+EIi+q3u/4cSpTutnl0/CERfVb3f8ADjQzztDFRSpls5MwhxSwebQxzA8JSEy2cmYQ4pYPNoY5geEpGWc0b+CpRTejfLreJOCe9HGXR8SkFN6N8ut4k4J70cZdHxKQ0d2KIz2h9mA4ScGe0PswHCTgz2h9mA4ScGe0PswHCTga7hgiS3Zz5hfimiL6re7/AIcSpbs58wvxTRF9Vvd/w40M87QxUUqZbOTMIcUsUu2m60swXwmiqTLZyZhDilil203WlmC+E0bkvaMXnBGqFX4QhHkWkhFNntpLO2XZlmNpp9LpQ0MoCRV37pNumJxARAoGOIBUQAdX5DH50ns0LEszC0Ms5mZNVUHHO09EJEvvDAatKF/zDWgemkEVKvJtoe7+yS9pkpUaZKJuWjVNsUVAE53DhNAv3SaiggAqANCJnMNKAAjFgSTlT2CmLZgi9ZTEk2fimRNizQO4xHVcGQQAomKmYAUEuMoqEJQohjwGHDGT57M7IomYyy00wlBDTBwmLFu+WSAXC6ZynIKRTj1zlOBDBhARAcIhrpFmWos3yc3bdKZWsltgSJPFUXSbpzzRHnBjLmcEHSahOB1SKHEKiBxA9QNU0QR8/YvVpoVOX5Ut0KLR4+LNnZ0WSCTg5ub4AMU6ZVBABOJQAxSnKIlNQRGoFxCAgFBX5WtnUphMpeFkJmB2yiSbEVF0wF+Av1GqxiAFcIJlT0w11iQ1KAIDF+P7L3CmnadmpnZ2wIzeYIpaOXrtGXOXCRCCVOiRgxHKUhBKXUIABRANQRVk7vbsQdqIo2HsvzpP59QpZY30hdIJwxiGGoYhBTWPb1vziigE0+R9PYtEbgTBijzs/wAzT1QVhTDlV3XtZK7m7NZ255uk+MQolKRNQ7ZsVyKYKVEuIyahBAoYjFqOIpRAQCpSnlJXaT58SWyRaZPnCvNgSIi0EcYrijow1iGGpXKB+tTqnH0kOBboSumusQIVJC7SyiZCaTCUkmbAAYyFTPQAJ/mIUpR7ylAB1AED2Tuss5NEJopZqysrmT9yCaDgWbZBdw4E2kApTUAxziYuKgCI1CvaEGaWcqyPjVePPwVahPk6pr/TBT2H+CG3/FE4IRUZtut5l1PCMU5h/ght/wAUTghFRm263mXU8Ix0cZrF/oukp7Zu88UmWzkzCHFLB5tDHMDwlITLZyZhDilg82hjmB4SkaZzRv4LiUU3o3y63iTgnvRxl0fEpBTejfLreJOCe9HGXR8SkNHdiiM9ofZgOEnBntD7MBwk4M9ofZgOEnBntD7MBwk4Gu4YIkt2c+YX4poi+q3u/wCHEqW7OfML8U0RfVb3f8ONDPO0MVFKmWzkzCHFLB5tDHMDwlITLZyZhDilg82hjmB4SkZZzRv4KlHm0McwPCUgpvRvl1vEnB5tDHMDwlIKb0b5dbxJxBVccURPejjLo+JSDPaH2YDhJwT3o4y6PiUgz2h9mA4ScU13DBEluznzC/FNEX1W93/DiVLdnPmF+KaIvqt7v+HGhnnaGKilTbdbzLqeEYTLZyZhDilhNt1vMup4RhMtnJmEOKWMsaN/oqjzaGOYHhKQU3o3y63iTg82hjmB4SkFN6N8ut4k4gquOKInvRxl0fEpBntD7MBwk4J70cZdHxKQZ7Q+zAcJOKa7hgiM9ofZgOEnCW7OfML8U0Ge0PswHCThLdnPmF+KaDdHhwStRfVb3f8ADiVMtnJmEOKWIvqt7v8AhxKmWzkzCHFLG9MbRwQUI82hjmB4SkHm0McwPCUjGV+No7f2fmFlj2KbzJdI7lc7pFjLTuTKmKUuAgmBBUpQEplOqcUAN26dPDrst5fJfrJZPKhmF0rqazMiYOcSEveF5yYyCdERKRMQSUDSrGMJqF+YEgBUahyZMQDYRx9/5gqGSTkhbAqb0b5dbxJwT3o4y6PiUjEExtbesmxdKTVq6aLITkGirmUyNZRVvLTN2yhlUE1Cq6cdMYUxOBDgUBMIl+bEItqR3zX4uJ0lI0bppsc6jdul5Um0scJFOXTGDnCgJJgUvVMb5sQTN1cVCAbCWkhlgE1gecD/AN2qCecX+Bh7sgthGe0PswHCTjC1oOTivaWYze0EqvEmUpeTSbPnYlwKrt0iqAklQiIrAQp6ICUxygGNJdUghrA5bePfZfpMVXR2F0E5lBU5iiCyRpU5XWOkZmoIFIfBgCqiaI48I4MeExajWL2lt4F4a92ZLchY98V/L5qKj6RoS5wDlw1OPziSZFkynMdMytcZAEp9ANNRhADwQBNgG4wj5gR1XERoJjk6p94jD3R4TY8a8mK3a9kHqDu91wzHRgKR0WqyvPEQbpAXnAHc6wKYhhTIXDoxMI4jCMVa0HJdtE/PMpw+vcVcLC9JMWxjygdI2KQHOMhVAcYhOci6ZBUHXhRAogICUCeDa9m/EJK9ssvdrMVHDCWGIpNxlS5EVjpsnJ1BQECiRTEogkRMaAACsUBA+oTS3d9d9czbzxkxudmLZNkksYrh/K3aemTA5UwKmABQ5qGMpiqUBAB6oAFRPMkM5JEw8xMPGb0RkkNiFMTurx9wX2S4u2dlrcWXeSm0hphZ9g+ZruOcqKlM2BMuBQqRRWHWsoYqh6lOBh7cIkAT+s55N1oncvRkqF6SrMhp+6mzZZFo7OdLTEeiKIkVeHSAgg5EpgSTSA5QEBDrdX9RvMvltBYS0zVSxz+Vz6XSaXOpa/NIXJE3D1QqYqFKisACdQqgj82ACBdQCJ9cfrq9e+5JWzLAbsjKvJgqxKqodg8BNuDgpwUXVOUmANCFAOlUpxERNQpArFbmZDLdu+IGq4cdZWQetEUiG6FHFfB+TJM9KkT+K83SmhmhiEmSJFiqoiTyeQBTAVzAWhWzgC1rQHZ+2g4/JLkuPXDN3J5veOpMFjS4rUFFpeoKAJnCYAJNALgS4BO5ROJQEAEWxaUqAkl2gvBvif2Mlc4TspMJFOlJkg3cpMmK6yhGarZuucwFM0cHDAdXQmPoDhiSNqLUQL9fxcvWb2jRkkruwmkzFNmc7p46YO0iqkSanXSooKCSekWPiSDqEwnEKkAQwRAIMlmz0PA8QtQILI8PMYbpta9W/J7nK1j3lkHN4KTlZG0hpyg5XliokSKZnotEBSuQUMICoJwUMqJhNrNiqIxMkFyszeSS1Vn7Q2pmhk3to2Lloqd0oZdNk0XRcgXGmcokOoppxA5TAYhVEw16OkWv/MFeq3m81lrG6d3M3LUqC50m8rfkVMmqC5Qc6NRMBTIXmpfmTiCignHANAARnSm+q+SZzxeUs7nZg0M4RbLC6ey14VsiqYjQDgJ8ICbqrKDgECiXQiAmGo4MkhiI1hn/AOYHyhxnimSW4HVHwnJ4x4VKnKcmO1zZE69n70nLlIjg6RGT5FaihBmKiqpllSuAMqJinMZQBppTlxVJUMPgryXrZmslM0k783+GYsEwAFpYZUESlRChAAzihilEPm8QCZMOwwiImG9n1t70moSh3K7KPjtp0wCaKoEZHUNLVW5lVnbVQcNcaxRRRTAQxYsYgFQpFmJX230ObIozE90M6bt0G+gVSCTudOuJ03pSqaIQGiZQQbmEAOAiKxOuUBobZZDDbUdEw3RMfOivcgJmOvjD09xX0+5IgpunMwC8EpAmD1JV4mlJ8IOqPzOkhUHTDiMmsqJwN+Q6tcfTzkr2tWYISp/fW5XF0pMklVSycS9R1LwQECk5wJC0MmZUTAGI5lBxD2iarsr1r6LQIyhZ5dsvI2jqYy0rjTyt2ddImml2nxEEAwgPO1wAdeDmqgjiobD7za8e+hveYeXM7uJg5s68mSjeVOV2eFNMjVurpznMQwnDTnqCRlSkIIFKYomA0ZZIgGtrgD5x37kAIZMKCBxO+aBu8FHlXJuncptOxmU4vWmE5Yc6b/Q3DQ5THIiBDAVQ4L0OJtAImES6zrrGAAA5ijnJTejfLreJOMDK3oX3PZxKV07DOAlzpzK25iklLxFRuqsLwXClF0QNgTIkkQ+IKdcpyiTEFa1ZG9i9CfXmSaz0/ujmEmlbtm40r9VBYSJqEAwKAJ8OEoAs3oTFQFE10jlENQH0OrB3qBPlruA9xUPW69w9+fuCy+nvRxl0fEpBntD7MBwk41sl96PKKsmu4eT27+cWhUmDdkqiiRidUG5TGeGMIg3bJmS1popimfSnLpQUxHABKNQY33X0S5S0zN7c/PHSrBYeauSSdypzkROgUpilIAFMGjUN1cRTBocVTAbq4LYAJ1jhD3/0VsMEkjUtg5bs58wvxTQlO62eXT8IRr/L7/L4BREqdxE8EDzAhcQy52BE01dKcxBESAcwgYoFMoBAKmJtYHoAmyLZqe2tVvOPIDg8Us4SRAtiUlqiSSDovNsBSLimBVMRVFhEQVPUSCXAnoxFTbwENNMnXwBK5smIj7pgrx9Vvd/w4lTLZyZhDiliL6re7/hxKmWzkzCHFLG9MbRwVFCPNoY5geEpBTejfLreJODzaGOYHhKQU3o3y63iTjmKrjiiJ70cZdHxKQZ7Q+zAcJOCe9HGXR8SkGe0PswHCTimu4YIjPaH2YDhJwluznzC/FNBntD7MBwk4S3Zz5hfimg3R4cErUX1W93/AA4lTLZyZhDiliL6re7/AIcSpls5MwhxSxvTG0cEFCPNoY5geEpB5tDHMDwlIPNoY5geEpB5tDHMDwlI5iq44oim9G+XW8ScE96OMuj4lIKb0b5dbxJwT3o4y6PiUi6O7FEZ7Q+zAcJOEt2c+YX4poM9ofZgOEnCW7OfML8U0G6PDglaSndbPLp+EIi+q3u/4cSpTutnl0/CERfVb3f8ONDPO0MVFKmWzkzCHFLB5tDHMDwlITLZyZhDilg82hjmB4SkZZzRv4KlFN6N8ut4k4J70cZdHxKQU3o3y63iTgnvRxl0fEpDR3YojPaH2YDhJwZ7Q+zAcJODPaH2YDhJwZ7Q+zAcJOBruGCJLdnPmF+KaIvqt7v+HEqW7OfML8U0RfVb3f8ADjQzztDFRSpls5MwhxSxS7abrSzBfCaKpMtnJmEOKWKXbTdaWYL4TRuS9oxecEaoVfhCEeRaVlXoXfP7wGkkTltofI7iSzTykVXC5HSfR1kRJibOG6pdS9alU/y0EBARi0pzyefLzqaC8tmsiymotxO2QYlNoQEySj0qYrHUAQcqt0DGBQp6ACgDj0giCETJHv3RrFBVJJ9+556aV6zS4ycTGW2SYdPh01l2xWJnqrBQXDtAiyRyAbRuCJmNhRIBgVIqmYwAcEyiABFv2a5JcokLtgitbWYryZkzaNfJzcqjQaptnaS4EWSVA5E1jvDqinrwjjABEDBgQinrRjX6x4oySzm+4Kv215PTa083VnEntjMZCoVuwatEWxlRQbkakXIUwpAqUh1C6cp01BDEmdIg1MFSjbDHktWnZTCWTIt877SMeblWInLjkTWKk4WVKJQ5xVMwAsJSiA0LVTUIHoCENdpib/YUIBAGoQ3L8b8l+26LQqJr9n5HAGfCLpvKhSUKDlomh1A5wJUxKdMyonKGMxjjU3aI3Y5uYmx7EWZsYvbJBZSTzDnSz88tU0igA7ByQiQA4okUokKTAYVExApap0KUoIQByYAVEeSrRyySdSv5h/ght/xROCEVGbbreZdTwjCEdHGaxf6LpKe2bvPFJls5MwhxSwebQxzA8JSEI0zmjfwXEopvRvl1vEnBPejjLo+JSEIaO7FEZ7Q+zAcJODPaH2YDhJwhA13DBEluznzC/FNEX1W93/DhCNDPO0MVFKmWzkzCHFLB5tDHMDwlIQjLOaN/BUo82hjmB4SkFN6N8ut4k4QiCq44oie9HGXR8SkGe0PswHCThCKa7hgiS3Zz5hfimiL6re7/AIcIRoZ52hiopU23W8y6nhGEy2cmYQ4pYQjLGjf6Ko82hjmB4SkFN6N8ut4k4QiCq44oie9HGXR8SkGe0PswHCThCKa7hgiM9ofZgOEnCW7OfML8U0IQbo8OCVqL6re7/hxKmWzkzCHFLCEb0xtHBBQjzaGOYHhKQebQxzA8JSEI5iq44oim9G+XW8ScE96OMuj4lIQi6O7FEZ7Q+zAcJOEt2c+YX4poQg3R4cErUX1W93/DiVNt1vMup4RhCN6Y2jggoSZbOTMIcUsHm0McwPCUhCMM5o38EKKb0b5dbxJwT3o4y6PiUhCGjuxRfLJJMHkwWBMoKGWIUxgDWIAkSgCPcFR/uMfTPaH2YDhJwhA13DBEluznzC/FNEX1W93/AA4QjQzztDFRSpls5MwhxSwebQxzA8JSEIyzmjfwVKPNoY5geEpBTejfLreJOEIgquOKInvRxl0fEpBntD7MBwk4Qimu4YIkt2c+YX4poSndbPLp+EIQiN6V/qgqUX1W93/DiVMtnJmEOKWEI6aY2jggoR5tDHMDwlIKb0b5dbxJwhHMVXHFET3o4y6PiUgz2h9mA4ScIRTXcMERntD7MBwk4S3Zz5hfimhCDdHhwStRfVb3f8OJUy2cmYQ4pYQjemNo4IKEebQxzA8JSDzaGOYHhKQhHMVXHFEU3o3y63iTgnvRxl0fEpCEXR3YojPaH2YDhJwluznzC/FNCEG6PDglaSndbPLp+EIi+q3u/wCHCEaGedoYqKVMtnJmEOKWDzaGOYHhKQhGWc0b+CpRTejfLreJOCe9HGXR8SkIQ0d2KIz2h9mA4ScGe0PswHCThCBruGCJLdnPmF+KaIvqt7v+HCEaGedoYqKVMtnJmEOKWKXbTdaWYL4TQhG5L2jF5wRqhf/Z)"
      ],
      "metadata": {
        "id": "jo7t-h4kXFHv"
      }
    }
  ],
  "metadata": {
    "colab": {
      "collapsed_sections": [],
      "name": "CoLab_TermProj_2022_3.ipynb.txt",
      "provenance": [],
      "include_colab_link": true
    },
    "kernelspec": {
      "display_name": "Python 3",
      "name": "python3"
    }
  },
  "nbformat": 4,
  "nbformat_minor": 0
}